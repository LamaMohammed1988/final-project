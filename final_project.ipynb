{
 "cells": [
  {
   "cell_type": "markdown",
   "id": "65fd0605",
   "metadata": {},
   "source": [
    "# Step 0: Imports"
   ]
  },
  {
   "cell_type": "code",
   "execution_count": 410,
   "id": "92c3e4ae",
   "metadata": {},
   "outputs": [],
   "source": [
    "import pandas as pd\n",
    "import numpy as np\n",
    "import seaborn as sb\n",
    "import matplotlib.pyplot as plt\n",
    "import nltk\n",
    "from nltk.tokenize import word_tokenize\n",
    "from nltk.corpus import stopwords\n",
    "import string\n",
    "%matplotlib inline\n"
   ]
  },
  {
   "cell_type": "markdown",
   "id": "a73d7486",
   "metadata": {},
   "source": [
    "# step 1 : Read a data "
   ]
  },
  {
   "cell_type": "code",
   "execution_count": 411,
   "id": "4d8fc3a0",
   "metadata": {},
   "outputs": [],
   "source": [
    "df = pd.read_csv('data.csv')"
   ]
  },
  {
   "cell_type": "code",
   "execution_count": 412,
   "id": "82f969c8",
   "metadata": {},
   "outputs": [
    {
     "data": {
      "text/html": [
       "<div>\n",
       "<style scoped>\n",
       "    .dataframe tbody tr th:only-of-type {\n",
       "        vertical-align: middle;\n",
       "    }\n",
       "\n",
       "    .dataframe tbody tr th {\n",
       "        vertical-align: top;\n",
       "    }\n",
       "\n",
       "    .dataframe thead th {\n",
       "        text-align: right;\n",
       "    }\n",
       "</style>\n",
       "<table border=\"1\" class=\"dataframe\">\n",
       "  <thead>\n",
       "    <tr style=\"text-align: right;\">\n",
       "      <th></th>\n",
       "      <th>_unit_id</th>\n",
       "      <th>_golden</th>\n",
       "      <th>_unit_state</th>\n",
       "      <th>_trusted_judgments</th>\n",
       "      <th>_last_judgment_at</th>\n",
       "      <th>gender</th>\n",
       "      <th>gender:confidence</th>\n",
       "      <th>profile_yn</th>\n",
       "      <th>profile_yn:confidence</th>\n",
       "      <th>created</th>\n",
       "      <th>...</th>\n",
       "      <th>profileimage</th>\n",
       "      <th>retweet_count</th>\n",
       "      <th>sidebar_color</th>\n",
       "      <th>text</th>\n",
       "      <th>tweet_coord</th>\n",
       "      <th>tweet_count</th>\n",
       "      <th>tweet_created</th>\n",
       "      <th>tweet_id</th>\n",
       "      <th>tweet_location</th>\n",
       "      <th>user_timezone</th>\n",
       "    </tr>\n",
       "  </thead>\n",
       "  <tbody>\n",
       "    <tr>\n",
       "      <th>0</th>\n",
       "      <td>815719226</td>\n",
       "      <td>False</td>\n",
       "      <td>finalized</td>\n",
       "      <td>3</td>\n",
       "      <td>10/26/2015 23:24</td>\n",
       "      <td>male</td>\n",
       "      <td>1.0000</td>\n",
       "      <td>yes</td>\n",
       "      <td>1.0</td>\n",
       "      <td>12/5/2013 1:48</td>\n",
       "      <td>...</td>\n",
       "      <td>https://pbs.twimg.com/profile_images/414342229...</td>\n",
       "      <td>0</td>\n",
       "      <td>FFFFFF</td>\n",
       "      <td>Robbie E Responds To Critics After Win Against...</td>\n",
       "      <td>NaN</td>\n",
       "      <td>110964</td>\n",
       "      <td>10/26/2015 12:40</td>\n",
       "      <td>6.590000e+17</td>\n",
       "      <td>main; @Kan1shk3</td>\n",
       "      <td>Chennai</td>\n",
       "    </tr>\n",
       "    <tr>\n",
       "      <th>1</th>\n",
       "      <td>815719227</td>\n",
       "      <td>False</td>\n",
       "      <td>finalized</td>\n",
       "      <td>3</td>\n",
       "      <td>10/26/2015 23:30</td>\n",
       "      <td>male</td>\n",
       "      <td>1.0000</td>\n",
       "      <td>yes</td>\n",
       "      <td>1.0</td>\n",
       "      <td>10/1/2012 13:51</td>\n",
       "      <td>...</td>\n",
       "      <td>https://pbs.twimg.com/profile_images/539604221...</td>\n",
       "      <td>0</td>\n",
       "      <td>C0DEED</td>\n",
       "      <td>‰غدIt felt like they were my friends and I was...</td>\n",
       "      <td>NaN</td>\n",
       "      <td>7471</td>\n",
       "      <td>10/26/2015 12:40</td>\n",
       "      <td>6.590000e+17</td>\n",
       "      <td>NaN</td>\n",
       "      <td>Eastern Time (US &amp; Canada)</td>\n",
       "    </tr>\n",
       "    <tr>\n",
       "      <th>2</th>\n",
       "      <td>815719228</td>\n",
       "      <td>False</td>\n",
       "      <td>finalized</td>\n",
       "      <td>3</td>\n",
       "      <td>10/26/2015 23:33</td>\n",
       "      <td>male</td>\n",
       "      <td>0.6625</td>\n",
       "      <td>yes</td>\n",
       "      <td>1.0</td>\n",
       "      <td>11/28/2014 11:30</td>\n",
       "      <td>...</td>\n",
       "      <td>https://pbs.twimg.com/profile_images/657330418...</td>\n",
       "      <td>1</td>\n",
       "      <td>C0DEED</td>\n",
       "      <td>i absolutely adore when louis starts the songs...</td>\n",
       "      <td>NaN</td>\n",
       "      <td>5617</td>\n",
       "      <td>10/26/2015 12:40</td>\n",
       "      <td>6.590000e+17</td>\n",
       "      <td>clcncl</td>\n",
       "      <td>Belgrade</td>\n",
       "    </tr>\n",
       "    <tr>\n",
       "      <th>3</th>\n",
       "      <td>815719229</td>\n",
       "      <td>False</td>\n",
       "      <td>finalized</td>\n",
       "      <td>3</td>\n",
       "      <td>10/26/2015 23:10</td>\n",
       "      <td>male</td>\n",
       "      <td>1.0000</td>\n",
       "      <td>yes</td>\n",
       "      <td>1.0</td>\n",
       "      <td>6/11/2009 22:39</td>\n",
       "      <td>...</td>\n",
       "      <td>https://pbs.twimg.com/profile_images/259703936...</td>\n",
       "      <td>0</td>\n",
       "      <td>C0DEED</td>\n",
       "      <td>Hi @JordanSpieth - Looking at the url - do you...</td>\n",
       "      <td>NaN</td>\n",
       "      <td>1693</td>\n",
       "      <td>10/26/2015 12:40</td>\n",
       "      <td>6.590000e+17</td>\n",
       "      <td>Palo Alto, CA</td>\n",
       "      <td>Pacific Time (US &amp; Canada)</td>\n",
       "    </tr>\n",
       "    <tr>\n",
       "      <th>4</th>\n",
       "      <td>815719230</td>\n",
       "      <td>False</td>\n",
       "      <td>finalized</td>\n",
       "      <td>3</td>\n",
       "      <td>10/27/2015 1:15</td>\n",
       "      <td>female</td>\n",
       "      <td>1.0000</td>\n",
       "      <td>yes</td>\n",
       "      <td>1.0</td>\n",
       "      <td>4/16/2014 13:23</td>\n",
       "      <td>...</td>\n",
       "      <td>https://pbs.twimg.com/profile_images/564094871...</td>\n",
       "      <td>0</td>\n",
       "      <td>0</td>\n",
       "      <td>Watching Neighbours on Sky+ catching up with t...</td>\n",
       "      <td>NaN</td>\n",
       "      <td>31462</td>\n",
       "      <td>10/26/2015 12:40</td>\n",
       "      <td>6.590000e+17</td>\n",
       "      <td>NaN</td>\n",
       "      <td>NaN</td>\n",
       "    </tr>\n",
       "  </tbody>\n",
       "</table>\n",
       "<p>5 rows × 26 columns</p>\n",
       "</div>"
      ],
      "text/plain": [
       "    _unit_id  _golden _unit_state  _trusted_judgments _last_judgment_at  \\\n",
       "0  815719226    False   finalized                   3  10/26/2015 23:24   \n",
       "1  815719227    False   finalized                   3  10/26/2015 23:30   \n",
       "2  815719228    False   finalized                   3  10/26/2015 23:33   \n",
       "3  815719229    False   finalized                   3  10/26/2015 23:10   \n",
       "4  815719230    False   finalized                   3   10/27/2015 1:15   \n",
       "\n",
       "   gender  gender:confidence profile_yn  profile_yn:confidence  \\\n",
       "0    male             1.0000        yes                    1.0   \n",
       "1    male             1.0000        yes                    1.0   \n",
       "2    male             0.6625        yes                    1.0   \n",
       "3    male             1.0000        yes                    1.0   \n",
       "4  female             1.0000        yes                    1.0   \n",
       "\n",
       "            created  ...                                       profileimage  \\\n",
       "0    12/5/2013 1:48  ...  https://pbs.twimg.com/profile_images/414342229...   \n",
       "1   10/1/2012 13:51  ...  https://pbs.twimg.com/profile_images/539604221...   \n",
       "2  11/28/2014 11:30  ...  https://pbs.twimg.com/profile_images/657330418...   \n",
       "3   6/11/2009 22:39  ...  https://pbs.twimg.com/profile_images/259703936...   \n",
       "4   4/16/2014 13:23  ...  https://pbs.twimg.com/profile_images/564094871...   \n",
       "\n",
       "   retweet_count sidebar_color  \\\n",
       "0              0        FFFFFF   \n",
       "1              0        C0DEED   \n",
       "2              1        C0DEED   \n",
       "3              0        C0DEED   \n",
       "4              0             0   \n",
       "\n",
       "                                                text tweet_coord tweet_count  \\\n",
       "0  Robbie E Responds To Critics After Win Against...         NaN      110964   \n",
       "1  ‰غدIt felt like they were my friends and I was...         NaN        7471   \n",
       "2  i absolutely adore when louis starts the songs...         NaN        5617   \n",
       "3  Hi @JordanSpieth - Looking at the url - do you...         NaN        1693   \n",
       "4  Watching Neighbours on Sky+ catching up with t...         NaN       31462   \n",
       "\n",
       "      tweet_created      tweet_id   tweet_location               user_timezone  \n",
       "0  10/26/2015 12:40  6.590000e+17  main; @Kan1shk3                     Chennai  \n",
       "1  10/26/2015 12:40  6.590000e+17              NaN  Eastern Time (US & Canada)  \n",
       "2  10/26/2015 12:40  6.590000e+17           clcncl                    Belgrade  \n",
       "3  10/26/2015 12:40  6.590000e+17    Palo Alto, CA  Pacific Time (US & Canada)  \n",
       "4  10/26/2015 12:40  6.590000e+17              NaN                         NaN  \n",
       "\n",
       "[5 rows x 26 columns]"
      ]
     },
     "execution_count": 412,
     "metadata": {},
     "output_type": "execute_result"
    }
   ],
   "source": [
    "df.head()"
   ]
  },
  {
   "cell_type": "code",
   "execution_count": 413,
   "id": "6ea2e524",
   "metadata": {},
   "outputs": [
    {
     "name": "stdout",
     "output_type": "stream",
     "text": [
      "<class 'pandas.core.frame.DataFrame'>\n",
      "RangeIndex: 20050 entries, 0 to 20049\n",
      "Data columns (total 26 columns):\n",
      " #   Column                 Non-Null Count  Dtype  \n",
      "---  ------                 --------------  -----  \n",
      " 0   _unit_id               20050 non-null  int64  \n",
      " 1   _golden                20050 non-null  bool   \n",
      " 2   _unit_state            20050 non-null  object \n",
      " 3   _trusted_judgments     20050 non-null  int64  \n",
      " 4   _last_judgment_at      20000 non-null  object \n",
      " 5   gender                 19953 non-null  object \n",
      " 6   gender:confidence      20024 non-null  float64\n",
      " 7   profile_yn             20050 non-null  object \n",
      " 8   profile_yn:confidence  20050 non-null  float64\n",
      " 9   created                20050 non-null  object \n",
      " 10  description            16306 non-null  object \n",
      " 11  fav_number             20050 non-null  int64  \n",
      " 12  gender_gold            50 non-null     object \n",
      " 13  link_color             20050 non-null  object \n",
      " 14  name                   20050 non-null  object \n",
      " 15  profile_yn_gold        50 non-null     object \n",
      " 16  profileimage           20050 non-null  object \n",
      " 17  retweet_count          20050 non-null  int64  \n",
      " 18  sidebar_color          20050 non-null  object \n",
      " 19  text                   20050 non-null  object \n",
      " 20  tweet_coord            159 non-null    object \n",
      " 21  tweet_count            20050 non-null  int64  \n",
      " 22  tweet_created          20050 non-null  object \n",
      " 23  tweet_id               20050 non-null  float64\n",
      " 24  tweet_location         12566 non-null  object \n",
      " 25  user_timezone          12252 non-null  object \n",
      "dtypes: bool(1), float64(3), int64(5), object(17)\n",
      "memory usage: 3.8+ MB\n"
     ]
    }
   ],
   "source": [
    "df.info()"
   ]
  },
  {
   "cell_type": "code",
   "execution_count": 414,
   "id": "6cc6b22b",
   "metadata": {},
   "outputs": [
    {
     "data": {
      "text/plain": [
       "(20050, 26)"
      ]
     },
     "execution_count": 414,
     "metadata": {},
     "output_type": "execute_result"
    }
   ],
   "source": [
    "df.shape"
   ]
  },
  {
   "cell_type": "markdown",
   "id": "251e8157",
   "metadata": {},
   "source": [
    "# step 3 : Cleaning Data"
   ]
  },
  {
   "cell_type": "code",
   "execution_count": 415,
   "id": "0dec2d79",
   "metadata": {},
   "outputs": [],
   "source": [
    "df = df.drop(['gender_gold','profile_yn_gold','tweet_coord','tweet_id','tweet_location','user_timezone'],axis = 1)"
   ]
  },
  {
   "cell_type": "code",
   "execution_count": 223,
   "id": "fe20c825",
   "metadata": {},
   "outputs": [
    {
     "data": {
      "text/html": [
       "<div>\n",
       "<style scoped>\n",
       "    .dataframe tbody tr th:only-of-type {\n",
       "        vertical-align: middle;\n",
       "    }\n",
       "\n",
       "    .dataframe tbody tr th {\n",
       "        vertical-align: top;\n",
       "    }\n",
       "\n",
       "    .dataframe thead th {\n",
       "        text-align: right;\n",
       "    }\n",
       "</style>\n",
       "<table border=\"1\" class=\"dataframe\">\n",
       "  <thead>\n",
       "    <tr style=\"text-align: right;\">\n",
       "      <th></th>\n",
       "      <th>_unit_id</th>\n",
       "      <th>_golden</th>\n",
       "      <th>_unit_state</th>\n",
       "      <th>_trusted_judgments</th>\n",
       "      <th>_last_judgment_at</th>\n",
       "      <th>gender</th>\n",
       "      <th>gender:confidence</th>\n",
       "      <th>profile_yn</th>\n",
       "      <th>profile_yn:confidence</th>\n",
       "      <th>created</th>\n",
       "      <th>description</th>\n",
       "      <th>fav_number</th>\n",
       "      <th>link_color</th>\n",
       "      <th>name</th>\n",
       "      <th>profileimage</th>\n",
       "      <th>retweet_count</th>\n",
       "      <th>sidebar_color</th>\n",
       "      <th>text</th>\n",
       "      <th>tweet_count</th>\n",
       "      <th>tweet_created</th>\n",
       "    </tr>\n",
       "  </thead>\n",
       "  <tbody>\n",
       "    <tr>\n",
       "      <th>0</th>\n",
       "      <td>815719226</td>\n",
       "      <td>False</td>\n",
       "      <td>finalized</td>\n",
       "      <td>3</td>\n",
       "      <td>10/26/2015 23:24</td>\n",
       "      <td>male</td>\n",
       "      <td>1.0000</td>\n",
       "      <td>yes</td>\n",
       "      <td>1.0</td>\n",
       "      <td>12/5/2013 1:48</td>\n",
       "      <td>i sing my own rhythm.</td>\n",
       "      <td>0</td>\n",
       "      <td>08C2C2</td>\n",
       "      <td>sheezy0</td>\n",
       "      <td>https://pbs.twimg.com/profile_images/414342229...</td>\n",
       "      <td>0</td>\n",
       "      <td>FFFFFF</td>\n",
       "      <td>Robbie E Responds To Critics After Win Against...</td>\n",
       "      <td>110964</td>\n",
       "      <td>10/26/2015 12:40</td>\n",
       "    </tr>\n",
       "    <tr>\n",
       "      <th>1</th>\n",
       "      <td>815719227</td>\n",
       "      <td>False</td>\n",
       "      <td>finalized</td>\n",
       "      <td>3</td>\n",
       "      <td>10/26/2015 23:30</td>\n",
       "      <td>male</td>\n",
       "      <td>1.0000</td>\n",
       "      <td>yes</td>\n",
       "      <td>1.0</td>\n",
       "      <td>10/1/2012 13:51</td>\n",
       "      <td>I'm the author of novels filled with family dr...</td>\n",
       "      <td>68</td>\n",
       "      <td>0084B4</td>\n",
       "      <td>DavdBurnett</td>\n",
       "      <td>https://pbs.twimg.com/profile_images/539604221...</td>\n",
       "      <td>0</td>\n",
       "      <td>C0DEED</td>\n",
       "      <td>‰غدIt felt like they were my friends and I was...</td>\n",
       "      <td>7471</td>\n",
       "      <td>10/26/2015 12:40</td>\n",
       "    </tr>\n",
       "    <tr>\n",
       "      <th>2</th>\n",
       "      <td>815719228</td>\n",
       "      <td>False</td>\n",
       "      <td>finalized</td>\n",
       "      <td>3</td>\n",
       "      <td>10/26/2015 23:33</td>\n",
       "      <td>male</td>\n",
       "      <td>0.6625</td>\n",
       "      <td>yes</td>\n",
       "      <td>1.0</td>\n",
       "      <td>11/28/2014 11:30</td>\n",
       "      <td>louis whining and squealing and all</td>\n",
       "      <td>7696</td>\n",
       "      <td>ABB8C2</td>\n",
       "      <td>lwtprettylaugh</td>\n",
       "      <td>https://pbs.twimg.com/profile_images/657330418...</td>\n",
       "      <td>1</td>\n",
       "      <td>C0DEED</td>\n",
       "      <td>i absolutely adore when louis starts the songs...</td>\n",
       "      <td>5617</td>\n",
       "      <td>10/26/2015 12:40</td>\n",
       "    </tr>\n",
       "    <tr>\n",
       "      <th>3</th>\n",
       "      <td>815719229</td>\n",
       "      <td>False</td>\n",
       "      <td>finalized</td>\n",
       "      <td>3</td>\n",
       "      <td>10/26/2015 23:10</td>\n",
       "      <td>male</td>\n",
       "      <td>1.0000</td>\n",
       "      <td>yes</td>\n",
       "      <td>1.0</td>\n",
       "      <td>6/11/2009 22:39</td>\n",
       "      <td>Mobile guy.  49ers, Shazam, Google, Kleiner Pe...</td>\n",
       "      <td>202</td>\n",
       "      <td>0084B4</td>\n",
       "      <td>douggarland</td>\n",
       "      <td>https://pbs.twimg.com/profile_images/259703936...</td>\n",
       "      <td>0</td>\n",
       "      <td>C0DEED</td>\n",
       "      <td>Hi @JordanSpieth - Looking at the url - do you...</td>\n",
       "      <td>1693</td>\n",
       "      <td>10/26/2015 12:40</td>\n",
       "    </tr>\n",
       "    <tr>\n",
       "      <th>4</th>\n",
       "      <td>815719230</td>\n",
       "      <td>False</td>\n",
       "      <td>finalized</td>\n",
       "      <td>3</td>\n",
       "      <td>10/27/2015 1:15</td>\n",
       "      <td>female</td>\n",
       "      <td>1.0000</td>\n",
       "      <td>yes</td>\n",
       "      <td>1.0</td>\n",
       "      <td>4/16/2014 13:23</td>\n",
       "      <td>Ricky Wilson The Best FRONTMAN/Kaiser Chiefs T...</td>\n",
       "      <td>37318</td>\n",
       "      <td>3B94D9</td>\n",
       "      <td>WilfordGemma</td>\n",
       "      <td>https://pbs.twimg.com/profile_images/564094871...</td>\n",
       "      <td>0</td>\n",
       "      <td>0</td>\n",
       "      <td>Watching Neighbours on Sky+ catching up with t...</td>\n",
       "      <td>31462</td>\n",
       "      <td>10/26/2015 12:40</td>\n",
       "    </tr>\n",
       "  </tbody>\n",
       "</table>\n",
       "</div>"
      ],
      "text/plain": [
       "    _unit_id  _golden _unit_state  _trusted_judgments _last_judgment_at  \\\n",
       "0  815719226    False   finalized                   3  10/26/2015 23:24   \n",
       "1  815719227    False   finalized                   3  10/26/2015 23:30   \n",
       "2  815719228    False   finalized                   3  10/26/2015 23:33   \n",
       "3  815719229    False   finalized                   3  10/26/2015 23:10   \n",
       "4  815719230    False   finalized                   3   10/27/2015 1:15   \n",
       "\n",
       "   gender  gender:confidence profile_yn  profile_yn:confidence  \\\n",
       "0    male             1.0000        yes                    1.0   \n",
       "1    male             1.0000        yes                    1.0   \n",
       "2    male             0.6625        yes                    1.0   \n",
       "3    male             1.0000        yes                    1.0   \n",
       "4  female             1.0000        yes                    1.0   \n",
       "\n",
       "            created                                        description  \\\n",
       "0    12/5/2013 1:48                              i sing my own rhythm.   \n",
       "1   10/1/2012 13:51  I'm the author of novels filled with family dr...   \n",
       "2  11/28/2014 11:30                louis whining and squealing and all   \n",
       "3   6/11/2009 22:39  Mobile guy.  49ers, Shazam, Google, Kleiner Pe...   \n",
       "4   4/16/2014 13:23  Ricky Wilson The Best FRONTMAN/Kaiser Chiefs T...   \n",
       "\n",
       "   fav_number link_color            name  \\\n",
       "0           0     08C2C2         sheezy0   \n",
       "1          68     0084B4     DavdBurnett   \n",
       "2        7696     ABB8C2  lwtprettylaugh   \n",
       "3         202     0084B4     douggarland   \n",
       "4       37318     3B94D9    WilfordGemma   \n",
       "\n",
       "                                        profileimage  retweet_count  \\\n",
       "0  https://pbs.twimg.com/profile_images/414342229...              0   \n",
       "1  https://pbs.twimg.com/profile_images/539604221...              0   \n",
       "2  https://pbs.twimg.com/profile_images/657330418...              1   \n",
       "3  https://pbs.twimg.com/profile_images/259703936...              0   \n",
       "4  https://pbs.twimg.com/profile_images/564094871...              0   \n",
       "\n",
       "  sidebar_color                                               text  \\\n",
       "0        FFFFFF  Robbie E Responds To Critics After Win Against...   \n",
       "1        C0DEED  ‰غدIt felt like they were my friends and I was...   \n",
       "2        C0DEED  i absolutely adore when louis starts the songs...   \n",
       "3        C0DEED  Hi @JordanSpieth - Looking at the url - do you...   \n",
       "4             0  Watching Neighbours on Sky+ catching up with t...   \n",
       "\n",
       "   tweet_count     tweet_created  \n",
       "0       110964  10/26/2015 12:40  \n",
       "1         7471  10/26/2015 12:40  \n",
       "2         5617  10/26/2015 12:40  \n",
       "3         1693  10/26/2015 12:40  \n",
       "4        31462  10/26/2015 12:40  "
      ]
     },
     "execution_count": 223,
     "metadata": {},
     "output_type": "execute_result"
    }
   ],
   "source": [
    "df.head()"
   ]
  },
  {
   "cell_type": "code",
   "execution_count": 224,
   "id": "47ed4a9b",
   "metadata": {},
   "outputs": [
    {
     "data": {
      "text/plain": [
       "(20050, 20)"
      ]
     },
     "execution_count": 224,
     "metadata": {},
     "output_type": "execute_result"
    }
   ],
   "source": [
    "df.shape"
   ]
  },
  {
   "cell_type": "code",
   "execution_count": 225,
   "id": "da89b8e3",
   "metadata": {},
   "outputs": [
    {
     "data": {
      "text/plain": [
       "_unit_id                    0\n",
       "_golden                     0\n",
       "_unit_state                 0\n",
       "_trusted_judgments          0\n",
       "_last_judgment_at          50\n",
       "gender                     97\n",
       "gender:confidence          26\n",
       "profile_yn                  0\n",
       "profile_yn:confidence       0\n",
       "created                     0\n",
       "description              3744\n",
       "fav_number                  0\n",
       "link_color                  0\n",
       "name                        0\n",
       "profileimage                0\n",
       "retweet_count               0\n",
       "sidebar_color               0\n",
       "text                        0\n",
       "tweet_count                 0\n",
       "tweet_created               0\n",
       "dtype: int64"
      ]
     },
     "execution_count": 225,
     "metadata": {},
     "output_type": "execute_result"
    }
   ],
   "source": [
    "df.isnull().sum()"
   ]
  },
  {
   "cell_type": "code",
   "execution_count": 226,
   "id": "439d9b68",
   "metadata": {},
   "outputs": [],
   "source": [
    "##أمر unique() لمعرفة محتويات المصفوفة او ليست او القائمة و وضعها في مصفوفة "
   ]
  },
  {
   "cell_type": "code",
   "execution_count": 227,
   "id": "30bdb838",
   "metadata": {},
   "outputs": [
    {
     "data": {
      "text/plain": [
       "array(['male', 'female', 'brand', 'unknown', nan], dtype=object)"
      ]
     },
     "execution_count": 227,
     "metadata": {},
     "output_type": "execute_result"
    }
   ],
   "source": [
    "df['gender'].unique()"
   ]
  },
  {
   "cell_type": "code",
   "execution_count": 228,
   "id": "beb44fb9",
   "metadata": {},
   "outputs": [],
   "source": [
    "df = df[df['gender'] != 'nan']"
   ]
  },
  {
   "cell_type": "code",
   "execution_count": 229,
   "id": "936acae7",
   "metadata": {},
   "outputs": [
    {
     "name": "stdout",
     "output_type": "stream",
     "text": [
      "<class 'pandas.core.frame.DataFrame'>\n",
      "Int64Index: 20050 entries, 0 to 20049\n",
      "Data columns (total 20 columns):\n",
      " #   Column                 Non-Null Count  Dtype  \n",
      "---  ------                 --------------  -----  \n",
      " 0   _unit_id               20050 non-null  int64  \n",
      " 1   _golden                20050 non-null  bool   \n",
      " 2   _unit_state            20050 non-null  object \n",
      " 3   _trusted_judgments     20050 non-null  int64  \n",
      " 4   _last_judgment_at      20000 non-null  object \n",
      " 5   gender                 19953 non-null  object \n",
      " 6   gender:confidence      20024 non-null  float64\n",
      " 7   profile_yn             20050 non-null  object \n",
      " 8   profile_yn:confidence  20050 non-null  float64\n",
      " 9   created                20050 non-null  object \n",
      " 10  description            16306 non-null  object \n",
      " 11  fav_number             20050 non-null  int64  \n",
      " 12  link_color             20050 non-null  object \n",
      " 13  name                   20050 non-null  object \n",
      " 14  profileimage           20050 non-null  object \n",
      " 15  retweet_count          20050 non-null  int64  \n",
      " 16  sidebar_color          20050 non-null  object \n",
      " 17  text                   20050 non-null  object \n",
      " 18  tweet_count            20050 non-null  int64  \n",
      " 19  tweet_created          20050 non-null  object \n",
      "dtypes: bool(1), float64(2), int64(5), object(12)\n",
      "memory usage: 3.1+ MB\n"
     ]
    }
   ],
   "source": [
    "df.info()"
   ]
  },
  {
   "cell_type": "code",
   "execution_count": 230,
   "id": "76c184cf",
   "metadata": {},
   "outputs": [],
   "source": [
    "# حذف الصفوف ذات القيم الفارغة في عمود gender "
   ]
  },
  {
   "cell_type": "code",
   "execution_count": 231,
   "id": "a5d47dcd",
   "metadata": {},
   "outputs": [],
   "source": [
    "df = df.dropna(subset = ['gender'])"
   ]
  },
  {
   "cell_type": "code",
   "execution_count": 232,
   "id": "6f874a64",
   "metadata": {},
   "outputs": [
    {
     "name": "stdout",
     "output_type": "stream",
     "text": [
      "<class 'pandas.core.frame.DataFrame'>\n",
      "Int64Index: 19953 entries, 0 to 20049\n",
      "Data columns (total 20 columns):\n",
      " #   Column                 Non-Null Count  Dtype  \n",
      "---  ------                 --------------  -----  \n",
      " 0   _unit_id               19953 non-null  int64  \n",
      " 1   _golden                19953 non-null  bool   \n",
      " 2   _unit_state            19953 non-null  object \n",
      " 3   _trusted_judgments     19953 non-null  int64  \n",
      " 4   _last_judgment_at      19903 non-null  object \n",
      " 5   gender                 19953 non-null  object \n",
      " 6   gender:confidence      19953 non-null  float64\n",
      " 7   profile_yn             19953 non-null  object \n",
      " 8   profile_yn:confidence  19953 non-null  float64\n",
      " 9   created                19953 non-null  object \n",
      " 10  description            16224 non-null  object \n",
      " 11  fav_number             19953 non-null  int64  \n",
      " 12  link_color             19953 non-null  object \n",
      " 13  name                   19953 non-null  object \n",
      " 14  profileimage           19953 non-null  object \n",
      " 15  retweet_count          19953 non-null  int64  \n",
      " 16  sidebar_color          19953 non-null  object \n",
      " 17  text                   19953 non-null  object \n",
      " 18  tweet_count            19953 non-null  int64  \n",
      " 19  tweet_created          19953 non-null  object \n",
      "dtypes: bool(1), float64(2), int64(5), object(12)\n",
      "memory usage: 3.1+ MB\n"
     ]
    }
   ],
   "source": [
    "df.info()"
   ]
  },
  {
   "cell_type": "code",
   "execution_count": 233,
   "id": "a95b179a",
   "metadata": {},
   "outputs": [],
   "source": [
    "# ملء القيم التي تحوي على nan بمسافة فارغة "
   ]
  },
  {
   "cell_type": "code",
   "execution_count": 234,
   "id": "7a26ead4",
   "metadata": {},
   "outputs": [],
   "source": [
    "df = df.replace(np.nan, '', regex = True)"
   ]
  },
  {
   "cell_type": "code",
   "execution_count": 235,
   "id": "ad493ba9",
   "metadata": {},
   "outputs": [],
   "source": [
    "df = df[df['gender'] != 'unknown']"
   ]
  },
  {
   "cell_type": "code",
   "execution_count": 236,
   "id": "bf2b7896",
   "metadata": {},
   "outputs": [
    {
     "data": {
      "text/plain": [
       "_unit_id                 0\n",
       "_golden                  0\n",
       "_unit_state              0\n",
       "_trusted_judgments       0\n",
       "_last_judgment_at        0\n",
       "gender                   0\n",
       "gender:confidence        0\n",
       "profile_yn               0\n",
       "profile_yn:confidence    0\n",
       "created                  0\n",
       "description              0\n",
       "fav_number               0\n",
       "link_color               0\n",
       "name                     0\n",
       "profileimage             0\n",
       "retweet_count            0\n",
       "sidebar_color            0\n",
       "text                     0\n",
       "tweet_count              0\n",
       "tweet_created            0\n",
       "dtype: int64"
      ]
     },
     "execution_count": 236,
     "metadata": {},
     "output_type": "execute_result"
    }
   ],
   "source": [
    "df.isnull().sum()"
   ]
  },
  {
   "cell_type": "code",
   "execution_count": 237,
   "id": "dd9b81c7",
   "metadata": {},
   "outputs": [
    {
     "name": "stdout",
     "output_type": "stream",
     "text": [
      "<class 'pandas.core.frame.DataFrame'>\n",
      "Int64Index: 18836 entries, 0 to 20049\n",
      "Data columns (total 20 columns):\n",
      " #   Column                 Non-Null Count  Dtype  \n",
      "---  ------                 --------------  -----  \n",
      " 0   _unit_id               18836 non-null  int64  \n",
      " 1   _golden                18836 non-null  bool   \n",
      " 2   _unit_state            18836 non-null  object \n",
      " 3   _trusted_judgments     18836 non-null  int64  \n",
      " 4   _last_judgment_at      18836 non-null  object \n",
      " 5   gender                 18836 non-null  object \n",
      " 6   gender:confidence      18836 non-null  float64\n",
      " 7   profile_yn             18836 non-null  object \n",
      " 8   profile_yn:confidence  18836 non-null  float64\n",
      " 9   created                18836 non-null  object \n",
      " 10  description            18836 non-null  object \n",
      " 11  fav_number             18836 non-null  int64  \n",
      " 12  link_color             18836 non-null  object \n",
      " 13  name                   18836 non-null  object \n",
      " 14  profileimage           18836 non-null  object \n",
      " 15  retweet_count          18836 non-null  int64  \n",
      " 16  sidebar_color          18836 non-null  object \n",
      " 17  text                   18836 non-null  object \n",
      " 18  tweet_count            18836 non-null  int64  \n",
      " 19  tweet_created          18836 non-null  object \n",
      "dtypes: bool(1), float64(2), int64(5), object(12)\n",
      "memory usage: 2.9+ MB\n"
     ]
    }
   ],
   "source": [
    "df.info()"
   ]
  },
  {
   "cell_type": "code",
   "execution_count": 238,
   "id": "5287af88",
   "metadata": {},
   "outputs": [
    {
     "data": {
      "text/plain": [
       "array(['male', 'female', 'brand'], dtype=object)"
      ]
     },
     "execution_count": 238,
     "metadata": {},
     "output_type": "execute_result"
    }
   ],
   "source": [
    "df['gender'].unique()"
   ]
  },
  {
   "cell_type": "code",
   "execution_count": 239,
   "id": "179f6311",
   "metadata": {},
   "outputs": [
    {
     "data": {
      "text/plain": [
       "(18836, 20)"
      ]
     },
     "execution_count": 239,
     "metadata": {},
     "output_type": "execute_result"
    }
   ],
   "source": [
    "df.shape"
   ]
  },
  {
   "cell_type": "code",
   "execution_count": 240,
   "id": "1b49def1",
   "metadata": {},
   "outputs": [],
   "source": [
    "# حذف بعض الأعمدة "
   ]
  },
  {
   "cell_type": "code",
   "execution_count": 241,
   "id": "39cf43a6",
   "metadata": {},
   "outputs": [],
   "source": [
    "df = df.drop(['_unit_state', 'created', 'tweet_created', 'sidebar_color', 'link_color', 'profileimage', '_last_judgment_at', '_trusted_judgments'],axis = 1)"
   ]
  },
  {
   "cell_type": "code",
   "execution_count": 242,
   "id": "de152e04",
   "metadata": {},
   "outputs": [
    {
     "data": {
      "text/html": [
       "<div>\n",
       "<style scoped>\n",
       "    .dataframe tbody tr th:only-of-type {\n",
       "        vertical-align: middle;\n",
       "    }\n",
       "\n",
       "    .dataframe tbody tr th {\n",
       "        vertical-align: top;\n",
       "    }\n",
       "\n",
       "    .dataframe thead th {\n",
       "        text-align: right;\n",
       "    }\n",
       "</style>\n",
       "<table border=\"1\" class=\"dataframe\">\n",
       "  <thead>\n",
       "    <tr style=\"text-align: right;\">\n",
       "      <th></th>\n",
       "      <th>_unit_id</th>\n",
       "      <th>_golden</th>\n",
       "      <th>gender</th>\n",
       "      <th>gender:confidence</th>\n",
       "      <th>profile_yn</th>\n",
       "      <th>profile_yn:confidence</th>\n",
       "      <th>description</th>\n",
       "      <th>fav_number</th>\n",
       "      <th>name</th>\n",
       "      <th>retweet_count</th>\n",
       "      <th>text</th>\n",
       "      <th>tweet_count</th>\n",
       "    </tr>\n",
       "  </thead>\n",
       "  <tbody>\n",
       "    <tr>\n",
       "      <th>0</th>\n",
       "      <td>815719226</td>\n",
       "      <td>False</td>\n",
       "      <td>male</td>\n",
       "      <td>1.0000</td>\n",
       "      <td>yes</td>\n",
       "      <td>1.0</td>\n",
       "      <td>i sing my own rhythm.</td>\n",
       "      <td>0</td>\n",
       "      <td>sheezy0</td>\n",
       "      <td>0</td>\n",
       "      <td>Robbie E Responds To Critics After Win Against...</td>\n",
       "      <td>110964</td>\n",
       "    </tr>\n",
       "    <tr>\n",
       "      <th>1</th>\n",
       "      <td>815719227</td>\n",
       "      <td>False</td>\n",
       "      <td>male</td>\n",
       "      <td>1.0000</td>\n",
       "      <td>yes</td>\n",
       "      <td>1.0</td>\n",
       "      <td>I'm the author of novels filled with family dr...</td>\n",
       "      <td>68</td>\n",
       "      <td>DavdBurnett</td>\n",
       "      <td>0</td>\n",
       "      <td>‰غدIt felt like they were my friends and I was...</td>\n",
       "      <td>7471</td>\n",
       "    </tr>\n",
       "    <tr>\n",
       "      <th>2</th>\n",
       "      <td>815719228</td>\n",
       "      <td>False</td>\n",
       "      <td>male</td>\n",
       "      <td>0.6625</td>\n",
       "      <td>yes</td>\n",
       "      <td>1.0</td>\n",
       "      <td>louis whining and squealing and all</td>\n",
       "      <td>7696</td>\n",
       "      <td>lwtprettylaugh</td>\n",
       "      <td>1</td>\n",
       "      <td>i absolutely adore when louis starts the songs...</td>\n",
       "      <td>5617</td>\n",
       "    </tr>\n",
       "    <tr>\n",
       "      <th>3</th>\n",
       "      <td>815719229</td>\n",
       "      <td>False</td>\n",
       "      <td>male</td>\n",
       "      <td>1.0000</td>\n",
       "      <td>yes</td>\n",
       "      <td>1.0</td>\n",
       "      <td>Mobile guy.  49ers, Shazam, Google, Kleiner Pe...</td>\n",
       "      <td>202</td>\n",
       "      <td>douggarland</td>\n",
       "      <td>0</td>\n",
       "      <td>Hi @JordanSpieth - Looking at the url - do you...</td>\n",
       "      <td>1693</td>\n",
       "    </tr>\n",
       "    <tr>\n",
       "      <th>4</th>\n",
       "      <td>815719230</td>\n",
       "      <td>False</td>\n",
       "      <td>female</td>\n",
       "      <td>1.0000</td>\n",
       "      <td>yes</td>\n",
       "      <td>1.0</td>\n",
       "      <td>Ricky Wilson The Best FRONTMAN/Kaiser Chiefs T...</td>\n",
       "      <td>37318</td>\n",
       "      <td>WilfordGemma</td>\n",
       "      <td>0</td>\n",
       "      <td>Watching Neighbours on Sky+ catching up with t...</td>\n",
       "      <td>31462</td>\n",
       "    </tr>\n",
       "  </tbody>\n",
       "</table>\n",
       "</div>"
      ],
      "text/plain": [
       "    _unit_id  _golden  gender  gender:confidence profile_yn  \\\n",
       "0  815719226    False    male             1.0000        yes   \n",
       "1  815719227    False    male             1.0000        yes   \n",
       "2  815719228    False    male             0.6625        yes   \n",
       "3  815719229    False    male             1.0000        yes   \n",
       "4  815719230    False  female             1.0000        yes   \n",
       "\n",
       "   profile_yn:confidence                                        description  \\\n",
       "0                    1.0                              i sing my own rhythm.   \n",
       "1                    1.0  I'm the author of novels filled with family dr...   \n",
       "2                    1.0                louis whining and squealing and all   \n",
       "3                    1.0  Mobile guy.  49ers, Shazam, Google, Kleiner Pe...   \n",
       "4                    1.0  Ricky Wilson The Best FRONTMAN/Kaiser Chiefs T...   \n",
       "\n",
       "   fav_number            name  retweet_count  \\\n",
       "0           0         sheezy0              0   \n",
       "1          68     DavdBurnett              0   \n",
       "2        7696  lwtprettylaugh              1   \n",
       "3         202     douggarland              0   \n",
       "4       37318    WilfordGemma              0   \n",
       "\n",
       "                                                text  tweet_count  \n",
       "0  Robbie E Responds To Critics After Win Against...       110964  \n",
       "1  ‰غدIt felt like they were my friends and I was...         7471  \n",
       "2  i absolutely adore when louis starts the songs...         5617  \n",
       "3  Hi @JordanSpieth - Looking at the url - do you...         1693  \n",
       "4  Watching Neighbours on Sky+ catching up with t...        31462  "
      ]
     },
     "execution_count": 242,
     "metadata": {},
     "output_type": "execute_result"
    }
   ],
   "source": [
    "df.head()"
   ]
  },
  {
   "cell_type": "code",
   "execution_count": 243,
   "id": "96a8af96",
   "metadata": {},
   "outputs": [
    {
     "data": {
      "text/plain": [
       "(18836, 12)"
      ]
     },
     "execution_count": 243,
     "metadata": {},
     "output_type": "execute_result"
    }
   ],
   "source": [
    "df.shape"
   ]
  },
  {
   "cell_type": "code",
   "execution_count": 244,
   "id": "71c5c564",
   "metadata": {},
   "outputs": [],
   "source": [
    "#LabelEnconder يستخدم في تصنيف القيم التي في العمود"
   ]
  },
  {
   "cell_type": "code",
   "execution_count": 245,
   "id": "d3a5edb5",
   "metadata": {},
   "outputs": [],
   "source": [
    "from sklearn.preprocessing import LabelEncoder\n",
    "labelen = LabelEncoder()"
   ]
  },
  {
   "cell_type": "code",
   "execution_count": 246,
   "id": "018a6c9b",
   "metadata": {},
   "outputs": [
    {
     "data": {
      "text/html": [
       "<div>\n",
       "<style scoped>\n",
       "    .dataframe tbody tr th:only-of-type {\n",
       "        vertical-align: middle;\n",
       "    }\n",
       "\n",
       "    .dataframe tbody tr th {\n",
       "        vertical-align: top;\n",
       "    }\n",
       "\n",
       "    .dataframe thead th {\n",
       "        text-align: right;\n",
       "    }\n",
       "</style>\n",
       "<table border=\"1\" class=\"dataframe\">\n",
       "  <thead>\n",
       "    <tr style=\"text-align: right;\">\n",
       "      <th></th>\n",
       "      <th>_unit_id</th>\n",
       "      <th>_golden</th>\n",
       "      <th>gender</th>\n",
       "      <th>gender:confidence</th>\n",
       "      <th>profile_yn</th>\n",
       "      <th>profile_yn:confidence</th>\n",
       "      <th>description</th>\n",
       "      <th>fav_number</th>\n",
       "      <th>name</th>\n",
       "      <th>retweet_count</th>\n",
       "      <th>text</th>\n",
       "      <th>tweet_count</th>\n",
       "      <th>gender1</th>\n",
       "      <th>profile_yn1</th>\n",
       "    </tr>\n",
       "  </thead>\n",
       "  <tbody>\n",
       "    <tr>\n",
       "      <th>0</th>\n",
       "      <td>815719226</td>\n",
       "      <td>False</td>\n",
       "      <td>male</td>\n",
       "      <td>1.0000</td>\n",
       "      <td>yes</td>\n",
       "      <td>1.0</td>\n",
       "      <td>i sing my own rhythm.</td>\n",
       "      <td>0</td>\n",
       "      <td>sheezy0</td>\n",
       "      <td>0</td>\n",
       "      <td>Robbie E Responds To Critics After Win Against...</td>\n",
       "      <td>110964</td>\n",
       "      <td>2</td>\n",
       "      <td>0</td>\n",
       "    </tr>\n",
       "    <tr>\n",
       "      <th>1</th>\n",
       "      <td>815719227</td>\n",
       "      <td>False</td>\n",
       "      <td>male</td>\n",
       "      <td>1.0000</td>\n",
       "      <td>yes</td>\n",
       "      <td>1.0</td>\n",
       "      <td>I'm the author of novels filled with family dr...</td>\n",
       "      <td>68</td>\n",
       "      <td>DavdBurnett</td>\n",
       "      <td>0</td>\n",
       "      <td>‰غدIt felt like they were my friends and I was...</td>\n",
       "      <td>7471</td>\n",
       "      <td>2</td>\n",
       "      <td>0</td>\n",
       "    </tr>\n",
       "    <tr>\n",
       "      <th>2</th>\n",
       "      <td>815719228</td>\n",
       "      <td>False</td>\n",
       "      <td>male</td>\n",
       "      <td>0.6625</td>\n",
       "      <td>yes</td>\n",
       "      <td>1.0</td>\n",
       "      <td>louis whining and squealing and all</td>\n",
       "      <td>7696</td>\n",
       "      <td>lwtprettylaugh</td>\n",
       "      <td>1</td>\n",
       "      <td>i absolutely adore when louis starts the songs...</td>\n",
       "      <td>5617</td>\n",
       "      <td>2</td>\n",
       "      <td>0</td>\n",
       "    </tr>\n",
       "    <tr>\n",
       "      <th>3</th>\n",
       "      <td>815719229</td>\n",
       "      <td>False</td>\n",
       "      <td>male</td>\n",
       "      <td>1.0000</td>\n",
       "      <td>yes</td>\n",
       "      <td>1.0</td>\n",
       "      <td>Mobile guy.  49ers, Shazam, Google, Kleiner Pe...</td>\n",
       "      <td>202</td>\n",
       "      <td>douggarland</td>\n",
       "      <td>0</td>\n",
       "      <td>Hi @JordanSpieth - Looking at the url - do you...</td>\n",
       "      <td>1693</td>\n",
       "      <td>2</td>\n",
       "      <td>0</td>\n",
       "    </tr>\n",
       "    <tr>\n",
       "      <th>4</th>\n",
       "      <td>815719230</td>\n",
       "      <td>False</td>\n",
       "      <td>female</td>\n",
       "      <td>1.0000</td>\n",
       "      <td>yes</td>\n",
       "      <td>1.0</td>\n",
       "      <td>Ricky Wilson The Best FRONTMAN/Kaiser Chiefs T...</td>\n",
       "      <td>37318</td>\n",
       "      <td>WilfordGemma</td>\n",
       "      <td>0</td>\n",
       "      <td>Watching Neighbours on Sky+ catching up with t...</td>\n",
       "      <td>31462</td>\n",
       "      <td>1</td>\n",
       "      <td>0</td>\n",
       "    </tr>\n",
       "  </tbody>\n",
       "</table>\n",
       "</div>"
      ],
      "text/plain": [
       "    _unit_id  _golden  gender  gender:confidence profile_yn  \\\n",
       "0  815719226    False    male             1.0000        yes   \n",
       "1  815719227    False    male             1.0000        yes   \n",
       "2  815719228    False    male             0.6625        yes   \n",
       "3  815719229    False    male             1.0000        yes   \n",
       "4  815719230    False  female             1.0000        yes   \n",
       "\n",
       "   profile_yn:confidence                                        description  \\\n",
       "0                    1.0                              i sing my own rhythm.   \n",
       "1                    1.0  I'm the author of novels filled with family dr...   \n",
       "2                    1.0                louis whining and squealing and all   \n",
       "3                    1.0  Mobile guy.  49ers, Shazam, Google, Kleiner Pe...   \n",
       "4                    1.0  Ricky Wilson The Best FRONTMAN/Kaiser Chiefs T...   \n",
       "\n",
       "   fav_number            name  retweet_count  \\\n",
       "0           0         sheezy0              0   \n",
       "1          68     DavdBurnett              0   \n",
       "2        7696  lwtprettylaugh              1   \n",
       "3         202     douggarland              0   \n",
       "4       37318    WilfordGemma              0   \n",
       "\n",
       "                                                text  tweet_count  gender1  \\\n",
       "0  Robbie E Responds To Critics After Win Against...       110964        2   \n",
       "1  ‰غدIt felt like they were my friends and I was...         7471        2   \n",
       "2  i absolutely adore when louis starts the songs...         5617        2   \n",
       "3  Hi @JordanSpieth - Looking at the url - do you...         1693        2   \n",
       "4  Watching Neighbours on Sky+ catching up with t...        31462        1   \n",
       "\n",
       "   profile_yn1  \n",
       "0            0  \n",
       "1            0  \n",
       "2            0  \n",
       "3            0  \n",
       "4            0  "
      ]
     },
     "execution_count": 246,
     "metadata": {},
     "output_type": "execute_result"
    }
   ],
   "source": [
    "df['gender1'] = labelen.fit_transform(df['gender'])\n",
    "df['profile_yn1'] = labelen.fit_transform(df['profile_yn'])\n",
    "df.head()"
   ]
  },
  {
   "cell_type": "code",
   "execution_count": 247,
   "id": "e97bbe21",
   "metadata": {},
   "outputs": [
    {
     "data": {
      "text/plain": [
       "1    6700\n",
       "2    6194\n",
       "0    5942\n",
       "Name: gender1, dtype: int64"
      ]
     },
     "execution_count": 247,
     "metadata": {},
     "output_type": "execute_result"
    }
   ],
   "source": [
    "df['gender1'].value_counts()"
   ]
  },
  {
   "cell_type": "code",
   "execution_count": 248,
   "id": "ee579d49",
   "metadata": {},
   "outputs": [],
   "source": [
    "#Balancing the Dataset"
   ]
  },
  {
   "cell_type": "code",
   "execution_count": 249,
   "id": "c4c99a37",
   "metadata": {},
   "outputs": [
    {
     "data": {
      "text/html": [
       "<div>\n",
       "<style scoped>\n",
       "    .dataframe tbody tr th:only-of-type {\n",
       "        vertical-align: middle;\n",
       "    }\n",
       "\n",
       "    .dataframe tbody tr th {\n",
       "        vertical-align: top;\n",
       "    }\n",
       "\n",
       "    .dataframe thead th {\n",
       "        text-align: right;\n",
       "    }\n",
       "</style>\n",
       "<table border=\"1\" class=\"dataframe\">\n",
       "  <thead>\n",
       "    <tr style=\"text-align: right;\">\n",
       "      <th></th>\n",
       "      <th>_unit_id</th>\n",
       "      <th>gender:confidence</th>\n",
       "      <th>profile_yn:confidence</th>\n",
       "      <th>fav_number</th>\n",
       "      <th>retweet_count</th>\n",
       "      <th>tweet_count</th>\n",
       "      <th>gender1</th>\n",
       "      <th>profile_yn1</th>\n",
       "    </tr>\n",
       "  </thead>\n",
       "  <tbody>\n",
       "    <tr>\n",
       "      <th>count</th>\n",
       "      <td>1.883600e+04</td>\n",
       "      <td>18836.000000</td>\n",
       "      <td>18836.000000</td>\n",
       "      <td>18836.000000</td>\n",
       "      <td>18836.000000</td>\n",
       "      <td>1.883600e+04</td>\n",
       "      <td>18836.000000</td>\n",
       "      <td>18836.0</td>\n",
       "    </tr>\n",
       "    <tr>\n",
       "      <th>mean</th>\n",
       "      <td>8.157295e+08</td>\n",
       "      <td>0.900997</td>\n",
       "      <td>0.994623</td>\n",
       "      <td>4413.461563</td>\n",
       "      <td>0.082502</td>\n",
       "      <td>3.913570e+04</td>\n",
       "      <td>1.013379</td>\n",
       "      <td>0.0</td>\n",
       "    </tr>\n",
       "    <tr>\n",
       "      <th>std</th>\n",
       "      <td>6.010412e+03</td>\n",
       "      <td>0.172980</td>\n",
       "      <td>0.042132</td>\n",
       "      <td>12468.532705</td>\n",
       "      <td>2.732317</td>\n",
       "      <td>1.191306e+05</td>\n",
       "      <td>0.802592</td>\n",
       "      <td>0.0</td>\n",
       "    </tr>\n",
       "    <tr>\n",
       "      <th>min</th>\n",
       "      <td>8.157192e+08</td>\n",
       "      <td>0.314000</td>\n",
       "      <td>0.627200</td>\n",
       "      <td>0.000000</td>\n",
       "      <td>0.000000</td>\n",
       "      <td>1.000000e+00</td>\n",
       "      <td>0.000000</td>\n",
       "      <td>0.0</td>\n",
       "    </tr>\n",
       "    <tr>\n",
       "      <th>25%</th>\n",
       "      <td>8.157243e+08</td>\n",
       "      <td>0.686475</td>\n",
       "      <td>1.000000</td>\n",
       "      <td>13.000000</td>\n",
       "      <td>0.000000</td>\n",
       "      <td>2.399750e+03</td>\n",
       "      <td>0.000000</td>\n",
       "      <td>0.0</td>\n",
       "    </tr>\n",
       "    <tr>\n",
       "      <th>50%</th>\n",
       "      <td>8.157294e+08</td>\n",
       "      <td>1.000000</td>\n",
       "      <td>1.000000</td>\n",
       "      <td>482.500000</td>\n",
       "      <td>0.000000</td>\n",
       "      <td>1.131250e+04</td>\n",
       "      <td>1.000000</td>\n",
       "      <td>0.0</td>\n",
       "    </tr>\n",
       "    <tr>\n",
       "      <th>75%</th>\n",
       "      <td>8.157345e+08</td>\n",
       "      <td>1.000000</td>\n",
       "      <td>1.000000</td>\n",
       "      <td>3375.500000</td>\n",
       "      <td>0.000000</td>\n",
       "      <td>3.979350e+04</td>\n",
       "      <td>2.000000</td>\n",
       "      <td>0.0</td>\n",
       "    </tr>\n",
       "    <tr>\n",
       "      <th>max</th>\n",
       "      <td>8.157580e+08</td>\n",
       "      <td>1.000000</td>\n",
       "      <td>1.000000</td>\n",
       "      <td>341621.000000</td>\n",
       "      <td>330.000000</td>\n",
       "      <td>2.680199e+06</td>\n",
       "      <td>2.000000</td>\n",
       "      <td>0.0</td>\n",
       "    </tr>\n",
       "  </tbody>\n",
       "</table>\n",
       "</div>"
      ],
      "text/plain": [
       "           _unit_id  gender:confidence  profile_yn:confidence     fav_number  \\\n",
       "count  1.883600e+04       18836.000000           18836.000000   18836.000000   \n",
       "mean   8.157295e+08           0.900997               0.994623    4413.461563   \n",
       "std    6.010412e+03           0.172980               0.042132   12468.532705   \n",
       "min    8.157192e+08           0.314000               0.627200       0.000000   \n",
       "25%    8.157243e+08           0.686475               1.000000      13.000000   \n",
       "50%    8.157294e+08           1.000000               1.000000     482.500000   \n",
       "75%    8.157345e+08           1.000000               1.000000    3375.500000   \n",
       "max    8.157580e+08           1.000000               1.000000  341621.000000   \n",
       "\n",
       "       retweet_count   tweet_count       gender1  profile_yn1  \n",
       "count   18836.000000  1.883600e+04  18836.000000      18836.0  \n",
       "mean        0.082502  3.913570e+04      1.013379          0.0  \n",
       "std         2.732317  1.191306e+05      0.802592          0.0  \n",
       "min         0.000000  1.000000e+00      0.000000          0.0  \n",
       "25%         0.000000  2.399750e+03      0.000000          0.0  \n",
       "50%         0.000000  1.131250e+04      1.000000          0.0  \n",
       "75%         0.000000  3.979350e+04      2.000000          0.0  \n",
       "max       330.000000  2.680199e+06      2.000000          0.0  "
      ]
     },
     "execution_count": 249,
     "metadata": {},
     "output_type": "execute_result"
    }
   ],
   "source": [
    "df.describe()"
   ]
  },
  {
   "cell_type": "code",
   "execution_count": 250,
   "id": "e4ea40ae",
   "metadata": {},
   "outputs": [],
   "source": [
    "# ترتيب موثوقية الجنس تصاعدياً"
   ]
  },
  {
   "cell_type": "code",
   "execution_count": 251,
   "id": "f1093ae0",
   "metadata": {},
   "outputs": [
    {
     "data": {
      "text/html": [
       "<div>\n",
       "<style scoped>\n",
       "    .dataframe tbody tr th:only-of-type {\n",
       "        vertical-align: middle;\n",
       "    }\n",
       "\n",
       "    .dataframe tbody tr th {\n",
       "        vertical-align: top;\n",
       "    }\n",
       "\n",
       "    .dataframe thead th {\n",
       "        text-align: right;\n",
       "    }\n",
       "</style>\n",
       "<table border=\"1\" class=\"dataframe\">\n",
       "  <thead>\n",
       "    <tr style=\"text-align: right;\">\n",
       "      <th></th>\n",
       "      <th>_unit_id</th>\n",
       "      <th>_golden</th>\n",
       "      <th>gender</th>\n",
       "      <th>gender:confidence</th>\n",
       "      <th>profile_yn</th>\n",
       "      <th>profile_yn:confidence</th>\n",
       "      <th>description</th>\n",
       "      <th>fav_number</th>\n",
       "      <th>name</th>\n",
       "      <th>retweet_count</th>\n",
       "      <th>text</th>\n",
       "      <th>tweet_count</th>\n",
       "      <th>gender1</th>\n",
       "      <th>profile_yn1</th>\n",
       "    </tr>\n",
       "  </thead>\n",
       "  <tbody>\n",
       "    <tr>\n",
       "      <th>12304</th>\n",
       "      <td>815731718</td>\n",
       "      <td>False</td>\n",
       "      <td>brand</td>\n",
       "      <td>0.3140</td>\n",
       "      <td>yes</td>\n",
       "      <td>0.6272</td>\n",
       "      <td>NUNCA me olvides...||RUNAWAY|| I &amp; A||lo que s...</td>\n",
       "      <td>68</td>\n",
       "      <td>AlmiiCuello</td>\n",
       "      <td>0</td>\n",
       "      <td>You and you.</td>\n",
       "      <td>2885</td>\n",
       "      <td>0</td>\n",
       "      <td>0</td>\n",
       "    </tr>\n",
       "    <tr>\n",
       "      <th>17454</th>\n",
       "      <td>815736986</td>\n",
       "      <td>False</td>\n",
       "      <td>male</td>\n",
       "      <td>0.3206</td>\n",
       "      <td>yes</td>\n",
       "      <td>0.6308</td>\n",
       "      <td>Being Human ! And Believe In Humanity.....</td>\n",
       "      <td>106</td>\n",
       "      <td>Chota_Qureshi</td>\n",
       "      <td>0</td>\n",
       "      <td>Misbah-ul-Haq on Younis Khan. \" He keeps the g...</td>\n",
       "      <td>3531</td>\n",
       "      <td>2</td>\n",
       "      <td>0</td>\n",
       "    </tr>\n",
       "    <tr>\n",
       "      <th>9252</th>\n",
       "      <td>815728595</td>\n",
       "      <td>False</td>\n",
       "      <td>female</td>\n",
       "      <td>0.3223</td>\n",
       "      <td>yes</td>\n",
       "      <td>0.6444</td>\n",
       "      <td>eu to aqui sentada em frente a um computador a...</td>\n",
       "      <td>4055</td>\n",
       "      <td>worthzouisit</td>\n",
       "      <td>0</td>\n",
       "      <td>37 new unfollowers and 24 new followers (hello...</td>\n",
       "      <td>20077</td>\n",
       "      <td>1</td>\n",
       "      <td>0</td>\n",
       "    </tr>\n",
       "    <tr>\n",
       "      <th>17215</th>\n",
       "      <td>815736743</td>\n",
       "      <td>False</td>\n",
       "      <td>male</td>\n",
       "      <td>0.3223</td>\n",
       "      <td>yes</td>\n",
       "      <td>0.6436</td>\n",
       "      <td>You're such a fucking hypocrite</td>\n",
       "      <td>1519</td>\n",
       "      <td>JoaoLeite22</td>\n",
       "      <td>0</td>\n",
       "      <td>And you don't feel much like ridin', you just ...</td>\n",
       "      <td>13521</td>\n",
       "      <td>2</td>\n",
       "      <td>0</td>\n",
       "    </tr>\n",
       "    <tr>\n",
       "      <th>3562</th>\n",
       "      <td>815722858</td>\n",
       "      <td>False</td>\n",
       "      <td>male</td>\n",
       "      <td>0.3268</td>\n",
       "      <td>yes</td>\n",
       "      <td>0.6361</td>\n",
       "      <td></td>\n",
       "      <td>17</td>\n",
       "      <td>johnortegon</td>\n",
       "      <td>0</td>\n",
       "      <td>@Radioacktiva_ #RadioacktivaMuse TODAY IS THE ...</td>\n",
       "      <td>1734</td>\n",
       "      <td>2</td>\n",
       "      <td>0</td>\n",
       "    </tr>\n",
       "    <tr>\n",
       "      <th>...</th>\n",
       "      <td>...</td>\n",
       "      <td>...</td>\n",
       "      <td>...</td>\n",
       "      <td>...</td>\n",
       "      <td>...</td>\n",
       "      <td>...</td>\n",
       "      <td>...</td>\n",
       "      <td>...</td>\n",
       "      <td>...</td>\n",
       "      <td>...</td>\n",
       "      <td>...</td>\n",
       "      <td>...</td>\n",
       "      <td>...</td>\n",
       "      <td>...</td>\n",
       "    </tr>\n",
       "    <tr>\n",
       "      <th>7695</th>\n",
       "      <td>815727015</td>\n",
       "      <td>False</td>\n",
       "      <td>female</td>\n",
       "      <td>1.0000</td>\n",
       "      <td>yes</td>\n",
       "      <td>1.0000</td>\n",
       "      <td>Dont follow me because I dont even know where ...</td>\n",
       "      <td>0</td>\n",
       "      <td>40WANDARuby3</td>\n",
       "      <td>0</td>\n",
       "      <td>Fighting with the bae. _ظ÷â_ظ÷â_ظ÷چ https://t....</td>\n",
       "      <td>9406</td>\n",
       "      <td>1</td>\n",
       "      <td>0</td>\n",
       "    </tr>\n",
       "    <tr>\n",
       "      <th>7696</th>\n",
       "      <td>815727016</td>\n",
       "      <td>False</td>\n",
       "      <td>female</td>\n",
       "      <td>1.0000</td>\n",
       "      <td>yes</td>\n",
       "      <td>1.0000</td>\n",
       "      <td></td>\n",
       "      <td>6345</td>\n",
       "      <td>kerminiooo</td>\n",
       "      <td>0</td>\n",
       "      <td>Watch me goin out of the way when I shoulda we...</td>\n",
       "      <td>22299</td>\n",
       "      <td>1</td>\n",
       "      <td>0</td>\n",
       "    </tr>\n",
       "    <tr>\n",
       "      <th>7697</th>\n",
       "      <td>815727017</td>\n",
       "      <td>False</td>\n",
       "      <td>female</td>\n",
       "      <td>1.0000</td>\n",
       "      <td>yes</td>\n",
       "      <td>1.0000</td>\n",
       "      <td>I Live....I Laugh...and I Love...and when i Lo...</td>\n",
       "      <td>67</td>\n",
       "      <td>4f8e24939bf9431</td>\n",
       "      <td>0</td>\n",
       "      <td>Looks like I'm the worst of the worst now....</td>\n",
       "      <td>45240</td>\n",
       "      <td>1</td>\n",
       "      <td>0</td>\n",
       "    </tr>\n",
       "    <tr>\n",
       "      <th>7703</th>\n",
       "      <td>815727023</td>\n",
       "      <td>False</td>\n",
       "      <td>female</td>\n",
       "      <td>1.0000</td>\n",
       "      <td>yes</td>\n",
       "      <td>1.0000</td>\n",
       "      <td></td>\n",
       "      <td>4168</td>\n",
       "      <td>caitlynboyd1</td>\n",
       "      <td>0</td>\n",
       "      <td>Ok people get with it or get out of the way, I...</td>\n",
       "      <td>10379</td>\n",
       "      <td>1</td>\n",
       "      <td>0</td>\n",
       "    </tr>\n",
       "    <tr>\n",
       "      <th>20049</th>\n",
       "      <td>815757985</td>\n",
       "      <td>True</td>\n",
       "      <td>female</td>\n",
       "      <td>1.0000</td>\n",
       "      <td>yes</td>\n",
       "      <td>1.0000</td>\n",
       "      <td>Teamwork makes the dream work.</td>\n",
       "      <td>3348</td>\n",
       "      <td>MeganFitz20</td>\n",
       "      <td>0</td>\n",
       "      <td>I think for my APUSH creative project I'm goin...</td>\n",
       "      <td>2922</td>\n",
       "      <td>1</td>\n",
       "      <td>0</td>\n",
       "    </tr>\n",
       "  </tbody>\n",
       "</table>\n",
       "<p>18836 rows × 14 columns</p>\n",
       "</div>"
      ],
      "text/plain": [
       "        _unit_id  _golden  gender  gender:confidence profile_yn  \\\n",
       "12304  815731718    False   brand             0.3140        yes   \n",
       "17454  815736986    False    male             0.3206        yes   \n",
       "9252   815728595    False  female             0.3223        yes   \n",
       "17215  815736743    False    male             0.3223        yes   \n",
       "3562   815722858    False    male             0.3268        yes   \n",
       "...          ...      ...     ...                ...        ...   \n",
       "7695   815727015    False  female             1.0000        yes   \n",
       "7696   815727016    False  female             1.0000        yes   \n",
       "7697   815727017    False  female             1.0000        yes   \n",
       "7703   815727023    False  female             1.0000        yes   \n",
       "20049  815757985     True  female             1.0000        yes   \n",
       "\n",
       "       profile_yn:confidence  \\\n",
       "12304                 0.6272   \n",
       "17454                 0.6308   \n",
       "9252                  0.6444   \n",
       "17215                 0.6436   \n",
       "3562                  0.6361   \n",
       "...                      ...   \n",
       "7695                  1.0000   \n",
       "7696                  1.0000   \n",
       "7697                  1.0000   \n",
       "7703                  1.0000   \n",
       "20049                 1.0000   \n",
       "\n",
       "                                             description  fav_number  \\\n",
       "12304  NUNCA me olvides...||RUNAWAY|| I & A||lo que s...          68   \n",
       "17454         Being Human ! And Believe In Humanity.....         106   \n",
       "9252   eu to aqui sentada em frente a um computador a...        4055   \n",
       "17215                    You're such a fucking hypocrite        1519   \n",
       "3562                                                              17   \n",
       "...                                                  ...         ...   \n",
       "7695   Dont follow me because I dont even know where ...           0   \n",
       "7696                                                            6345   \n",
       "7697   I Live....I Laugh...and I Love...and when i Lo...          67   \n",
       "7703                                                            4168   \n",
       "20049                     Teamwork makes the dream work.        3348   \n",
       "\n",
       "                  name  retweet_count  \\\n",
       "12304      AlmiiCuello              0   \n",
       "17454    Chota_Qureshi              0   \n",
       "9252      worthzouisit              0   \n",
       "17215      JoaoLeite22              0   \n",
       "3562       johnortegon              0   \n",
       "...                ...            ...   \n",
       "7695      40WANDARuby3              0   \n",
       "7696        kerminiooo              0   \n",
       "7697   4f8e24939bf9431              0   \n",
       "7703      caitlynboyd1              0   \n",
       "20049      MeganFitz20              0   \n",
       "\n",
       "                                                    text  tweet_count  \\\n",
       "12304                                       You and you.         2885   \n",
       "17454  Misbah-ul-Haq on Younis Khan. \" He keeps the g...         3531   \n",
       "9252   37 new unfollowers and 24 new followers (hello...        20077   \n",
       "17215  And you don't feel much like ridin', you just ...        13521   \n",
       "3562   @Radioacktiva_ #RadioacktivaMuse TODAY IS THE ...         1734   \n",
       "...                                                  ...          ...   \n",
       "7695   Fighting with the bae. _ظ÷â_ظ÷â_ظ÷چ https://t....         9406   \n",
       "7696   Watch me goin out of the way when I shoulda we...        22299   \n",
       "7697       Looks like I'm the worst of the worst now....        45240   \n",
       "7703   Ok people get with it or get out of the way, I...        10379   \n",
       "20049  I think for my APUSH creative project I'm goin...         2922   \n",
       "\n",
       "       gender1  profile_yn1  \n",
       "12304        0            0  \n",
       "17454        2            0  \n",
       "9252         1            0  \n",
       "17215        2            0  \n",
       "3562         2            0  \n",
       "...        ...          ...  \n",
       "7695         1            0  \n",
       "7696         1            0  \n",
       "7697         1            0  \n",
       "7703         1            0  \n",
       "20049        1            0  \n",
       "\n",
       "[18836 rows x 14 columns]"
      ]
     },
     "execution_count": 251,
     "metadata": {},
     "output_type": "execute_result"
    }
   ],
   "source": [
    "df = df.sort_values('gender:confidence', ascending = True)\n",
    "df"
   ]
  },
  {
   "cell_type": "code",
   "execution_count": 252,
   "id": "0c950158",
   "metadata": {},
   "outputs": [
    {
     "data": {
      "text/html": [
       "<div>\n",
       "<style scoped>\n",
       "    .dataframe tbody tr th:only-of-type {\n",
       "        vertical-align: middle;\n",
       "    }\n",
       "\n",
       "    .dataframe tbody tr th {\n",
       "        vertical-align: top;\n",
       "    }\n",
       "\n",
       "    .dataframe thead th {\n",
       "        text-align: right;\n",
       "    }\n",
       "</style>\n",
       "<table border=\"1\" class=\"dataframe\">\n",
       "  <thead>\n",
       "    <tr style=\"text-align: right;\">\n",
       "      <th></th>\n",
       "      <th>_unit_id</th>\n",
       "      <th>_golden</th>\n",
       "      <th>gender</th>\n",
       "      <th>gender:confidence</th>\n",
       "      <th>profile_yn</th>\n",
       "      <th>profile_yn:confidence</th>\n",
       "      <th>description</th>\n",
       "      <th>fav_number</th>\n",
       "      <th>name</th>\n",
       "      <th>retweet_count</th>\n",
       "      <th>text</th>\n",
       "      <th>tweet_count</th>\n",
       "      <th>gender1</th>\n",
       "      <th>profile_yn1</th>\n",
       "    </tr>\n",
       "  </thead>\n",
       "  <tbody>\n",
       "    <tr>\n",
       "      <th>20017</th>\n",
       "      <td>815753796</td>\n",
       "      <td>True</td>\n",
       "      <td>brand</td>\n",
       "      <td>0.6059</td>\n",
       "      <td>yes</td>\n",
       "      <td>1.0</td>\n",
       "      <td></td>\n",
       "      <td>0</td>\n",
       "      <td>04630lktc</td>\n",
       "      <td>0</td>\n",
       "      <td>Get Weather Updates from The Weather Channel. ...</td>\n",
       "      <td>63448</td>\n",
       "      <td>0</td>\n",
       "      <td>0</td>\n",
       "    </tr>\n",
       "    <tr>\n",
       "      <th>11315</th>\n",
       "      <td>815730697</td>\n",
       "      <td>False</td>\n",
       "      <td>male</td>\n",
       "      <td>0.6212</td>\n",
       "      <td>yes</td>\n",
       "      <td>1.0</td>\n",
       "      <td>I love me . Do you love me too ? LOL</td>\n",
       "      <td>15</td>\n",
       "      <td>JamieLarsons</td>\n",
       "      <td>0</td>\n",
       "      <td>#Life Build a Transforming Workbench, Desk, an...</td>\n",
       "      <td>9317</td>\n",
       "      <td>2</td>\n",
       "      <td>0</td>\n",
       "    </tr>\n",
       "    <tr>\n",
       "      <th>18410</th>\n",
       "      <td>815737970</td>\n",
       "      <td>False</td>\n",
       "      <td>brand</td>\n",
       "      <td>0.6212</td>\n",
       "      <td>yes</td>\n",
       "      <td>1.0</td>\n",
       "      <td>Chaac, the god of rain. hope you dont hit like...</td>\n",
       "      <td>1820</td>\n",
       "      <td>chaacSmite</td>\n",
       "      <td>0</td>\n",
       "      <td>@Goddess0fWar_  I know right friend? Always so...</td>\n",
       "      <td>2368</td>\n",
       "      <td>0</td>\n",
       "      <td>0</td>\n",
       "    </tr>\n",
       "    <tr>\n",
       "      <th>19082</th>\n",
       "      <td>815738651</td>\n",
       "      <td>False</td>\n",
       "      <td>male</td>\n",
       "      <td>0.6252</td>\n",
       "      <td>yes</td>\n",
       "      <td>1.0</td>\n",
       "      <td></td>\n",
       "      <td>2</td>\n",
       "      <td>QuennonBalls</td>\n",
       "      <td>0</td>\n",
       "      <td>EVERYDAYILOVEYOU Forevermore\\n\\nand what makes...</td>\n",
       "      <td>45504</td>\n",
       "      <td>2</td>\n",
       "      <td>0</td>\n",
       "    </tr>\n",
       "    <tr>\n",
       "      <th>11168</th>\n",
       "      <td>815730546</td>\n",
       "      <td>False</td>\n",
       "      <td>female</td>\n",
       "      <td>0.6252</td>\n",
       "      <td>yes</td>\n",
       "      <td>1.0</td>\n",
       "      <td>Treat Yaself!</td>\n",
       "      <td>41</td>\n",
       "      <td>LittleMixLoves_</td>\n",
       "      <td>0</td>\n",
       "      <td>I'm so annoyed. Like my interview was at 4 it'...</td>\n",
       "      <td>2137</td>\n",
       "      <td>1</td>\n",
       "      <td>0</td>\n",
       "    </tr>\n",
       "    <tr>\n",
       "      <th>...</th>\n",
       "      <td>...</td>\n",
       "      <td>...</td>\n",
       "      <td>...</td>\n",
       "      <td>...</td>\n",
       "      <td>...</td>\n",
       "      <td>...</td>\n",
       "      <td>...</td>\n",
       "      <td>...</td>\n",
       "      <td>...</td>\n",
       "      <td>...</td>\n",
       "      <td>...</td>\n",
       "      <td>...</td>\n",
       "      <td>...</td>\n",
       "      <td>...</td>\n",
       "    </tr>\n",
       "    <tr>\n",
       "      <th>7695</th>\n",
       "      <td>815727015</td>\n",
       "      <td>False</td>\n",
       "      <td>female</td>\n",
       "      <td>1.0000</td>\n",
       "      <td>yes</td>\n",
       "      <td>1.0</td>\n",
       "      <td>Dont follow me because I dont even know where ...</td>\n",
       "      <td>0</td>\n",
       "      <td>40WANDARuby3</td>\n",
       "      <td>0</td>\n",
       "      <td>Fighting with the bae. _ظ÷â_ظ÷â_ظ÷چ https://t....</td>\n",
       "      <td>9406</td>\n",
       "      <td>1</td>\n",
       "      <td>0</td>\n",
       "    </tr>\n",
       "    <tr>\n",
       "      <th>7696</th>\n",
       "      <td>815727016</td>\n",
       "      <td>False</td>\n",
       "      <td>female</td>\n",
       "      <td>1.0000</td>\n",
       "      <td>yes</td>\n",
       "      <td>1.0</td>\n",
       "      <td></td>\n",
       "      <td>6345</td>\n",
       "      <td>kerminiooo</td>\n",
       "      <td>0</td>\n",
       "      <td>Watch me goin out of the way when I shoulda we...</td>\n",
       "      <td>22299</td>\n",
       "      <td>1</td>\n",
       "      <td>0</td>\n",
       "    </tr>\n",
       "    <tr>\n",
       "      <th>7697</th>\n",
       "      <td>815727017</td>\n",
       "      <td>False</td>\n",
       "      <td>female</td>\n",
       "      <td>1.0000</td>\n",
       "      <td>yes</td>\n",
       "      <td>1.0</td>\n",
       "      <td>I Live....I Laugh...and I Love...and when i Lo...</td>\n",
       "      <td>67</td>\n",
       "      <td>4f8e24939bf9431</td>\n",
       "      <td>0</td>\n",
       "      <td>Looks like I'm the worst of the worst now....</td>\n",
       "      <td>45240</td>\n",
       "      <td>1</td>\n",
       "      <td>0</td>\n",
       "    </tr>\n",
       "    <tr>\n",
       "      <th>7703</th>\n",
       "      <td>815727023</td>\n",
       "      <td>False</td>\n",
       "      <td>female</td>\n",
       "      <td>1.0000</td>\n",
       "      <td>yes</td>\n",
       "      <td>1.0</td>\n",
       "      <td></td>\n",
       "      <td>4168</td>\n",
       "      <td>caitlynboyd1</td>\n",
       "      <td>0</td>\n",
       "      <td>Ok people get with it or get out of the way, I...</td>\n",
       "      <td>10379</td>\n",
       "      <td>1</td>\n",
       "      <td>0</td>\n",
       "    </tr>\n",
       "    <tr>\n",
       "      <th>20049</th>\n",
       "      <td>815757985</td>\n",
       "      <td>True</td>\n",
       "      <td>female</td>\n",
       "      <td>1.0000</td>\n",
       "      <td>yes</td>\n",
       "      <td>1.0</td>\n",
       "      <td>Teamwork makes the dream work.</td>\n",
       "      <td>3348</td>\n",
       "      <td>MeganFitz20</td>\n",
       "      <td>0</td>\n",
       "      <td>I think for my APUSH creative project I'm goin...</td>\n",
       "      <td>2922</td>\n",
       "      <td>1</td>\n",
       "      <td>0</td>\n",
       "    </tr>\n",
       "  </tbody>\n",
       "</table>\n",
       "<p>18224 rows × 14 columns</p>\n",
       "</div>"
      ],
      "text/plain": [
       "        _unit_id  _golden  gender  gender:confidence profile_yn  \\\n",
       "20017  815753796     True   brand             0.6059        yes   \n",
       "11315  815730697    False    male             0.6212        yes   \n",
       "18410  815737970    False   brand             0.6212        yes   \n",
       "19082  815738651    False    male             0.6252        yes   \n",
       "11168  815730546    False  female             0.6252        yes   \n",
       "...          ...      ...     ...                ...        ...   \n",
       "7695   815727015    False  female             1.0000        yes   \n",
       "7696   815727016    False  female             1.0000        yes   \n",
       "7697   815727017    False  female             1.0000        yes   \n",
       "7703   815727023    False  female             1.0000        yes   \n",
       "20049  815757985     True  female             1.0000        yes   \n",
       "\n",
       "       profile_yn:confidence  \\\n",
       "20017                    1.0   \n",
       "11315                    1.0   \n",
       "18410                    1.0   \n",
       "19082                    1.0   \n",
       "11168                    1.0   \n",
       "...                      ...   \n",
       "7695                     1.0   \n",
       "7696                     1.0   \n",
       "7697                     1.0   \n",
       "7703                     1.0   \n",
       "20049                    1.0   \n",
       "\n",
       "                                             description  fav_number  \\\n",
       "20017                                                              0   \n",
       "11315               I love me . Do you love me too ? LOL          15   \n",
       "18410  Chaac, the god of rain. hope you dont hit like...        1820   \n",
       "19082                                                              2   \n",
       "11168                                      Treat Yaself!          41   \n",
       "...                                                  ...         ...   \n",
       "7695   Dont follow me because I dont even know where ...           0   \n",
       "7696                                                            6345   \n",
       "7697   I Live....I Laugh...and I Love...and when i Lo...          67   \n",
       "7703                                                            4168   \n",
       "20049                     Teamwork makes the dream work.        3348   \n",
       "\n",
       "                  name  retweet_count  \\\n",
       "20017        04630lktc              0   \n",
       "11315     JamieLarsons              0   \n",
       "18410       chaacSmite              0   \n",
       "19082     QuennonBalls              0   \n",
       "11168  LittleMixLoves_              0   \n",
       "...                ...            ...   \n",
       "7695      40WANDARuby3              0   \n",
       "7696        kerminiooo              0   \n",
       "7697   4f8e24939bf9431              0   \n",
       "7703      caitlynboyd1              0   \n",
       "20049      MeganFitz20              0   \n",
       "\n",
       "                                                    text  tweet_count  \\\n",
       "20017  Get Weather Updates from The Weather Channel. ...        63448   \n",
       "11315  #Life Build a Transforming Workbench, Desk, an...         9317   \n",
       "18410  @Goddess0fWar_  I know right friend? Always so...         2368   \n",
       "19082  EVERYDAYILOVEYOU Forevermore\\n\\nand what makes...        45504   \n",
       "11168  I'm so annoyed. Like my interview was at 4 it'...         2137   \n",
       "...                                                  ...          ...   \n",
       "7695   Fighting with the bae. _ظ÷â_ظ÷â_ظ÷چ https://t....         9406   \n",
       "7696   Watch me goin out of the way when I shoulda we...        22299   \n",
       "7697       Looks like I'm the worst of the worst now....        45240   \n",
       "7703   Ok people get with it or get out of the way, I...        10379   \n",
       "20049  I think for my APUSH creative project I'm goin...         2922   \n",
       "\n",
       "       gender1  profile_yn1  \n",
       "20017        0            0  \n",
       "11315        2            0  \n",
       "18410        0            0  \n",
       "19082        2            0  \n",
       "11168        1            0  \n",
       "...        ...          ...  \n",
       "7695         1            0  \n",
       "7696         1            0  \n",
       "7697         1            0  \n",
       "7703         1            0  \n",
       "20049        1            0  \n",
       "\n",
       "[18224 rows x 14 columns]"
      ]
     },
     "execution_count": 252,
     "metadata": {},
     "output_type": "execute_result"
    }
   ],
   "source": [
    "df = df[df['gender:confidence']>=0.6]\n",
    "df"
   ]
  },
  {
   "cell_type": "code",
   "execution_count": 253,
   "id": "c43200a2",
   "metadata": {},
   "outputs": [],
   "source": [
    "# عدد التغريدات تنازلياً"
   ]
  },
  {
   "cell_type": "code",
   "execution_count": 254,
   "id": "182b7011",
   "metadata": {},
   "outputs": [
    {
     "data": {
      "text/html": [
       "<div>\n",
       "<style scoped>\n",
       "    .dataframe tbody tr th:only-of-type {\n",
       "        vertical-align: middle;\n",
       "    }\n",
       "\n",
       "    .dataframe tbody tr th {\n",
       "        vertical-align: top;\n",
       "    }\n",
       "\n",
       "    .dataframe thead th {\n",
       "        text-align: right;\n",
       "    }\n",
       "</style>\n",
       "<table border=\"1\" class=\"dataframe\">\n",
       "  <thead>\n",
       "    <tr style=\"text-align: right;\">\n",
       "      <th></th>\n",
       "      <th>_unit_id</th>\n",
       "      <th>_golden</th>\n",
       "      <th>gender</th>\n",
       "      <th>gender:confidence</th>\n",
       "      <th>profile_yn</th>\n",
       "      <th>profile_yn:confidence</th>\n",
       "      <th>description</th>\n",
       "      <th>fav_number</th>\n",
       "      <th>name</th>\n",
       "      <th>retweet_count</th>\n",
       "      <th>text</th>\n",
       "      <th>tweet_count</th>\n",
       "      <th>gender1</th>\n",
       "      <th>profile_yn1</th>\n",
       "    </tr>\n",
       "  </thead>\n",
       "  <tbody>\n",
       "    <tr>\n",
       "      <th>15940</th>\n",
       "      <td>815735441</td>\n",
       "      <td>False</td>\n",
       "      <td>male</td>\n",
       "      <td>1.0000</td>\n",
       "      <td>yes</td>\n",
       "      <td>1.0</td>\n",
       "      <td>Confira as ultimas notج_cias do que estجء acon...</td>\n",
       "      <td>81372</td>\n",
       "      <td>gabrieldsmqs</td>\n",
       "      <td>0</td>\n",
       "      <td>One State‰غھs Struggle to Make Ends Meet: Why ...</td>\n",
       "      <td>2680199</td>\n",
       "      <td>2</td>\n",
       "      <td>0</td>\n",
       "    </tr>\n",
       "    <tr>\n",
       "      <th>5093</th>\n",
       "      <td>815724399</td>\n",
       "      <td>False</td>\n",
       "      <td>brand</td>\n",
       "      <td>1.0000</td>\n",
       "      <td>yes</td>\n",
       "      <td>1.0</td>\n",
       "      <td>The Map Game is a free geography quiz based on...</td>\n",
       "      <td>1</td>\n",
       "      <td>Map_Game</td>\n",
       "      <td>0</td>\n",
       "      <td>Where is Pinellas Park on the map? Play the ga...</td>\n",
       "      <td>2372591</td>\n",
       "      <td>0</td>\n",
       "      <td>0</td>\n",
       "    </tr>\n",
       "    <tr>\n",
       "      <th>4245</th>\n",
       "      <td>815723544</td>\n",
       "      <td>False</td>\n",
       "      <td>brand</td>\n",
       "      <td>0.6561</td>\n",
       "      <td>yes</td>\n",
       "      <td>1.0</td>\n",
       "      <td>The Map Game is a free geography quiz based on...</td>\n",
       "      <td>1</td>\n",
       "      <td>Map_Game</td>\n",
       "      <td>0</td>\n",
       "      <td>Where is Doha on the map? Play the game at htt...</td>\n",
       "      <td>2372591</td>\n",
       "      <td>0</td>\n",
       "      <td>0</td>\n",
       "    </tr>\n",
       "    <tr>\n",
       "      <th>5563</th>\n",
       "      <td>815724872</td>\n",
       "      <td>False</td>\n",
       "      <td>brand</td>\n",
       "      <td>1.0000</td>\n",
       "      <td>yes</td>\n",
       "      <td>1.0</td>\n",
       "      <td>The Map Game is a free geography quiz based on...</td>\n",
       "      <td>1</td>\n",
       "      <td>Map_Game</td>\n",
       "      <td>0</td>\n",
       "      <td>Can you find Calcutta on the map? Just try it ...</td>\n",
       "      <td>2372591</td>\n",
       "      <td>0</td>\n",
       "      <td>0</td>\n",
       "    </tr>\n",
       "    <tr>\n",
       "      <th>6371</th>\n",
       "      <td>815725682</td>\n",
       "      <td>False</td>\n",
       "      <td>brand</td>\n",
       "      <td>1.0000</td>\n",
       "      <td>yes</td>\n",
       "      <td>1.0</td>\n",
       "      <td>The Map Game is a free geography quiz based on...</td>\n",
       "      <td>1</td>\n",
       "      <td>Map_Game</td>\n",
       "      <td>0</td>\n",
       "      <td>Can you find Pune on the map? Just try it at h...</td>\n",
       "      <td>2372591</td>\n",
       "      <td>0</td>\n",
       "      <td>0</td>\n",
       "    </tr>\n",
       "    <tr>\n",
       "      <th>...</th>\n",
       "      <td>...</td>\n",
       "      <td>...</td>\n",
       "      <td>...</td>\n",
       "      <td>...</td>\n",
       "      <td>...</td>\n",
       "      <td>...</td>\n",
       "      <td>...</td>\n",
       "      <td>...</td>\n",
       "      <td>...</td>\n",
       "      <td>...</td>\n",
       "      <td>...</td>\n",
       "      <td>...</td>\n",
       "      <td>...</td>\n",
       "      <td>...</td>\n",
       "    </tr>\n",
       "    <tr>\n",
       "      <th>10650</th>\n",
       "      <td>815730017</td>\n",
       "      <td>False</td>\n",
       "      <td>male</td>\n",
       "      <td>0.6723</td>\n",
       "      <td>yes</td>\n",
       "      <td>1.0</td>\n",
       "      <td>- *ىؤ_ü*\\n- ‰مز„س„â'„¥ ë±‰ِâë_„س_ü„âىة„ڈ„س‰د¬\\...</td>\n",
       "      <td>0</td>\n",
       "      <td>GettoAndreaa</td>\n",
       "      <td>0</td>\n",
       "      <td>Give a man a fish and feed him for a day. Don'...</td>\n",
       "      <td>1</td>\n",
       "      <td>2</td>\n",
       "      <td>0</td>\n",
       "    </tr>\n",
       "    <tr>\n",
       "      <th>12938</th>\n",
       "      <td>815732371</td>\n",
       "      <td>False</td>\n",
       "      <td>female</td>\n",
       "      <td>1.0000</td>\n",
       "      <td>yes</td>\n",
       "      <td>1.0</td>\n",
       "      <td></td>\n",
       "      <td>1</td>\n",
       "      <td>leeh_Fernanda4</td>\n",
       "      <td>0</td>\n",
       "      <td>I Just Voted for @onedirection for #ArtistOfTh...</td>\n",
       "      <td>1</td>\n",
       "      <td>1</td>\n",
       "      <td>0</td>\n",
       "    </tr>\n",
       "    <tr>\n",
       "      <th>10213</th>\n",
       "      <td>815729575</td>\n",
       "      <td>False</td>\n",
       "      <td>female</td>\n",
       "      <td>1.0000</td>\n",
       "      <td>yes</td>\n",
       "      <td>1.0</td>\n",
       "      <td></td>\n",
       "      <td>0</td>\n",
       "      <td>HyltonSandra</td>\n",
       "      <td>0</td>\n",
       "      <td>The Lord is my light and my salvation :Psalm 2...</td>\n",
       "      <td>1</td>\n",
       "      <td>1</td>\n",
       "      <td>0</td>\n",
       "    </tr>\n",
       "    <tr>\n",
       "      <th>1076</th>\n",
       "      <td>815720309</td>\n",
       "      <td>False</td>\n",
       "      <td>male</td>\n",
       "      <td>1.0000</td>\n",
       "      <td>yes</td>\n",
       "      <td>1.0</td>\n",
       "      <td></td>\n",
       "      <td>0</td>\n",
       "      <td>izzyortiz211</td>\n",
       "      <td>0</td>\n",
       "      <td>Walking with the best person ever @KaileiMadison</td>\n",
       "      <td>1</td>\n",
       "      <td>2</td>\n",
       "      <td>0</td>\n",
       "    </tr>\n",
       "    <tr>\n",
       "      <th>11520</th>\n",
       "      <td>815730910</td>\n",
       "      <td>False</td>\n",
       "      <td>brand</td>\n",
       "      <td>1.0000</td>\n",
       "      <td>yes</td>\n",
       "      <td>1.0</td>\n",
       "      <td>Showing Next...'Inside Out' 22nd December 2015...</td>\n",
       "      <td>0</td>\n",
       "      <td>RuthinCinema</td>\n",
       "      <td>0</td>\n",
       "      <td>Welcome to Ruthin Cinema! Our first ever scree...</td>\n",
       "      <td>1</td>\n",
       "      <td>0</td>\n",
       "      <td>0</td>\n",
       "    </tr>\n",
       "  </tbody>\n",
       "</table>\n",
       "<p>18224 rows × 14 columns</p>\n",
       "</div>"
      ],
      "text/plain": [
       "        _unit_id  _golden  gender  gender:confidence profile_yn  \\\n",
       "15940  815735441    False    male             1.0000        yes   \n",
       "5093   815724399    False   brand             1.0000        yes   \n",
       "4245   815723544    False   brand             0.6561        yes   \n",
       "5563   815724872    False   brand             1.0000        yes   \n",
       "6371   815725682    False   brand             1.0000        yes   \n",
       "...          ...      ...     ...                ...        ...   \n",
       "10650  815730017    False    male             0.6723        yes   \n",
       "12938  815732371    False  female             1.0000        yes   \n",
       "10213  815729575    False  female             1.0000        yes   \n",
       "1076   815720309    False    male             1.0000        yes   \n",
       "11520  815730910    False   brand             1.0000        yes   \n",
       "\n",
       "       profile_yn:confidence  \\\n",
       "15940                    1.0   \n",
       "5093                     1.0   \n",
       "4245                     1.0   \n",
       "5563                     1.0   \n",
       "6371                     1.0   \n",
       "...                      ...   \n",
       "10650                    1.0   \n",
       "12938                    1.0   \n",
       "10213                    1.0   \n",
       "1076                     1.0   \n",
       "11520                    1.0   \n",
       "\n",
       "                                             description  fav_number  \\\n",
       "15940  Confira as ultimas notج_cias do que estجء acon...       81372   \n",
       "5093   The Map Game is a free geography quiz based on...           1   \n",
       "4245   The Map Game is a free geography quiz based on...           1   \n",
       "5563   The Map Game is a free geography quiz based on...           1   \n",
       "6371   The Map Game is a free geography quiz based on...           1   \n",
       "...                                                  ...         ...   \n",
       "10650  - *ىؤ_ü*\\n- ‰مز„س„â'„¥ ë±‰ِâë_„س_ü„âىة„ڈ„س‰د¬\\...           0   \n",
       "12938                                                              1   \n",
       "10213                                                              0   \n",
       "1076                                                               0   \n",
       "11520  Showing Next...'Inside Out' 22nd December 2015...           0   \n",
       "\n",
       "                 name  retweet_count  \\\n",
       "15940    gabrieldsmqs              0   \n",
       "5093         Map_Game              0   \n",
       "4245         Map_Game              0   \n",
       "5563         Map_Game              0   \n",
       "6371         Map_Game              0   \n",
       "...               ...            ...   \n",
       "10650    GettoAndreaa              0   \n",
       "12938  leeh_Fernanda4              0   \n",
       "10213    HyltonSandra              0   \n",
       "1076     izzyortiz211              0   \n",
       "11520    RuthinCinema              0   \n",
       "\n",
       "                                                    text  tweet_count  \\\n",
       "15940  One State‰غھs Struggle to Make Ends Meet: Why ...      2680199   \n",
       "5093   Where is Pinellas Park on the map? Play the ga...      2372591   \n",
       "4245   Where is Doha on the map? Play the game at htt...      2372591   \n",
       "5563   Can you find Calcutta on the map? Just try it ...      2372591   \n",
       "6371   Can you find Pune on the map? Just try it at h...      2372591   \n",
       "...                                                  ...          ...   \n",
       "10650  Give a man a fish and feed him for a day. Don'...            1   \n",
       "12938  I Just Voted for @onedirection for #ArtistOfTh...            1   \n",
       "10213  The Lord is my light and my salvation :Psalm 2...            1   \n",
       "1076    Walking with the best person ever @KaileiMadison            1   \n",
       "11520  Welcome to Ruthin Cinema! Our first ever scree...            1   \n",
       "\n",
       "       gender1  profile_yn1  \n",
       "15940        2            0  \n",
       "5093         0            0  \n",
       "4245         0            0  \n",
       "5563         0            0  \n",
       "6371         0            0  \n",
       "...        ...          ...  \n",
       "10650        2            0  \n",
       "12938        1            0  \n",
       "10213        1            0  \n",
       "1076         2            0  \n",
       "11520        0            0  \n",
       "\n",
       "[18224 rows x 14 columns]"
      ]
     },
     "execution_count": 254,
     "metadata": {},
     "output_type": "execute_result"
    }
   ],
   "source": [
    "df = df.sort_values('tweet_count', ascending = False)\n",
    "df"
   ]
  },
  {
   "cell_type": "code",
   "execution_count": 255,
   "id": "619eb0eb",
   "metadata": {},
   "outputs": [],
   "source": [
    "# التغريدات أكثر من 1000"
   ]
  },
  {
   "cell_type": "code",
   "execution_count": 256,
   "id": "afe9ffbf",
   "metadata": {},
   "outputs": [
    {
     "data": {
      "text/html": [
       "<div>\n",
       "<style scoped>\n",
       "    .dataframe tbody tr th:only-of-type {\n",
       "        vertical-align: middle;\n",
       "    }\n",
       "\n",
       "    .dataframe tbody tr th {\n",
       "        vertical-align: top;\n",
       "    }\n",
       "\n",
       "    .dataframe thead th {\n",
       "        text-align: right;\n",
       "    }\n",
       "</style>\n",
       "<table border=\"1\" class=\"dataframe\">\n",
       "  <thead>\n",
       "    <tr style=\"text-align: right;\">\n",
       "      <th></th>\n",
       "      <th>_unit_id</th>\n",
       "      <th>_golden</th>\n",
       "      <th>gender</th>\n",
       "      <th>gender:confidence</th>\n",
       "      <th>profile_yn</th>\n",
       "      <th>profile_yn:confidence</th>\n",
       "      <th>description</th>\n",
       "      <th>fav_number</th>\n",
       "      <th>name</th>\n",
       "      <th>retweet_count</th>\n",
       "      <th>text</th>\n",
       "      <th>tweet_count</th>\n",
       "      <th>gender1</th>\n",
       "      <th>profile_yn1</th>\n",
       "    </tr>\n",
       "  </thead>\n",
       "  <tbody>\n",
       "    <tr>\n",
       "      <th>15940</th>\n",
       "      <td>815735441</td>\n",
       "      <td>False</td>\n",
       "      <td>male</td>\n",
       "      <td>1.0000</td>\n",
       "      <td>yes</td>\n",
       "      <td>1.0</td>\n",
       "      <td>Confira as ultimas notج_cias do que estجء acon...</td>\n",
       "      <td>81372</td>\n",
       "      <td>gabrieldsmqs</td>\n",
       "      <td>0</td>\n",
       "      <td>One State‰غھs Struggle to Make Ends Meet: Why ...</td>\n",
       "      <td>2680199</td>\n",
       "      <td>2</td>\n",
       "      <td>0</td>\n",
       "    </tr>\n",
       "    <tr>\n",
       "      <th>5093</th>\n",
       "      <td>815724399</td>\n",
       "      <td>False</td>\n",
       "      <td>brand</td>\n",
       "      <td>1.0000</td>\n",
       "      <td>yes</td>\n",
       "      <td>1.0</td>\n",
       "      <td>The Map Game is a free geography quiz based on...</td>\n",
       "      <td>1</td>\n",
       "      <td>Map_Game</td>\n",
       "      <td>0</td>\n",
       "      <td>Where is Pinellas Park on the map? Play the ga...</td>\n",
       "      <td>2372591</td>\n",
       "      <td>0</td>\n",
       "      <td>0</td>\n",
       "    </tr>\n",
       "    <tr>\n",
       "      <th>4245</th>\n",
       "      <td>815723544</td>\n",
       "      <td>False</td>\n",
       "      <td>brand</td>\n",
       "      <td>0.6561</td>\n",
       "      <td>yes</td>\n",
       "      <td>1.0</td>\n",
       "      <td>The Map Game is a free geography quiz based on...</td>\n",
       "      <td>1</td>\n",
       "      <td>Map_Game</td>\n",
       "      <td>0</td>\n",
       "      <td>Where is Doha on the map? Play the game at htt...</td>\n",
       "      <td>2372591</td>\n",
       "      <td>0</td>\n",
       "      <td>0</td>\n",
       "    </tr>\n",
       "    <tr>\n",
       "      <th>5563</th>\n",
       "      <td>815724872</td>\n",
       "      <td>False</td>\n",
       "      <td>brand</td>\n",
       "      <td>1.0000</td>\n",
       "      <td>yes</td>\n",
       "      <td>1.0</td>\n",
       "      <td>The Map Game is a free geography quiz based on...</td>\n",
       "      <td>1</td>\n",
       "      <td>Map_Game</td>\n",
       "      <td>0</td>\n",
       "      <td>Can you find Calcutta on the map? Just try it ...</td>\n",
       "      <td>2372591</td>\n",
       "      <td>0</td>\n",
       "      <td>0</td>\n",
       "    </tr>\n",
       "    <tr>\n",
       "      <th>6371</th>\n",
       "      <td>815725682</td>\n",
       "      <td>False</td>\n",
       "      <td>brand</td>\n",
       "      <td>1.0000</td>\n",
       "      <td>yes</td>\n",
       "      <td>1.0</td>\n",
       "      <td>The Map Game is a free geography quiz based on...</td>\n",
       "      <td>1</td>\n",
       "      <td>Map_Game</td>\n",
       "      <td>0</td>\n",
       "      <td>Can you find Pune on the map? Just try it at h...</td>\n",
       "      <td>2372591</td>\n",
       "      <td>0</td>\n",
       "      <td>0</td>\n",
       "    </tr>\n",
       "    <tr>\n",
       "      <th>...</th>\n",
       "      <td>...</td>\n",
       "      <td>...</td>\n",
       "      <td>...</td>\n",
       "      <td>...</td>\n",
       "      <td>...</td>\n",
       "      <td>...</td>\n",
       "      <td>...</td>\n",
       "      <td>...</td>\n",
       "      <td>...</td>\n",
       "      <td>...</td>\n",
       "      <td>...</td>\n",
       "      <td>...</td>\n",
       "      <td>...</td>\n",
       "      <td>...</td>\n",
       "    </tr>\n",
       "    <tr>\n",
       "      <th>8608</th>\n",
       "      <td>815727940</td>\n",
       "      <td>False</td>\n",
       "      <td>male</td>\n",
       "      <td>1.0000</td>\n",
       "      <td>yes</td>\n",
       "      <td>1.0</td>\n",
       "      <td>76 years young. A Houston Texan fan (Oilers go...</td>\n",
       "      <td>3499</td>\n",
       "      <td>nobulltexan</td>\n",
       "      <td>0</td>\n",
       "      <td>Would the Texans &amp;amp; Colts swap coaches &amp;amp...</td>\n",
       "      <td>1003</td>\n",
       "      <td>2</td>\n",
       "      <td>0</td>\n",
       "    </tr>\n",
       "    <tr>\n",
       "      <th>882</th>\n",
       "      <td>815720111</td>\n",
       "      <td>False</td>\n",
       "      <td>male</td>\n",
       "      <td>1.0000</td>\n",
       "      <td>yes</td>\n",
       "      <td>1.0</td>\n",
       "      <td>San Diego</td>\n",
       "      <td>174</td>\n",
       "      <td>omgitscharms</td>\n",
       "      <td>0</td>\n",
       "      <td>It's such a prefect day to go to the beach</td>\n",
       "      <td>1002</td>\n",
       "      <td>2</td>\n",
       "      <td>0</td>\n",
       "    </tr>\n",
       "    <tr>\n",
       "      <th>14781</th>\n",
       "      <td>815734250</td>\n",
       "      <td>False</td>\n",
       "      <td>female</td>\n",
       "      <td>1.0000</td>\n",
       "      <td>yes</td>\n",
       "      <td>1.0</td>\n",
       "      <td></td>\n",
       "      <td>297</td>\n",
       "      <td>brigibas</td>\n",
       "      <td>0</td>\n",
       "      <td>My teacher noticed everyone looked tired and t...</td>\n",
       "      <td>1002</td>\n",
       "      <td>1</td>\n",
       "      <td>0</td>\n",
       "    </tr>\n",
       "    <tr>\n",
       "      <th>8060</th>\n",
       "      <td>815727382</td>\n",
       "      <td>False</td>\n",
       "      <td>female</td>\n",
       "      <td>1.0000</td>\n",
       "      <td>yes</td>\n",
       "      <td>1.0</td>\n",
       "      <td>What's life without LOVE! Think positive, be h...</td>\n",
       "      <td>1642</td>\n",
       "      <td>StephanieDiN</td>\n",
       "      <td>0</td>\n",
       "      <td>Scarf hair is in full effect. Aka: a bird size...</td>\n",
       "      <td>1001</td>\n",
       "      <td>1</td>\n",
       "      <td>0</td>\n",
       "    </tr>\n",
       "    <tr>\n",
       "      <th>8772</th>\n",
       "      <td>815728106</td>\n",
       "      <td>False</td>\n",
       "      <td>male</td>\n",
       "      <td>0.6732</td>\n",
       "      <td>yes</td>\n",
       "      <td>1.0</td>\n",
       "      <td>¯¤ôم¯¤ôؤôِô ¯» ¯¤ôم¯آ¯ّô_¯ّ ¯¬¯_¯ّ ôة¯¤ ¯¤ôمôâ...</td>\n",
       "      <td>79</td>\n",
       "      <td>Bassmaazz</td>\n",
       "      <td>0</td>\n",
       "      <td>Follow The queen Of stage \\n_ظشن_ظشن @MabelleC...</td>\n",
       "      <td>1000</td>\n",
       "      <td>2</td>\n",
       "      <td>0</td>\n",
       "    </tr>\n",
       "  </tbody>\n",
       "</table>\n",
       "<p>15308 rows × 14 columns</p>\n",
       "</div>"
      ],
      "text/plain": [
       "        _unit_id  _golden  gender  gender:confidence profile_yn  \\\n",
       "15940  815735441    False    male             1.0000        yes   \n",
       "5093   815724399    False   brand             1.0000        yes   \n",
       "4245   815723544    False   brand             0.6561        yes   \n",
       "5563   815724872    False   brand             1.0000        yes   \n",
       "6371   815725682    False   brand             1.0000        yes   \n",
       "...          ...      ...     ...                ...        ...   \n",
       "8608   815727940    False    male             1.0000        yes   \n",
       "882    815720111    False    male             1.0000        yes   \n",
       "14781  815734250    False  female             1.0000        yes   \n",
       "8060   815727382    False  female             1.0000        yes   \n",
       "8772   815728106    False    male             0.6732        yes   \n",
       "\n",
       "       profile_yn:confidence  \\\n",
       "15940                    1.0   \n",
       "5093                     1.0   \n",
       "4245                     1.0   \n",
       "5563                     1.0   \n",
       "6371                     1.0   \n",
       "...                      ...   \n",
       "8608                     1.0   \n",
       "882                      1.0   \n",
       "14781                    1.0   \n",
       "8060                     1.0   \n",
       "8772                     1.0   \n",
       "\n",
       "                                             description  fav_number  \\\n",
       "15940  Confira as ultimas notج_cias do que estجء acon...       81372   \n",
       "5093   The Map Game is a free geography quiz based on...           1   \n",
       "4245   The Map Game is a free geography quiz based on...           1   \n",
       "5563   The Map Game is a free geography quiz based on...           1   \n",
       "6371   The Map Game is a free geography quiz based on...           1   \n",
       "...                                                  ...         ...   \n",
       "8608   76 years young. A Houston Texan fan (Oilers go...        3499   \n",
       "882                                            San Diego         174   \n",
       "14781                                                            297   \n",
       "8060   What's life without LOVE! Think positive, be h...        1642   \n",
       "8772   ¯¤ôم¯¤ôؤôِô ¯» ¯¤ôم¯آ¯ّô_¯ّ ¯¬¯_¯ّ ôة¯¤ ¯¤ôمôâ...          79   \n",
       "\n",
       "               name  retweet_count  \\\n",
       "15940  gabrieldsmqs              0   \n",
       "5093       Map_Game              0   \n",
       "4245       Map_Game              0   \n",
       "5563       Map_Game              0   \n",
       "6371       Map_Game              0   \n",
       "...             ...            ...   \n",
       "8608    nobulltexan              0   \n",
       "882    omgitscharms              0   \n",
       "14781      brigibas              0   \n",
       "8060   StephanieDiN              0   \n",
       "8772      Bassmaazz              0   \n",
       "\n",
       "                                                    text  tweet_count  \\\n",
       "15940  One State‰غھs Struggle to Make Ends Meet: Why ...      2680199   \n",
       "5093   Where is Pinellas Park on the map? Play the ga...      2372591   \n",
       "4245   Where is Doha on the map? Play the game at htt...      2372591   \n",
       "5563   Can you find Calcutta on the map? Just try it ...      2372591   \n",
       "6371   Can you find Pune on the map? Just try it at h...      2372591   \n",
       "...                                                  ...          ...   \n",
       "8608   Would the Texans &amp; Colts swap coaches &amp...         1003   \n",
       "882           It's such a prefect day to go to the beach         1002   \n",
       "14781  My teacher noticed everyone looked tired and t...         1002   \n",
       "8060   Scarf hair is in full effect. Aka: a bird size...         1001   \n",
       "8772   Follow The queen Of stage \\n_ظشن_ظشن @MabelleC...         1000   \n",
       "\n",
       "       gender1  profile_yn1  \n",
       "15940        2            0  \n",
       "5093         0            0  \n",
       "4245         0            0  \n",
       "5563         0            0  \n",
       "6371         0            0  \n",
       "...        ...          ...  \n",
       "8608         2            0  \n",
       "882          2            0  \n",
       "14781        1            0  \n",
       "8060         1            0  \n",
       "8772         2            0  \n",
       "\n",
       "[15308 rows x 14 columns]"
      ]
     },
     "execution_count": 256,
     "metadata": {},
     "output_type": "execute_result"
    }
   ],
   "source": [
    "df = df[df['tweet_count']>=1000]\n",
    "df"
   ]
  },
  {
   "cell_type": "code",
   "execution_count": 257,
   "id": "95843852",
   "metadata": {},
   "outputs": [
    {
     "data": {
      "text/html": [
       "<div>\n",
       "<style scoped>\n",
       "    .dataframe tbody tr th:only-of-type {\n",
       "        vertical-align: middle;\n",
       "    }\n",
       "\n",
       "    .dataframe tbody tr th {\n",
       "        vertical-align: top;\n",
       "    }\n",
       "\n",
       "    .dataframe thead th {\n",
       "        text-align: right;\n",
       "    }\n",
       "</style>\n",
       "<table border=\"1\" class=\"dataframe\">\n",
       "  <thead>\n",
       "    <tr style=\"text-align: right;\">\n",
       "      <th></th>\n",
       "      <th>_unit_id</th>\n",
       "      <th>gender:confidence</th>\n",
       "      <th>profile_yn:confidence</th>\n",
       "      <th>fav_number</th>\n",
       "      <th>retweet_count</th>\n",
       "      <th>tweet_count</th>\n",
       "      <th>gender1</th>\n",
       "      <th>profile_yn1</th>\n",
       "    </tr>\n",
       "  </thead>\n",
       "  <tbody>\n",
       "    <tr>\n",
       "      <th>count</th>\n",
       "      <td>1.530800e+04</td>\n",
       "      <td>15308.000000</td>\n",
       "      <td>15308.000000</td>\n",
       "      <td>15308.000000</td>\n",
       "      <td>15308.000000</td>\n",
       "      <td>1.530800e+04</td>\n",
       "      <td>15308.000000</td>\n",
       "      <td>15308.0</td>\n",
       "    </tr>\n",
       "    <tr>\n",
       "      <th>mean</th>\n",
       "      <td>8.157294e+08</td>\n",
       "      <td>0.918488</td>\n",
       "      <td>0.995953</td>\n",
       "      <td>5065.567873</td>\n",
       "      <td>0.094852</td>\n",
       "      <td>4.620844e+04</td>\n",
       "      <td>1.005879</td>\n",
       "      <td>0.0</td>\n",
       "    </tr>\n",
       "    <tr>\n",
       "      <th>std</th>\n",
       "      <td>5.990187e+03</td>\n",
       "      <td>0.143034</td>\n",
       "      <td>0.036579</td>\n",
       "      <td>13163.706151</td>\n",
       "      <td>3.027328</td>\n",
       "      <td>1.287762e+05</td>\n",
       "      <td>0.798978</td>\n",
       "      <td>0.0</td>\n",
       "    </tr>\n",
       "    <tr>\n",
       "      <th>min</th>\n",
       "      <td>8.157192e+08</td>\n",
       "      <td>0.605900</td>\n",
       "      <td>0.632300</td>\n",
       "      <td>0.000000</td>\n",
       "      <td>0.000000</td>\n",
       "      <td>1.000000e+03</td>\n",
       "      <td>0.000000</td>\n",
       "      <td>0.0</td>\n",
       "    </tr>\n",
       "    <tr>\n",
       "      <th>25%</th>\n",
       "      <td>8.157243e+08</td>\n",
       "      <td>1.000000</td>\n",
       "      <td>1.000000</td>\n",
       "      <td>21.000000</td>\n",
       "      <td>0.000000</td>\n",
       "      <td>5.455750e+03</td>\n",
       "      <td>0.000000</td>\n",
       "      <td>0.0</td>\n",
       "    </tr>\n",
       "    <tr>\n",
       "      <th>50%</th>\n",
       "      <td>8.157292e+08</td>\n",
       "      <td>1.000000</td>\n",
       "      <td>1.000000</td>\n",
       "      <td>806.000000</td>\n",
       "      <td>0.000000</td>\n",
       "      <td>1.721450e+04</td>\n",
       "      <td>1.000000</td>\n",
       "      <td>0.0</td>\n",
       "    </tr>\n",
       "    <tr>\n",
       "      <th>75%</th>\n",
       "      <td>8.157344e+08</td>\n",
       "      <td>1.000000</td>\n",
       "      <td>1.000000</td>\n",
       "      <td>4331.000000</td>\n",
       "      <td>0.000000</td>\n",
       "      <td>4.613075e+04</td>\n",
       "      <td>2.000000</td>\n",
       "      <td>0.0</td>\n",
       "    </tr>\n",
       "    <tr>\n",
       "      <th>max</th>\n",
       "      <td>8.157580e+08</td>\n",
       "      <td>1.000000</td>\n",
       "      <td>1.000000</td>\n",
       "      <td>341621.000000</td>\n",
       "      <td>330.000000</td>\n",
       "      <td>2.680199e+06</td>\n",
       "      <td>2.000000</td>\n",
       "      <td>0.0</td>\n",
       "    </tr>\n",
       "  </tbody>\n",
       "</table>\n",
       "</div>"
      ],
      "text/plain": [
       "           _unit_id  gender:confidence  profile_yn:confidence     fav_number  \\\n",
       "count  1.530800e+04       15308.000000           15308.000000   15308.000000   \n",
       "mean   8.157294e+08           0.918488               0.995953    5065.567873   \n",
       "std    5.990187e+03           0.143034               0.036579   13163.706151   \n",
       "min    8.157192e+08           0.605900               0.632300       0.000000   \n",
       "25%    8.157243e+08           1.000000               1.000000      21.000000   \n",
       "50%    8.157292e+08           1.000000               1.000000     806.000000   \n",
       "75%    8.157344e+08           1.000000               1.000000    4331.000000   \n",
       "max    8.157580e+08           1.000000               1.000000  341621.000000   \n",
       "\n",
       "       retweet_count   tweet_count       gender1  profile_yn1  \n",
       "count   15308.000000  1.530800e+04  15308.000000      15308.0  \n",
       "mean        0.094852  4.620844e+04      1.005879          0.0  \n",
       "std         3.027328  1.287762e+05      0.798978          0.0  \n",
       "min         0.000000  1.000000e+03      0.000000          0.0  \n",
       "25%         0.000000  5.455750e+03      0.000000          0.0  \n",
       "50%         0.000000  1.721450e+04      1.000000          0.0  \n",
       "75%         0.000000  4.613075e+04      2.000000          0.0  \n",
       "max       330.000000  2.680199e+06      2.000000          0.0  "
      ]
     },
     "execution_count": 257,
     "metadata": {},
     "output_type": "execute_result"
    }
   ],
   "source": [
    "df.describe()"
   ]
  },
  {
   "cell_type": "code",
   "execution_count": 258,
   "id": "3e8b98d3",
   "metadata": {},
   "outputs": [
    {
     "data": {
      "text/html": [
       "<div>\n",
       "<style scoped>\n",
       "    .dataframe tbody tr th:only-of-type {\n",
       "        vertical-align: middle;\n",
       "    }\n",
       "\n",
       "    .dataframe tbody tr th {\n",
       "        vertical-align: top;\n",
       "    }\n",
       "\n",
       "    .dataframe thead th {\n",
       "        text-align: right;\n",
       "    }\n",
       "</style>\n",
       "<table border=\"1\" class=\"dataframe\">\n",
       "  <thead>\n",
       "    <tr style=\"text-align: right;\">\n",
       "      <th></th>\n",
       "      <th>_unit_id</th>\n",
       "      <th>_golden</th>\n",
       "      <th>gender</th>\n",
       "      <th>gender:confidence</th>\n",
       "      <th>profile_yn</th>\n",
       "      <th>profile_yn:confidence</th>\n",
       "      <th>description</th>\n",
       "      <th>fav_number</th>\n",
       "      <th>name</th>\n",
       "      <th>retweet_count</th>\n",
       "      <th>text</th>\n",
       "      <th>tweet_count</th>\n",
       "      <th>gender1</th>\n",
       "      <th>profile_yn1</th>\n",
       "    </tr>\n",
       "  </thead>\n",
       "  <tbody>\n",
       "    <tr>\n",
       "      <th>19198</th>\n",
       "      <td>815738771</td>\n",
       "      <td>False</td>\n",
       "      <td>brand</td>\n",
       "      <td>1.0000</td>\n",
       "      <td>yes</td>\n",
       "      <td>1.0</td>\n",
       "      <td>Legitimate reviews from 100% people, every two...</td>\n",
       "      <td>0</td>\n",
       "      <td>RealHumanPraise</td>\n",
       "      <td>0</td>\n",
       "      <td>a heart that's both uproariously wicked (often...</td>\n",
       "      <td>487647</td>\n",
       "      <td>0</td>\n",
       "      <td>0</td>\n",
       "    </tr>\n",
       "    <tr>\n",
       "      <th>12753</th>\n",
       "      <td>815732177</td>\n",
       "      <td>False</td>\n",
       "      <td>brand</td>\n",
       "      <td>1.0000</td>\n",
       "      <td>yes</td>\n",
       "      <td>1.0</td>\n",
       "      <td>A Site Where People Find Local MLM, Direct Sal...</td>\n",
       "      <td>0</td>\n",
       "      <td>findsalesrepcom</td>\n",
       "      <td>0</td>\n",
       "      <td>Find #Avon product and business reps in #New Y...</td>\n",
       "      <td>474846</td>\n",
       "      <td>0</td>\n",
       "      <td>0</td>\n",
       "    </tr>\n",
       "    <tr>\n",
       "      <th>6272</th>\n",
       "      <td>815725583</td>\n",
       "      <td>False</td>\n",
       "      <td>brand</td>\n",
       "      <td>0.6414</td>\n",
       "      <td>yes</td>\n",
       "      <td>1.0</td>\n",
       "      <td>‰رـ •_ہ•_ہ•_ہ•_ہ•_ہ\\n‹غغ‹غغ‹غغ   ‰ِ´‹غغJEKETI‹...</td>\n",
       "      <td>5</td>\n",
       "      <td>wotanonymous</td>\n",
       "      <td>0</td>\n",
       "      <td>VIDEO: James Bond Spectre world premiere: Afte...</td>\n",
       "      <td>465759</td>\n",
       "      <td>0</td>\n",
       "      <td>0</td>\n",
       "    </tr>\n",
       "    <tr>\n",
       "      <th>13637</th>\n",
       "      <td>815733085</td>\n",
       "      <td>False</td>\n",
       "      <td>female</td>\n",
       "      <td>1.0000</td>\n",
       "      <td>yes</td>\n",
       "      <td>1.0</td>\n",
       "      <td>Works for the NHS. Geek. Likes history, politi...</td>\n",
       "      <td>5524</td>\n",
       "      <td>Moonbootica</td>\n",
       "      <td>0</td>\n",
       "      <td>Sylvie Guillem, Tamara Rojo and Anna Pavlova (...</td>\n",
       "      <td>461093</td>\n",
       "      <td>1</td>\n",
       "      <td>0</td>\n",
       "    </tr>\n",
       "    <tr>\n",
       "      <th>10897</th>\n",
       "      <td>815730269</td>\n",
       "      <td>False</td>\n",
       "      <td>brand</td>\n",
       "      <td>1.0000</td>\n",
       "      <td>yes</td>\n",
       "      <td>1.0</td>\n",
       "      <td>Bite-sized news, that keeps you updated.</td>\n",
       "      <td>2</td>\n",
       "      <td>StrawberryNG</td>\n",
       "      <td>0</td>\n",
       "      <td>Build a Transforming Workbench, Desk, and Stor...</td>\n",
       "      <td>456724</td>\n",
       "      <td>0</td>\n",
       "      <td>0</td>\n",
       "    </tr>\n",
       "    <tr>\n",
       "      <th>...</th>\n",
       "      <td>...</td>\n",
       "      <td>...</td>\n",
       "      <td>...</td>\n",
       "      <td>...</td>\n",
       "      <td>...</td>\n",
       "      <td>...</td>\n",
       "      <td>...</td>\n",
       "      <td>...</td>\n",
       "      <td>...</td>\n",
       "      <td>...</td>\n",
       "      <td>...</td>\n",
       "      <td>...</td>\n",
       "      <td>...</td>\n",
       "      <td>...</td>\n",
       "    </tr>\n",
       "    <tr>\n",
       "      <th>8608</th>\n",
       "      <td>815727940</td>\n",
       "      <td>False</td>\n",
       "      <td>male</td>\n",
       "      <td>1.0000</td>\n",
       "      <td>yes</td>\n",
       "      <td>1.0</td>\n",
       "      <td>76 years young. A Houston Texan fan (Oilers go...</td>\n",
       "      <td>3499</td>\n",
       "      <td>nobulltexan</td>\n",
       "      <td>0</td>\n",
       "      <td>Would the Texans &amp;amp; Colts swap coaches &amp;amp...</td>\n",
       "      <td>1003</td>\n",
       "      <td>2</td>\n",
       "      <td>0</td>\n",
       "    </tr>\n",
       "    <tr>\n",
       "      <th>882</th>\n",
       "      <td>815720111</td>\n",
       "      <td>False</td>\n",
       "      <td>male</td>\n",
       "      <td>1.0000</td>\n",
       "      <td>yes</td>\n",
       "      <td>1.0</td>\n",
       "      <td>San Diego</td>\n",
       "      <td>174</td>\n",
       "      <td>omgitscharms</td>\n",
       "      <td>0</td>\n",
       "      <td>It's such a prefect day to go to the beach</td>\n",
       "      <td>1002</td>\n",
       "      <td>2</td>\n",
       "      <td>0</td>\n",
       "    </tr>\n",
       "    <tr>\n",
       "      <th>14781</th>\n",
       "      <td>815734250</td>\n",
       "      <td>False</td>\n",
       "      <td>female</td>\n",
       "      <td>1.0000</td>\n",
       "      <td>yes</td>\n",
       "      <td>1.0</td>\n",
       "      <td></td>\n",
       "      <td>297</td>\n",
       "      <td>brigibas</td>\n",
       "      <td>0</td>\n",
       "      <td>My teacher noticed everyone looked tired and t...</td>\n",
       "      <td>1002</td>\n",
       "      <td>1</td>\n",
       "      <td>0</td>\n",
       "    </tr>\n",
       "    <tr>\n",
       "      <th>8060</th>\n",
       "      <td>815727382</td>\n",
       "      <td>False</td>\n",
       "      <td>female</td>\n",
       "      <td>1.0000</td>\n",
       "      <td>yes</td>\n",
       "      <td>1.0</td>\n",
       "      <td>What's life without LOVE! Think positive, be h...</td>\n",
       "      <td>1642</td>\n",
       "      <td>StephanieDiN</td>\n",
       "      <td>0</td>\n",
       "      <td>Scarf hair is in full effect. Aka: a bird size...</td>\n",
       "      <td>1001</td>\n",
       "      <td>1</td>\n",
       "      <td>0</td>\n",
       "    </tr>\n",
       "    <tr>\n",
       "      <th>8772</th>\n",
       "      <td>815728106</td>\n",
       "      <td>False</td>\n",
       "      <td>male</td>\n",
       "      <td>0.6732</td>\n",
       "      <td>yes</td>\n",
       "      <td>1.0</td>\n",
       "      <td>¯¤ôم¯¤ôؤôِô ¯» ¯¤ôم¯آ¯ّô_¯ّ ¯¬¯_¯ّ ôة¯¤ ¯¤ôمôâ...</td>\n",
       "      <td>79</td>\n",
       "      <td>Bassmaazz</td>\n",
       "      <td>0</td>\n",
       "      <td>Follow The queen Of stage \\n_ظشن_ظشن @MabelleC...</td>\n",
       "      <td>1000</td>\n",
       "      <td>2</td>\n",
       "      <td>0</td>\n",
       "    </tr>\n",
       "  </tbody>\n",
       "</table>\n",
       "<p>15176 rows × 14 columns</p>\n",
       "</div>"
      ],
      "text/plain": [
       "        _unit_id  _golden  gender  gender:confidence profile_yn  \\\n",
       "19198  815738771    False   brand             1.0000        yes   \n",
       "12753  815732177    False   brand             1.0000        yes   \n",
       "6272   815725583    False   brand             0.6414        yes   \n",
       "13637  815733085    False  female             1.0000        yes   \n",
       "10897  815730269    False   brand             1.0000        yes   \n",
       "...          ...      ...     ...                ...        ...   \n",
       "8608   815727940    False    male             1.0000        yes   \n",
       "882    815720111    False    male             1.0000        yes   \n",
       "14781  815734250    False  female             1.0000        yes   \n",
       "8060   815727382    False  female             1.0000        yes   \n",
       "8772   815728106    False    male             0.6732        yes   \n",
       "\n",
       "       profile_yn:confidence  \\\n",
       "19198                    1.0   \n",
       "12753                    1.0   \n",
       "6272                     1.0   \n",
       "13637                    1.0   \n",
       "10897                    1.0   \n",
       "...                      ...   \n",
       "8608                     1.0   \n",
       "882                      1.0   \n",
       "14781                    1.0   \n",
       "8060                     1.0   \n",
       "8772                     1.0   \n",
       "\n",
       "                                             description  fav_number  \\\n",
       "19198  Legitimate reviews from 100% people, every two...           0   \n",
       "12753  A Site Where People Find Local MLM, Direct Sal...           0   \n",
       "6272   ‰رـ •_ہ•_ہ•_ہ•_ہ•_ہ\\n‹غغ‹غغ‹غغ   ‰ِ´‹غغJEKETI‹...           5   \n",
       "13637  Works for the NHS. Geek. Likes history, politi...        5524   \n",
       "10897           Bite-sized news, that keeps you updated.           2   \n",
       "...                                                  ...         ...   \n",
       "8608   76 years young. A Houston Texan fan (Oilers go...        3499   \n",
       "882                                            San Diego         174   \n",
       "14781                                                            297   \n",
       "8060   What's life without LOVE! Think positive, be h...        1642   \n",
       "8772   ¯¤ôم¯¤ôؤôِô ¯» ¯¤ôم¯آ¯ّô_¯ّ ¯¬¯_¯ّ ôة¯¤ ¯¤ôمôâ...          79   \n",
       "\n",
       "                  name  retweet_count  \\\n",
       "19198  RealHumanPraise              0   \n",
       "12753  findsalesrepcom              0   \n",
       "6272      wotanonymous              0   \n",
       "13637      Moonbootica              0   \n",
       "10897     StrawberryNG              0   \n",
       "...                ...            ...   \n",
       "8608       nobulltexan              0   \n",
       "882       omgitscharms              0   \n",
       "14781         brigibas              0   \n",
       "8060      StephanieDiN              0   \n",
       "8772         Bassmaazz              0   \n",
       "\n",
       "                                                    text  tweet_count  \\\n",
       "19198  a heart that's both uproariously wicked (often...       487647   \n",
       "12753  Find #Avon product and business reps in #New Y...       474846   \n",
       "6272   VIDEO: James Bond Spectre world premiere: Afte...       465759   \n",
       "13637  Sylvie Guillem, Tamara Rojo and Anna Pavlova (...       461093   \n",
       "10897  Build a Transforming Workbench, Desk, and Stor...       456724   \n",
       "...                                                  ...          ...   \n",
       "8608   Would the Texans &amp; Colts swap coaches &amp...         1003   \n",
       "882           It's such a prefect day to go to the beach         1002   \n",
       "14781  My teacher noticed everyone looked tired and t...         1002   \n",
       "8060   Scarf hair is in full effect. Aka: a bird size...         1001   \n",
       "8772   Follow The queen Of stage \\n_ظشن_ظشن @MabelleC...         1000   \n",
       "\n",
       "       gender1  profile_yn1  \n",
       "19198        0            0  \n",
       "12753        0            0  \n",
       "6272         0            0  \n",
       "13637        1            0  \n",
       "10897        0            0  \n",
       "...        ...          ...  \n",
       "8608         2            0  \n",
       "882          2            0  \n",
       "14781        1            0  \n",
       "8060         1            0  \n",
       "8772         2            0  \n",
       "\n",
       "[15176 rows x 14 columns]"
      ]
     },
     "execution_count": 258,
     "metadata": {},
     "output_type": "execute_result"
    }
   ],
   "source": [
    "df = df[df['tweet_count']<=500000]\n",
    "df"
   ]
  },
  {
   "cell_type": "code",
   "execution_count": 259,
   "id": "bd416041",
   "metadata": {},
   "outputs": [
    {
     "data": {
      "text/plain": [
       "1    5521\n",
       "2    4903\n",
       "0    4752\n",
       "Name: gender1, dtype: int64"
      ]
     },
     "execution_count": 259,
     "metadata": {},
     "output_type": "execute_result"
    }
   ],
   "source": [
    "df['gender1'].value_counts()"
   ]
  },
  {
   "cell_type": "code",
   "execution_count": 260,
   "id": "71da4c8a",
   "metadata": {},
   "outputs": [],
   "source": [
    "#نلاحظ هنا أنا اللتي فرضت أن عدد الرجال 4903 لان النساء عددهم 4903 و راح أحذف بيانات البراند "
   ]
  },
  {
   "cell_type": "code",
   "execution_count": 261,
   "id": "46fd96c5",
   "metadata": {},
   "outputs": [],
   "source": [
    "male_df = df[df['gender1'] == 1][:4903]\n",
    "female_df = df[df['gender1'] == 2]\n",
    "female_df.shape,male_df.shape\n",
    "\n",
    "df = male_df\n",
    "df = df.append(female_df)"
   ]
  },
  {
   "cell_type": "code",
   "execution_count": 262,
   "id": "8485325e",
   "metadata": {},
   "outputs": [
    {
     "data": {
      "text/plain": [
       "(9806, 14)"
      ]
     },
     "execution_count": 262,
     "metadata": {},
     "output_type": "execute_result"
    }
   ],
   "source": [
    "df.shape"
   ]
  },
  {
   "cell_type": "code",
   "execution_count": 263,
   "id": "a469ccce",
   "metadata": {},
   "outputs": [
    {
     "data": {
      "text/plain": [
       "1    4903\n",
       "2    4903\n",
       "Name: gender1, dtype: int64"
      ]
     },
     "execution_count": 263,
     "metadata": {},
     "output_type": "execute_result"
    }
   ],
   "source": [
    "df['gender1'].value_counts()"
   ]
  },
  {
   "cell_type": "code",
   "execution_count": 264,
   "id": "20fa4993",
   "metadata": {
    "scrolled": true
   },
   "outputs": [
    {
     "data": {
      "text/html": [
       "<div>\n",
       "<style scoped>\n",
       "    .dataframe tbody tr th:only-of-type {\n",
       "        vertical-align: middle;\n",
       "    }\n",
       "\n",
       "    .dataframe tbody tr th {\n",
       "        vertical-align: top;\n",
       "    }\n",
       "\n",
       "    .dataframe thead th {\n",
       "        text-align: right;\n",
       "    }\n",
       "</style>\n",
       "<table border=\"1\" class=\"dataframe\">\n",
       "  <thead>\n",
       "    <tr style=\"text-align: right;\">\n",
       "      <th></th>\n",
       "      <th>_unit_id</th>\n",
       "      <th>gender:confidence</th>\n",
       "      <th>profile_yn:confidence</th>\n",
       "      <th>fav_number</th>\n",
       "      <th>retweet_count</th>\n",
       "      <th>tweet_count</th>\n",
       "      <th>gender1</th>\n",
       "      <th>profile_yn1</th>\n",
       "    </tr>\n",
       "  </thead>\n",
       "  <tbody>\n",
       "    <tr>\n",
       "      <th>count</th>\n",
       "      <td>9.806000e+03</td>\n",
       "      <td>9806.000000</td>\n",
       "      <td>9806.000000</td>\n",
       "      <td>9806.000000</td>\n",
       "      <td>9806.000000</td>\n",
       "      <td>9806.000000</td>\n",
       "      <td>9806.000000</td>\n",
       "      <td>9806.0</td>\n",
       "    </tr>\n",
       "    <tr>\n",
       "      <th>mean</th>\n",
       "      <td>8.157297e+08</td>\n",
       "      <td>0.932819</td>\n",
       "      <td>0.995887</td>\n",
       "      <td>6648.494391</td>\n",
       "      <td>0.080767</td>\n",
       "      <td>33213.458393</td>\n",
       "      <td>1.500000</td>\n",
       "      <td>0.0</td>\n",
       "    </tr>\n",
       "    <tr>\n",
       "      <th>std</th>\n",
       "      <td>6.204691e+03</td>\n",
       "      <td>0.133473</td>\n",
       "      <td>0.036945</td>\n",
       "      <td>14106.109814</td>\n",
       "      <td>1.740657</td>\n",
       "      <td>49314.941780</td>\n",
       "      <td>0.500025</td>\n",
       "      <td>0.0</td>\n",
       "    </tr>\n",
       "    <tr>\n",
       "      <th>min</th>\n",
       "      <td>8.157192e+08</td>\n",
       "      <td>0.621200</td>\n",
       "      <td>0.637300</td>\n",
       "      <td>0.000000</td>\n",
       "      <td>0.000000</td>\n",
       "      <td>1000.000000</td>\n",
       "      <td>1.000000</td>\n",
       "      <td>0.0</td>\n",
       "    </tr>\n",
       "    <tr>\n",
       "      <th>25%</th>\n",
       "      <td>8.157239e+08</td>\n",
       "      <td>1.000000</td>\n",
       "      <td>1.000000</td>\n",
       "      <td>345.000000</td>\n",
       "      <td>0.000000</td>\n",
       "      <td>5878.750000</td>\n",
       "      <td>1.000000</td>\n",
       "      <td>0.0</td>\n",
       "    </tr>\n",
       "    <tr>\n",
       "      <th>50%</th>\n",
       "      <td>8.157301e+08</td>\n",
       "      <td>1.000000</td>\n",
       "      <td>1.000000</td>\n",
       "      <td>1991.000000</td>\n",
       "      <td>0.000000</td>\n",
       "      <td>14767.000000</td>\n",
       "      <td>1.500000</td>\n",
       "      <td>0.0</td>\n",
       "    </tr>\n",
       "    <tr>\n",
       "      <th>75%</th>\n",
       "      <td>8.157350e+08</td>\n",
       "      <td>1.000000</td>\n",
       "      <td>1.000000</td>\n",
       "      <td>6734.750000</td>\n",
       "      <td>0.000000</td>\n",
       "      <td>38583.500000</td>\n",
       "      <td>2.000000</td>\n",
       "      <td>0.0</td>\n",
       "    </tr>\n",
       "    <tr>\n",
       "      <th>max</th>\n",
       "      <td>8.157580e+08</td>\n",
       "      <td>1.000000</td>\n",
       "      <td>1.000000</td>\n",
       "      <td>341621.000000</td>\n",
       "      <td>153.000000</td>\n",
       "      <td>461093.000000</td>\n",
       "      <td>2.000000</td>\n",
       "      <td>0.0</td>\n",
       "    </tr>\n",
       "  </tbody>\n",
       "</table>\n",
       "</div>"
      ],
      "text/plain": [
       "           _unit_id  gender:confidence  profile_yn:confidence     fav_number  \\\n",
       "count  9.806000e+03        9806.000000            9806.000000    9806.000000   \n",
       "mean   8.157297e+08           0.932819               0.995887    6648.494391   \n",
       "std    6.204691e+03           0.133473               0.036945   14106.109814   \n",
       "min    8.157192e+08           0.621200               0.637300       0.000000   \n",
       "25%    8.157239e+08           1.000000               1.000000     345.000000   \n",
       "50%    8.157301e+08           1.000000               1.000000    1991.000000   \n",
       "75%    8.157350e+08           1.000000               1.000000    6734.750000   \n",
       "max    8.157580e+08           1.000000               1.000000  341621.000000   \n",
       "\n",
       "       retweet_count    tweet_count      gender1  profile_yn1  \n",
       "count    9806.000000    9806.000000  9806.000000       9806.0  \n",
       "mean        0.080767   33213.458393     1.500000          0.0  \n",
       "std         1.740657   49314.941780     0.500025          0.0  \n",
       "min         0.000000    1000.000000     1.000000          0.0  \n",
       "25%         0.000000    5878.750000     1.000000          0.0  \n",
       "50%         0.000000   14767.000000     1.500000          0.0  \n",
       "75%         0.000000   38583.500000     2.000000          0.0  \n",
       "max       153.000000  461093.000000     2.000000          0.0  "
      ]
     },
     "execution_count": 264,
     "metadata": {},
     "output_type": "execute_result"
    }
   ],
   "source": [
    "df.describe()"
   ]
  },
  {
   "cell_type": "code",
   "execution_count": 265,
   "id": "7d60bc76",
   "metadata": {},
   "outputs": [],
   "source": [
    "#Cleaning the tweet text "
   ]
  },
  {
   "cell_type": "code",
   "execution_count": 266,
   "id": "c8f59312",
   "metadata": {},
   "outputs": [
    {
     "data": {
      "text/plain": [
       "'Two Sisters were Beaten and Held Hostage by Men They Met On Facebook! https://t.co/5cgR48doX7'"
      ]
     },
     "execution_count": 266,
     "metadata": {},
     "output_type": "execute_result"
    }
   ],
   "source": [
    "tweets = list(df['text'])\n",
    "tweets[5]"
   ]
  },
  {
   "cell_type": "code",
   "execution_count": 267,
   "id": "8f9356b0",
   "metadata": {},
   "outputs": [],
   "source": [
    "# أمر split لتقسيم النص "
   ]
  },
  {
   "cell_type": "code",
   "execution_count": 268,
   "id": "26cb30f0",
   "metadata": {},
   "outputs": [],
   "source": [
    "# أمر .strip() إرجاع النص الأصلي بدون فواصل أو فراغات "
   ]
  },
  {
   "cell_type": "code",
   "execution_count": 269,
   "id": "f1eb906b",
   "metadata": {},
   "outputs": [],
   "source": [
    "#أولاً يدخل النص من اللوب ثم يتم استدعاء الدالة بحيث يخرج لنا نص التغريدة بأحرف صغيرة و خالية من العلامات البادئة @ و # و\\\\ "
   ]
  },
  {
   "cell_type": "code",
   "execution_count": 270,
   "id": "4dba63a9",
   "metadata": {},
   "outputs": [
    {
     "data": {
      "text/plain": [
       "'two sisters were beaten and held hostage by men they met on facebook! https://t.co/5cgr48dox7'"
      ]
     },
     "execution_count": 270,
     "metadata": {},
     "output_type": "execute_result"
    }
   ],
   "source": [
    "def strip_all_entities(text):\n",
    "    words = []\n",
    "    entity_prefixes = ['@','#','\\\\']\n",
    "\n",
    "    for word in text.split():\n",
    "        word = word.strip()\n",
    "        if word:\n",
    "            if word[0] not in entity_prefixes:\n",
    "                words.append(word)\n",
    "    return ' '.join(words)\n",
    "\n",
    "\n",
    "for i in range(0,len(tweets)):\n",
    "    tweets[i] = tweets[i].lower()\n",
    "    tweets[i] = strip_all_entities(tweets[i])\n",
    "  \n",
    "\n",
    "\n",
    "tweets[5]"
   ]
  },
  {
   "cell_type": "code",
   "execution_count": 271,
   "id": "c1a8192e",
   "metadata": {},
   "outputs": [],
   "source": [
    "# حذف الروابط من أول خمس تغريدات "
   ]
  },
  {
   "cell_type": "code",
   "execution_count": 272,
   "id": "423f86ac",
   "metadata": {},
   "outputs": [
    {
     "data": {
      "text/plain": [
       "['sylvie guillem, tamara rojo and anna pavlova (aced the ballet round!)',\n",
       " 'one state‰غھs struggle to make ends meet: why illinois is without a budget',\n",
       " 'and ive never seen men describe a realistic woman on here',\n",
       " 'daily mail eat your greens! why eating fruit and vegetables in youth protects your heart ... daily mail people who‰غ_',\n",
       " 'build a transforming workbench, desk, and storage unit: if you don‰غھt have a lot of space, you need to make cre...']"
      ]
     },
     "execution_count": 272,
     "metadata": {},
     "output_type": "execute_result"
    }
   ],
   "source": [
    "def remove_links(text):\n",
    "    words = []\n",
    "    for word in text.split():\n",
    "        if not 'https' in word:\n",
    "            words.append(word)\n",
    "    return ' '.join(words)\n",
    "\n",
    "\n",
    "for i in range(0,len(tweets)):\n",
    "    tweets[i] = remove_links(tweets[i])\n",
    "    tweets[i] = tweets[i].replace(\"[^a-zA-Z#]\",\" \")\n",
    "tweets[0:5]"
   ]
  },
  {
   "cell_type": "code",
   "execution_count": 273,
   "id": "43468108",
   "metadata": {},
   "outputs": [],
   "source": [
    "# حذف العلامات البادئة و علامات الترقيم "
   ]
  },
  {
   "cell_type": "code",
   "execution_count": 274,
   "id": "e86f3f49",
   "metadata": {},
   "outputs": [
    {
     "data": {
      "text/plain": [
       "['sylvie guillem tamara rojo and anna pavlova aced the ballet round',\n",
       " 'one struggle to make ends meet why illinois is without a budget',\n",
       " 'and ive never seen men describe a realistic woman on here',\n",
       " 'daily mail eat your greens why eating fruit and vegetables in youth protects your heart daily mail people',\n",
       " 'build a transforming workbench desk and storage unit if you have a lot of space you need to make cre',\n",
       " 'two sisters were beaten and held hostage by men they met on facebook',\n",
       " 'kourtney kardashian and kris jenner are pregnant again amp brvbar',\n",
       " 'amy schumer let amp amp s talk about the way we talk about women and sex',\n",
       " 'the college recruitment of russell wilson',\n",
       " 'and childish goin thru phones is stupid and insecure']"
      ]
     },
     "execution_count": 274,
     "metadata": {},
     "output_type": "execute_result"
    }
   ],
   "source": [
    "def remove_punc(text):\n",
    "    words = nltk.word_tokenize(text) ## فصل الكلمات \n",
    "    words=[word for word in words if word.isalpha()]\n",
    "    return ' '.join(words)\n",
    "\n",
    "for i in range(0,len(tweets)):\n",
    "    tweets[i] = remove_punc(tweets[i])\n",
    "\n",
    "tweets[0:10]"
   ]
  },
  {
   "cell_type": "code",
   "execution_count": 275,
   "id": "0462d871",
   "metadata": {},
   "outputs": [],
   "source": [
    "# )حذف (كلمات التوقف stopwords في أول 10 تغريدات "
   ]
  },
  {
   "cell_type": "code",
   "execution_count": 276,
   "id": "3880caad",
   "metadata": {},
   "outputs": [
    {
     "data": {
      "text/plain": [
       "['sylvie guillem tamara rojo anna pavlova aced ballet round',\n",
       " 'one struggle make ends meet illinois without budget',\n",
       " 'ive never seen men describe realistic woman',\n",
       " 'daily mail eat greens eating fruit vegetables youth protects heart daily mail people',\n",
       " 'build transforming workbench desk storage unit lot space need make cre',\n",
       " 'two sisters beaten held hostage men met facebook',\n",
       " 'kourtney kardashian kris jenner pregnant amp brvbar',\n",
       " 'amy schumer let amp amp talk way talk women sex',\n",
       " 'college recruitment russell wilson',\n",
       " 'childish goin thru phones stupid insecure']"
      ]
     },
     "execution_count": 276,
     "metadata": {},
     "output_type": "execute_result"
    }
   ],
   "source": [
    "stop_words = set(stopwords.words('english'))\n",
    "\n",
    "def remove_stopwords(text):\n",
    "    words = nltk.word_tokenize(text)\n",
    "    words = [word for word in words if word not in stop_words]\n",
    "    return ' '.join(words)\n",
    "\n",
    "for i in range(0,len(tweets)):\n",
    "    tweets[i] = remove_stopwords(tweets[i])\n",
    "\n",
    "tweets[0:10]"
   ]
  },
  {
   "cell_type": "code",
   "execution_count": 277,
   "id": "ba39713b",
   "metadata": {},
   "outputs": [],
   "source": [
    "# إرجاع جذر الكلمة أي بدون جمع "
   ]
  },
  {
   "cell_type": "code",
   "execution_count": 278,
   "id": "980378d2",
   "metadata": {},
   "outputs": [
    {
     "data": {
      "text/plain": [
       "['sylvie guillem tamara rojo anna pavlova aced ballet round',\n",
       " 'one struggle make end meet illinois without budget',\n",
       " 'ive never seen men describe realistic woman',\n",
       " 'daily mail eat green eating fruit vegetable youth protects heart daily mail people',\n",
       " 'build transforming workbench desk storage unit lot space need make cre',\n",
       " 'two sister beaten held hostage men met facebook',\n",
       " 'kourtney kardashian kris jenner pregnant amp brvbar',\n",
       " 'amy schumer let amp amp talk way talk woman sex',\n",
       " 'college recruitment russell wilson',\n",
       " 'childish goin thru phone stupid insecure']"
      ]
     },
     "execution_count": 278,
     "metadata": {},
     "output_type": "execute_result"
    }
   ],
   "source": [
    "from nltk.stem import WordNetLemmatizer\n",
    "\n",
    "lemm = WordNetLemmatizer()\n",
    "\n",
    "def get_root_words(text):\n",
    "    words = nltk.word_tokenize(text)\n",
    "    words = [lemm.lemmatize(word) for word in words]\n",
    "    return \" \".join(words)\n",
    "\n",
    "for i in range(0,len(tweets)):\n",
    "    tweets[i] = get_root_words(tweets[i])\n",
    "\n",
    "tweets[0:10]"
   ]
  },
  {
   "cell_type": "code",
   "execution_count": 279,
   "id": "63a3af74",
   "metadata": {},
   "outputs": [],
   "source": [
    "# هنا تم تنزيل المرادفات في اللغة الإنجليزية "
   ]
  },
  {
   "cell_type": "code",
   "execution_count": 280,
   "id": "c5778286",
   "metadata": {},
   "outputs": [
    {
     "name": "stderr",
     "output_type": "stream",
     "text": [
      "[nltk_data] Downloading package wordnet to\n",
      "[nltk_data]     C:\\Users\\bc\\AppData\\Roaming\\nltk_data...\n",
      "[nltk_data]   Package wordnet is already up-to-date!\n"
     ]
    },
    {
     "data": {
      "text/plain": [
       "True"
      ]
     },
     "execution_count": 280,
     "metadata": {},
     "output_type": "execute_result"
    }
   ],
   "source": [
    "import nltk\n",
    "nltk.download('wordnet')"
   ]
  },
  {
   "cell_type": "code",
   "execution_count": 281,
   "id": "1a93e255",
   "metadata": {},
   "outputs": [
    {
     "data": {
      "text/html": [
       "<div>\n",
       "<style scoped>\n",
       "    .dataframe tbody tr th:only-of-type {\n",
       "        vertical-align: middle;\n",
       "    }\n",
       "\n",
       "    .dataframe tbody tr th {\n",
       "        vertical-align: top;\n",
       "    }\n",
       "\n",
       "    .dataframe thead th {\n",
       "        text-align: right;\n",
       "    }\n",
       "</style>\n",
       "<table border=\"1\" class=\"dataframe\">\n",
       "  <thead>\n",
       "    <tr style=\"text-align: right;\">\n",
       "      <th></th>\n",
       "      <th>_unit_id</th>\n",
       "      <th>_golden</th>\n",
       "      <th>gender</th>\n",
       "      <th>gender:confidence</th>\n",
       "      <th>profile_yn</th>\n",
       "      <th>profile_yn:confidence</th>\n",
       "      <th>description</th>\n",
       "      <th>fav_number</th>\n",
       "      <th>name</th>\n",
       "      <th>retweet_count</th>\n",
       "      <th>text</th>\n",
       "      <th>tweet_count</th>\n",
       "      <th>gender1</th>\n",
       "      <th>profile_yn1</th>\n",
       "      <th>tweets</th>\n",
       "    </tr>\n",
       "  </thead>\n",
       "  <tbody>\n",
       "    <tr>\n",
       "      <th>13637</th>\n",
       "      <td>815733085</td>\n",
       "      <td>False</td>\n",
       "      <td>female</td>\n",
       "      <td>1.0000</td>\n",
       "      <td>yes</td>\n",
       "      <td>1.000</td>\n",
       "      <td>Works for the NHS. Geek. Likes history, politi...</td>\n",
       "      <td>5524</td>\n",
       "      <td>Moonbootica</td>\n",
       "      <td>0</td>\n",
       "      <td>Sylvie Guillem, Tamara Rojo and Anna Pavlova (...</td>\n",
       "      <td>461093</td>\n",
       "      <td>1</td>\n",
       "      <td>0</td>\n",
       "      <td>sylvie guillem tamara rojo anna pavlova aced b...</td>\n",
       "    </tr>\n",
       "    <tr>\n",
       "      <th>16314</th>\n",
       "      <td>815735824</td>\n",
       "      <td>False</td>\n",
       "      <td>female</td>\n",
       "      <td>0.6860</td>\n",
       "      <td>yes</td>\n",
       "      <td>0.686</td>\n",
       "      <td>unofficial roleplayer of گ±ü“__‘چ،“‌« ‘،©‘ّ_“¥م.</td>\n",
       "      <td>206</td>\n",
       "      <td>gdmien</td>\n",
       "      <td>0</td>\n",
       "      <td>One State‰غھs Struggle to Make Ends Meet: Why ...</td>\n",
       "      <td>447153</td>\n",
       "      <td>1</td>\n",
       "      <td>0</td>\n",
       "      <td>one struggle make end meet illinois without bu...</td>\n",
       "    </tr>\n",
       "    <tr>\n",
       "      <th>11671</th>\n",
       "      <td>815731063</td>\n",
       "      <td>False</td>\n",
       "      <td>female</td>\n",
       "      <td>1.0000</td>\n",
       "      <td>yes</td>\n",
       "      <td>1.000</td>\n",
       "      <td>Personification of a Paradox To Shawty Be The ...</td>\n",
       "      <td>2685</td>\n",
       "      <td>Crislex</td>\n",
       "      <td>0</td>\n",
       "      <td>@HRCage and ive never seen men describe a real...</td>\n",
       "      <td>434403</td>\n",
       "      <td>1</td>\n",
       "      <td>0</td>\n",
       "      <td>ive never seen men describe realistic woman</td>\n",
       "    </tr>\n",
       "    <tr>\n",
       "      <th>16283</th>\n",
       "      <td>815735791</td>\n",
       "      <td>False</td>\n",
       "      <td>female</td>\n",
       "      <td>1.0000</td>\n",
       "      <td>yes</td>\n",
       "      <td>1.000</td>\n",
       "      <td>All the news 7/7 &amp; 24/24</td>\n",
       "      <td>0</td>\n",
       "      <td>ShannaIDK</td>\n",
       "      <td>0</td>\n",
       "      <td>Daily Mail Eat your greens! Why eating fruit a...</td>\n",
       "      <td>389295</td>\n",
       "      <td>1</td>\n",
       "      <td>0</td>\n",
       "      <td>daily mail eat green eating fruit vegetable yo...</td>\n",
       "    </tr>\n",
       "    <tr>\n",
       "      <th>15754</th>\n",
       "      <td>815735250</td>\n",
       "      <td>False</td>\n",
       "      <td>female</td>\n",
       "      <td>0.6595</td>\n",
       "      <td>yes</td>\n",
       "      <td>1.000</td>\n",
       "      <td>#God1st#onlygurlfriendlysimplicityisallaboutme...</td>\n",
       "      <td>15</td>\n",
       "      <td>itzmide</td>\n",
       "      <td>0</td>\n",
       "      <td>Build a Transforming Workbench, Desk, and Stor...</td>\n",
       "      <td>379494</td>\n",
       "      <td>1</td>\n",
       "      <td>0</td>\n",
       "      <td>build transforming workbench desk storage unit...</td>\n",
       "    </tr>\n",
       "  </tbody>\n",
       "</table>\n",
       "</div>"
      ],
      "text/plain": [
       "        _unit_id  _golden  gender  gender:confidence profile_yn  \\\n",
       "13637  815733085    False  female             1.0000        yes   \n",
       "16314  815735824    False  female             0.6860        yes   \n",
       "11671  815731063    False  female             1.0000        yes   \n",
       "16283  815735791    False  female             1.0000        yes   \n",
       "15754  815735250    False  female             0.6595        yes   \n",
       "\n",
       "       profile_yn:confidence  \\\n",
       "13637                  1.000   \n",
       "16314                  0.686   \n",
       "11671                  1.000   \n",
       "16283                  1.000   \n",
       "15754                  1.000   \n",
       "\n",
       "                                             description  fav_number  \\\n",
       "13637  Works for the NHS. Geek. Likes history, politi...        5524   \n",
       "16314   unofficial roleplayer of گ±ü“__‘چ،“‌« ‘،©‘ّ_“¥م.         206   \n",
       "11671  Personification of a Paradox To Shawty Be The ...        2685   \n",
       "16283                           All the news 7/7 & 24/24           0   \n",
       "15754  #God1st#onlygurlfriendlysimplicityisallaboutme...          15   \n",
       "\n",
       "              name  retweet_count  \\\n",
       "13637  Moonbootica              0   \n",
       "16314       gdmien              0   \n",
       "11671      Crislex              0   \n",
       "16283    ShannaIDK              0   \n",
       "15754      itzmide              0   \n",
       "\n",
       "                                                    text  tweet_count  \\\n",
       "13637  Sylvie Guillem, Tamara Rojo and Anna Pavlova (...       461093   \n",
       "16314  One State‰غھs Struggle to Make Ends Meet: Why ...       447153   \n",
       "11671  @HRCage and ive never seen men describe a real...       434403   \n",
       "16283  Daily Mail Eat your greens! Why eating fruit a...       389295   \n",
       "15754  Build a Transforming Workbench, Desk, and Stor...       379494   \n",
       "\n",
       "       gender1  profile_yn1                                             tweets  \n",
       "13637        1            0  sylvie guillem tamara rojo anna pavlova aced b...  \n",
       "16314        1            0  one struggle make end meet illinois without bu...  \n",
       "11671        1            0        ive never seen men describe realistic woman  \n",
       "16283        1            0  daily mail eat green eating fruit vegetable yo...  \n",
       "15754        1            0  build transforming workbench desk storage unit...  "
      ]
     },
     "execution_count": 281,
     "metadata": {},
     "output_type": "execute_result"
    }
   ],
   "source": [
    "df['tweets'] = tweets\n",
    "\n",
    "df.head()"
   ]
  },
  {
   "cell_type": "code",
   "execution_count": 282,
   "id": "8a6cdbac",
   "metadata": {},
   "outputs": [
    {
     "data": {
      "text/plain": [
       "_unit_id                 0\n",
       "_golden                  0\n",
       "gender                   0\n",
       "gender:confidence        0\n",
       "profile_yn               0\n",
       "profile_yn:confidence    0\n",
       "description              0\n",
       "fav_number               0\n",
       "name                     0\n",
       "retweet_count            0\n",
       "text                     0\n",
       "tweet_count              0\n",
       "gender1                  0\n",
       "profile_yn1              0\n",
       "tweets                   0\n",
       "dtype: int64"
      ]
     },
     "execution_count": 282,
     "metadata": {},
     "output_type": "execute_result"
    }
   ],
   "source": [
    "df.isnull().sum()"
   ]
  },
  {
   "cell_type": "code",
   "execution_count": 283,
   "id": "6a58d5bc",
   "metadata": {},
   "outputs": [
    {
     "data": {
      "text/html": [
       "<div>\n",
       "<style scoped>\n",
       "    .dataframe tbody tr th:only-of-type {\n",
       "        vertical-align: middle;\n",
       "    }\n",
       "\n",
       "    .dataframe tbody tr th {\n",
       "        vertical-align: top;\n",
       "    }\n",
       "\n",
       "    .dataframe thead th {\n",
       "        text-align: right;\n",
       "    }\n",
       "</style>\n",
       "<table border=\"1\" class=\"dataframe\">\n",
       "  <thead>\n",
       "    <tr style=\"text-align: right;\">\n",
       "      <th></th>\n",
       "      <th>_unit_id</th>\n",
       "      <th>_golden</th>\n",
       "      <th>gender:confidence</th>\n",
       "      <th>profile_yn:confidence</th>\n",
       "      <th>fav_number</th>\n",
       "      <th>retweet_count</th>\n",
       "      <th>tweet_count</th>\n",
       "      <th>gender1</th>\n",
       "      <th>profile_yn1</th>\n",
       "    </tr>\n",
       "  </thead>\n",
       "  <tbody>\n",
       "    <tr>\n",
       "      <th>_unit_id</th>\n",
       "      <td>1.000000</td>\n",
       "      <td>0.214591</td>\n",
       "      <td>-0.018806</td>\n",
       "      <td>0.023865</td>\n",
       "      <td>0.014713</td>\n",
       "      <td>0.010344</td>\n",
       "      <td>-0.015964</td>\n",
       "      <td>-0.058636</td>\n",
       "      <td>NaN</td>\n",
       "    </tr>\n",
       "    <tr>\n",
       "      <th>_golden</th>\n",
       "      <td>0.214591</td>\n",
       "      <td>1.000000</td>\n",
       "      <td>0.009588</td>\n",
       "      <td>0.003950</td>\n",
       "      <td>0.009669</td>\n",
       "      <td>-0.001385</td>\n",
       "      <td>-0.018964</td>\n",
       "      <td>0.015289</td>\n",
       "      <td>NaN</td>\n",
       "    </tr>\n",
       "    <tr>\n",
       "      <th>gender:confidence</th>\n",
       "      <td>-0.018806</td>\n",
       "      <td>0.009588</td>\n",
       "      <td>1.000000</td>\n",
       "      <td>0.224194</td>\n",
       "      <td>-0.027591</td>\n",
       "      <td>-0.001176</td>\n",
       "      <td>-0.064267</td>\n",
       "      <td>-0.040854</td>\n",
       "      <td>NaN</td>\n",
       "    </tr>\n",
       "    <tr>\n",
       "      <th>profile_yn:confidence</th>\n",
       "      <td>0.023865</td>\n",
       "      <td>0.003950</td>\n",
       "      <td>0.224194</td>\n",
       "      <td>1.000000</td>\n",
       "      <td>-0.003811</td>\n",
       "      <td>0.002523</td>\n",
       "      <td>-0.009338</td>\n",
       "      <td>0.008983</td>\n",
       "      <td>NaN</td>\n",
       "    </tr>\n",
       "    <tr>\n",
       "      <th>fav_number</th>\n",
       "      <td>0.014713</td>\n",
       "      <td>0.009669</td>\n",
       "      <td>-0.027591</td>\n",
       "      <td>-0.003811</td>\n",
       "      <td>1.000000</td>\n",
       "      <td>0.018040</td>\n",
       "      <td>0.209406</td>\n",
       "      <td>-0.065026</td>\n",
       "      <td>NaN</td>\n",
       "    </tr>\n",
       "    <tr>\n",
       "      <th>retweet_count</th>\n",
       "      <td>0.010344</td>\n",
       "      <td>-0.001385</td>\n",
       "      <td>-0.001176</td>\n",
       "      <td>0.002523</td>\n",
       "      <td>0.018040</td>\n",
       "      <td>1.000000</td>\n",
       "      <td>0.002462</td>\n",
       "      <td>0.014413</td>\n",
       "      <td>NaN</td>\n",
       "    </tr>\n",
       "    <tr>\n",
       "      <th>tweet_count</th>\n",
       "      <td>-0.015964</td>\n",
       "      <td>-0.018964</td>\n",
       "      <td>-0.064267</td>\n",
       "      <td>-0.009338</td>\n",
       "      <td>0.209406</td>\n",
       "      <td>0.002462</td>\n",
       "      <td>1.000000</td>\n",
       "      <td>-0.001760</td>\n",
       "      <td>NaN</td>\n",
       "    </tr>\n",
       "    <tr>\n",
       "      <th>gender1</th>\n",
       "      <td>-0.058636</td>\n",
       "      <td>0.015289</td>\n",
       "      <td>-0.040854</td>\n",
       "      <td>0.008983</td>\n",
       "      <td>-0.065026</td>\n",
       "      <td>0.014413</td>\n",
       "      <td>-0.001760</td>\n",
       "      <td>1.000000</td>\n",
       "      <td>NaN</td>\n",
       "    </tr>\n",
       "    <tr>\n",
       "      <th>profile_yn1</th>\n",
       "      <td>NaN</td>\n",
       "      <td>NaN</td>\n",
       "      <td>NaN</td>\n",
       "      <td>NaN</td>\n",
       "      <td>NaN</td>\n",
       "      <td>NaN</td>\n",
       "      <td>NaN</td>\n",
       "      <td>NaN</td>\n",
       "      <td>NaN</td>\n",
       "    </tr>\n",
       "  </tbody>\n",
       "</table>\n",
       "</div>"
      ],
      "text/plain": [
       "                       _unit_id   _golden  gender:confidence  \\\n",
       "_unit_id               1.000000  0.214591          -0.018806   \n",
       "_golden                0.214591  1.000000           0.009588   \n",
       "gender:confidence     -0.018806  0.009588           1.000000   \n",
       "profile_yn:confidence  0.023865  0.003950           0.224194   \n",
       "fav_number             0.014713  0.009669          -0.027591   \n",
       "retweet_count          0.010344 -0.001385          -0.001176   \n",
       "tweet_count           -0.015964 -0.018964          -0.064267   \n",
       "gender1               -0.058636  0.015289          -0.040854   \n",
       "profile_yn1                 NaN       NaN                NaN   \n",
       "\n",
       "                       profile_yn:confidence  fav_number  retweet_count  \\\n",
       "_unit_id                            0.023865    0.014713       0.010344   \n",
       "_golden                             0.003950    0.009669      -0.001385   \n",
       "gender:confidence                   0.224194   -0.027591      -0.001176   \n",
       "profile_yn:confidence               1.000000   -0.003811       0.002523   \n",
       "fav_number                         -0.003811    1.000000       0.018040   \n",
       "retweet_count                       0.002523    0.018040       1.000000   \n",
       "tweet_count                        -0.009338    0.209406       0.002462   \n",
       "gender1                             0.008983   -0.065026       0.014413   \n",
       "profile_yn1                              NaN         NaN            NaN   \n",
       "\n",
       "                       tweet_count   gender1  profile_yn1  \n",
       "_unit_id                 -0.015964 -0.058636          NaN  \n",
       "_golden                  -0.018964  0.015289          NaN  \n",
       "gender:confidence        -0.064267 -0.040854          NaN  \n",
       "profile_yn:confidence    -0.009338  0.008983          NaN  \n",
       "fav_number                0.209406 -0.065026          NaN  \n",
       "retweet_count             0.002462  0.014413          NaN  \n",
       "tweet_count               1.000000 -0.001760          NaN  \n",
       "gender1                  -0.001760  1.000000          NaN  \n",
       "profile_yn1                    NaN       NaN          NaN  "
      ]
     },
     "execution_count": 283,
     "metadata": {},
     "output_type": "execute_result"
    }
   ],
   "source": [
    "df.corr() #لمعرفة درجة الإرتباط بين الخصائص "
   ]
  },
  {
   "cell_type": "code",
   "execution_count": 284,
   "id": "33346576",
   "metadata": {},
   "outputs": [],
   "source": [
    "df['description'] = df['description'].astype('string') "
   ]
  },
  {
   "cell_type": "code",
   "execution_count": 285,
   "id": "62242c0f",
   "metadata": {},
   "outputs": [],
   "source": [
    "df['name'] = df['name'].astype('string') "
   ]
  },
  {
   "cell_type": "code",
   "execution_count": 286,
   "id": "fdf897a4",
   "metadata": {},
   "outputs": [],
   "source": [
    "df['text'] = df['text'].astype('string') "
   ]
  },
  {
   "cell_type": "code",
   "execution_count": 287,
   "id": "c27bb7f8",
   "metadata": {},
   "outputs": [],
   "source": [
    "df['tweets'] = df['tweets'].astype('string') "
   ]
  },
  {
   "cell_type": "code",
   "execution_count": 288,
   "id": "5c4fcdfe",
   "metadata": {},
   "outputs": [
    {
     "name": "stdout",
     "output_type": "stream",
     "text": [
      "<class 'pandas.core.frame.DataFrame'>\n",
      "Int64Index: 9806 entries, 13637 to 8772\n",
      "Data columns (total 15 columns):\n",
      " #   Column                 Non-Null Count  Dtype  \n",
      "---  ------                 --------------  -----  \n",
      " 0   _unit_id               9806 non-null   int64  \n",
      " 1   _golden                9806 non-null   bool   \n",
      " 2   gender                 9806 non-null   object \n",
      " 3   gender:confidence      9806 non-null   float64\n",
      " 4   profile_yn             9806 non-null   object \n",
      " 5   profile_yn:confidence  9806 non-null   float64\n",
      " 6   description            9806 non-null   string \n",
      " 7   fav_number             9806 non-null   int64  \n",
      " 8   name                   9806 non-null   string \n",
      " 9   retweet_count          9806 non-null   int64  \n",
      " 10  text                   9806 non-null   string \n",
      " 11  tweet_count            9806 non-null   int64  \n",
      " 12  gender1                9806 non-null   int32  \n",
      " 13  profile_yn1            9806 non-null   int32  \n",
      " 14  tweets                 9806 non-null   string \n",
      "dtypes: bool(1), float64(2), int32(2), int64(4), object(2), string(4)\n",
      "memory usage: 1.1+ MB\n"
     ]
    }
   ],
   "source": [
    "df.info()"
   ]
  },
  {
   "cell_type": "markdown",
   "id": "877462b1",
   "metadata": {},
   "source": [
    "# Step 3: EDA\n"
   ]
  },
  {
   "cell_type": "markdown",
   "id": "7f1c6763",
   "metadata": {},
   "source": [
    "Data Visualization"
   ]
  },
  {
   "cell_type": "code",
   "execution_count": 289,
   "id": "79626dd8",
   "metadata": {},
   "outputs": [
    {
     "data": {
      "image/png": "[encoded data removed]",
      "text/plain": [
       "<Figure size 720x360 with 1 Axes>"
      ]
     },
     "metadata": {
      "needs_background": "light"
     },
     "output_type": "display_data"
    }
   ],
   "source": [
    "fig = plt.figure(figsize = (10, 5))\n",
    "#  Bar plot\n",
    "plt.bar(df['gender1'],df['gender1'], color ='lightblue',\n",
    "        width = 0.5)\n",
    "plt.xlabel(\"Gender*\")\n",
    "plt.ylabel(\"Gender\")\n",
    "plt.title(\"Gender\")\n",
    "plt.show()"
   ]
  },
  {
   "cell_type": "code",
   "execution_count": 290,
   "id": "0b8d2c09",
   "metadata": {},
   "outputs": [],
   "source": [
    "#  رسم بياني يوضح علاقة مصداقية الجنس مع الجنس نفسه "
   ]
  },
  {
   "cell_type": "code",
   "execution_count": 291,
   "id": "7ba8f931",
   "metadata": {},
   "outputs": [
    {
     "data": {
      "image/png": "[encoded data removed]",
      "text/plain": [
       "<Figure size 1080x432 with 1 Axes>"
      ]
     },
     "metadata": {
      "needs_background": "light"
     },
     "output_type": "display_data"
    }
   ],
   "source": [
    "fig, ax = plt.subplots(figsize=(15,6))\n",
    "ax.scatter(df['gender:confidence'], df['gender1'])\n",
    "ax.set_xlabel('Gender Confidence')\n",
    "ax.set_ylabel('Gender')\n",
    "plt.title(\"Gender Confidence\")\n",
    "plt.show()"
   ]
  },
  {
   "cell_type": "code",
   "execution_count": 292,
   "id": "c78ac713",
   "metadata": {},
   "outputs": [],
   "source": [
    "# رسم بياني يوضح عدد التغريدات "
   ]
  },
  {
   "cell_type": "code",
   "execution_count": 293,
   "id": "c61866bf",
   "metadata": {},
   "outputs": [
    {
     "data": {
      "text/plain": [
       "Text(0.5, 1.0, 'Tweet Count')"
      ]
     },
     "execution_count": 293,
     "metadata": {},
     "output_type": "execute_result"
    },
    {
     "data": {
      "image/png": "[encoded data removed]",
      "text/plain": [
       "<Figure size 432x288 with 1 Axes>"
      ]
     },
     "metadata": {
      "needs_background": "light"
     },
     "output_type": "display_data"
    }
   ],
   "source": [
    "sb.boxplot(x=df['tweet_count'])\n",
    "plt.title(\"Tweet Count\")"
   ]
  },
  {
   "cell_type": "code",
   "execution_count": 294,
   "id": "390ca930",
   "metadata": {},
   "outputs": [],
   "source": [
    "#رسم بياني يوضح عدد التغريدات لكل جنس "
   ]
  },
  {
   "cell_type": "code",
   "execution_count": 295,
   "id": "970a7eb1",
   "metadata": {},
   "outputs": [
    {
     "data": {
      "image/png": "[encoded data removed]",
      "text/plain": [
       "<Figure size 1080x432 with 1 Axes>"
      ]
     },
     "metadata": {
      "needs_background": "light"
     },
     "output_type": "display_data"
    }
   ],
   "source": [
    "fig, ax = plt.subplots(figsize=(15,6))\n",
    "ax.scatter(df['tweet_count'], df['gender1'])\n",
    "ax.set_xlabel('Number of Tweets')\n",
    "ax.set_ylabel('Gender')\n",
    "plt.title(\"Number of Tweets\")\n",
    "plt.show()"
   ]
  },
  {
   "cell_type": "code",
   "execution_count": 296,
   "id": "f6821e5e",
   "metadata": {},
   "outputs": [],
   "source": [
    "# رسم بياني يوضح العلاقات بين الأعمدة "
   ]
  },
  {
   "cell_type": "code",
   "execution_count": 297,
   "id": "0b98bde1",
   "metadata": {},
   "outputs": [],
   "source": [
    "# رسم بياني يوضح العلاقات بين الأعمدة من خلال القيمة المطلقة للإرتباط مع وضوح الأرقام "
   ]
  },
  {
   "cell_type": "code",
   "execution_count": 298,
   "id": "3014396b",
   "metadata": {},
   "outputs": [
    {
     "data": {
      "text/plain": [
       "Text(0.5, 1.0, 'The Dataset')"
      ]
     },
     "execution_count": 298,
     "metadata": {},
     "output_type": "execute_result"
    },
    {
     "data": {
      "image/png": "[encoded data removed]",
      "text/plain": [
       "<Figure size 1440x1080 with 2 Axes>"
      ]
     },
     "metadata": {
      "needs_background": "light"
     },
     "output_type": "display_data"
    }
   ],
   "source": [
    "import seaborn as sb\n",
    "plt.subplots(figsize=(20,15))\n",
    "sb.heatmap(df.corr(), annot=True)\n",
    "plt.title(\"The Dataset\")\n",
    "\n"
   ]
  },
  {
   "cell_type": "code",
   "execution_count": 299,
   "id": "4250646c",
   "metadata": {},
   "outputs": [],
   "source": [
    "#16 رسم بياني يوضح علاقة الأعمدة بعضها ببعض "
   ]
  },
  {
   "cell_type": "code",
   "execution_count": 300,
   "id": "51aef976",
   "metadata": {},
   "outputs": [
    {
     "data": {
      "image/png": "[encoded data removed]",
      "text/plain": [
       "<Figure size 720x720 with 20 Axes>"
      ]
     },
     "metadata": {
      "needs_background": "light"
     },
     "output_type": "display_data"
    }
   ],
   "source": [
    "# the pair plot \n",
    "import seaborn as sns\n",
    "sns.pairplot(data=df,vars=['profile_yn:confidence', 'fav_number','retweet_count', 'gender1',])\n",
    "plt.show()\n"
   ]
  },
  {
   "cell_type": "code",
   "execution_count": 301,
   "id": "28c8c554",
   "metadata": {},
   "outputs": [
    {
     "data": {
      "text/html": [
       "<div>\n",
       "<style scoped>\n",
       "    .dataframe tbody tr th:only-of-type {\n",
       "        vertical-align: middle;\n",
       "    }\n",
       "\n",
       "    .dataframe tbody tr th {\n",
       "        vertical-align: top;\n",
       "    }\n",
       "\n",
       "    .dataframe thead th {\n",
       "        text-align: right;\n",
       "    }\n",
       "</style>\n",
       "<table border=\"1\" class=\"dataframe\">\n",
       "  <thead>\n",
       "    <tr style=\"text-align: right;\">\n",
       "      <th></th>\n",
       "      <th>_unit_id</th>\n",
       "      <th>_golden</th>\n",
       "      <th>gender</th>\n",
       "      <th>gender:confidence</th>\n",
       "      <th>profile_yn</th>\n",
       "      <th>profile_yn:confidence</th>\n",
       "      <th>description</th>\n",
       "      <th>fav_number</th>\n",
       "      <th>name</th>\n",
       "      <th>retweet_count</th>\n",
       "      <th>text</th>\n",
       "      <th>tweet_count</th>\n",
       "      <th>gender1</th>\n",
       "      <th>profile_yn1</th>\n",
       "      <th>tweets</th>\n",
       "    </tr>\n",
       "  </thead>\n",
       "  <tbody>\n",
       "    <tr>\n",
       "      <th>13637</th>\n",
       "      <td>815733085</td>\n",
       "      <td>False</td>\n",
       "      <td>female</td>\n",
       "      <td>1.0000</td>\n",
       "      <td>yes</td>\n",
       "      <td>1.000</td>\n",
       "      <td>Works for the NHS. Geek. Likes history, politi...</td>\n",
       "      <td>5524</td>\n",
       "      <td>Moonbootica</td>\n",
       "      <td>0</td>\n",
       "      <td>Sylvie Guillem, Tamara Rojo and Anna Pavlova (...</td>\n",
       "      <td>461093</td>\n",
       "      <td>1</td>\n",
       "      <td>0</td>\n",
       "      <td>sylvie guillem tamara rojo anna pavlova aced b...</td>\n",
       "    </tr>\n",
       "    <tr>\n",
       "      <th>16314</th>\n",
       "      <td>815735824</td>\n",
       "      <td>False</td>\n",
       "      <td>female</td>\n",
       "      <td>0.6860</td>\n",
       "      <td>yes</td>\n",
       "      <td>0.686</td>\n",
       "      <td>unofficial roleplayer of گ±ü“__‘چ،“‌« ‘،©‘ّ_“¥م.</td>\n",
       "      <td>206</td>\n",
       "      <td>gdmien</td>\n",
       "      <td>0</td>\n",
       "      <td>One State‰غھs Struggle to Make Ends Meet: Why ...</td>\n",
       "      <td>447153</td>\n",
       "      <td>1</td>\n",
       "      <td>0</td>\n",
       "      <td>one struggle make end meet illinois without bu...</td>\n",
       "    </tr>\n",
       "    <tr>\n",
       "      <th>11671</th>\n",
       "      <td>815731063</td>\n",
       "      <td>False</td>\n",
       "      <td>female</td>\n",
       "      <td>1.0000</td>\n",
       "      <td>yes</td>\n",
       "      <td>1.000</td>\n",
       "      <td>Personification of a Paradox To Shawty Be The ...</td>\n",
       "      <td>2685</td>\n",
       "      <td>Crislex</td>\n",
       "      <td>0</td>\n",
       "      <td>@HRCage and ive never seen men describe a real...</td>\n",
       "      <td>434403</td>\n",
       "      <td>1</td>\n",
       "      <td>0</td>\n",
       "      <td>ive never seen men describe realistic woman</td>\n",
       "    </tr>\n",
       "    <tr>\n",
       "      <th>16283</th>\n",
       "      <td>815735791</td>\n",
       "      <td>False</td>\n",
       "      <td>female</td>\n",
       "      <td>1.0000</td>\n",
       "      <td>yes</td>\n",
       "      <td>1.000</td>\n",
       "      <td>All the news 7/7 &amp; 24/24</td>\n",
       "      <td>0</td>\n",
       "      <td>ShannaIDK</td>\n",
       "      <td>0</td>\n",
       "      <td>Daily Mail Eat your greens! Why eating fruit a...</td>\n",
       "      <td>389295</td>\n",
       "      <td>1</td>\n",
       "      <td>0</td>\n",
       "      <td>daily mail eat green eating fruit vegetable yo...</td>\n",
       "    </tr>\n",
       "    <tr>\n",
       "      <th>15754</th>\n",
       "      <td>815735250</td>\n",
       "      <td>False</td>\n",
       "      <td>female</td>\n",
       "      <td>0.6595</td>\n",
       "      <td>yes</td>\n",
       "      <td>1.000</td>\n",
       "      <td>#God1st#onlygurlfriendlysimplicityisallaboutme...</td>\n",
       "      <td>15</td>\n",
       "      <td>itzmide</td>\n",
       "      <td>0</td>\n",
       "      <td>Build a Transforming Workbench, Desk, and Stor...</td>\n",
       "      <td>379494</td>\n",
       "      <td>1</td>\n",
       "      <td>0</td>\n",
       "      <td>build transforming workbench desk storage unit...</td>\n",
       "    </tr>\n",
       "    <tr>\n",
       "      <th>...</th>\n",
       "      <td>...</td>\n",
       "      <td>...</td>\n",
       "      <td>...</td>\n",
       "      <td>...</td>\n",
       "      <td>...</td>\n",
       "      <td>...</td>\n",
       "      <td>...</td>\n",
       "      <td>...</td>\n",
       "      <td>...</td>\n",
       "      <td>...</td>\n",
       "      <td>...</td>\n",
       "      <td>...</td>\n",
       "      <td>...</td>\n",
       "      <td>...</td>\n",
       "      <td>...</td>\n",
       "    </tr>\n",
       "    <tr>\n",
       "      <th>5345</th>\n",
       "      <td>815724653</td>\n",
       "      <td>False</td>\n",
       "      <td>male</td>\n",
       "      <td>1.0000</td>\n",
       "      <td>yes</td>\n",
       "      <td>1.000</td>\n",
       "      <td>Georgetown MSB'17 - G150 Rower, ë£ëشë¥, @Chubb...</td>\n",
       "      <td>1351</td>\n",
       "      <td>Tucker_Cowden</td>\n",
       "      <td>0</td>\n",
       "      <td>\"You'll need this in your job, no matter what ...</td>\n",
       "      <td>1004</td>\n",
       "      <td>2</td>\n",
       "      <td>0</td>\n",
       "      <td>need job matter banking accounting welcome msb</td>\n",
       "    </tr>\n",
       "    <tr>\n",
       "      <th>18709</th>\n",
       "      <td>815738275</td>\n",
       "      <td>False</td>\n",
       "      <td>male</td>\n",
       "      <td>1.0000</td>\n",
       "      <td>yes</td>\n",
       "      <td>1.000</td>\n",
       "      <td>Bank regulator. CPA.</td>\n",
       "      <td>516</td>\n",
       "      <td>jeff_lang</td>\n",
       "      <td>0</td>\n",
       "      <td>@Wu_Tang_Finance Coincidental that MO, CO, WI,...</td>\n",
       "      <td>1004</td>\n",
       "      <td>2</td>\n",
       "      <td>0</td>\n",
       "      <td>coincidental mo co wi pa pretty low large brew...</td>\n",
       "    </tr>\n",
       "    <tr>\n",
       "      <th>8608</th>\n",
       "      <td>815727940</td>\n",
       "      <td>False</td>\n",
       "      <td>male</td>\n",
       "      <td>1.0000</td>\n",
       "      <td>yes</td>\n",
       "      <td>1.000</td>\n",
       "      <td>76 years young. A Houston Texan fan (Oilers go...</td>\n",
       "      <td>3499</td>\n",
       "      <td>nobulltexan</td>\n",
       "      <td>0</td>\n",
       "      <td>Would the Texans &amp;amp; Colts swap coaches &amp;amp...</td>\n",
       "      <td>1003</td>\n",
       "      <td>2</td>\n",
       "      <td>0</td>\n",
       "      <td>would texan amp colt swap coach amp gm</td>\n",
       "    </tr>\n",
       "    <tr>\n",
       "      <th>882</th>\n",
       "      <td>815720111</td>\n",
       "      <td>False</td>\n",
       "      <td>male</td>\n",
       "      <td>1.0000</td>\n",
       "      <td>yes</td>\n",
       "      <td>1.000</td>\n",
       "      <td>San Diego</td>\n",
       "      <td>174</td>\n",
       "      <td>omgitscharms</td>\n",
       "      <td>0</td>\n",
       "      <td>It's such a prefect day to go to the beach</td>\n",
       "      <td>1002</td>\n",
       "      <td>2</td>\n",
       "      <td>0</td>\n",
       "      <td>prefect day go beach</td>\n",
       "    </tr>\n",
       "    <tr>\n",
       "      <th>8772</th>\n",
       "      <td>815728106</td>\n",
       "      <td>False</td>\n",
       "      <td>male</td>\n",
       "      <td>0.6732</td>\n",
       "      <td>yes</td>\n",
       "      <td>1.000</td>\n",
       "      <td>¯¤ôم¯¤ôؤôِô ¯» ¯¤ôم¯آ¯ّô_¯ّ ¯¬¯_¯ّ ôة¯¤ ¯¤ôمôâ...</td>\n",
       "      <td>79</td>\n",
       "      <td>Bassmaazz</td>\n",
       "      <td>0</td>\n",
       "      <td>Follow The queen Of stage \n",
       "_ظشن_ظشن @MabelleCh...</td>\n",
       "      <td>1000</td>\n",
       "      <td>2</td>\n",
       "      <td>0</td>\n",
       "      <td>follow queen stage</td>\n",
       "    </tr>\n",
       "  </tbody>\n",
       "</table>\n",
       "<p>9806 rows × 15 columns</p>\n",
       "</div>"
      ],
      "text/plain": [
       "        _unit_id  _golden  gender  gender:confidence profile_yn  \\\n",
       "13637  815733085    False  female             1.0000        yes   \n",
       "16314  815735824    False  female             0.6860        yes   \n",
       "11671  815731063    False  female             1.0000        yes   \n",
       "16283  815735791    False  female             1.0000        yes   \n",
       "15754  815735250    False  female             0.6595        yes   \n",
       "...          ...      ...     ...                ...        ...   \n",
       "5345   815724653    False    male             1.0000        yes   \n",
       "18709  815738275    False    male             1.0000        yes   \n",
       "8608   815727940    False    male             1.0000        yes   \n",
       "882    815720111    False    male             1.0000        yes   \n",
       "8772   815728106    False    male             0.6732        yes   \n",
       "\n",
       "       profile_yn:confidence  \\\n",
       "13637                  1.000   \n",
       "16314                  0.686   \n",
       "11671                  1.000   \n",
       "16283                  1.000   \n",
       "15754                  1.000   \n",
       "...                      ...   \n",
       "5345                   1.000   \n",
       "18709                  1.000   \n",
       "8608                   1.000   \n",
       "882                    1.000   \n",
       "8772                   1.000   \n",
       "\n",
       "                                             description  fav_number  \\\n",
       "13637  Works for the NHS. Geek. Likes history, politi...        5524   \n",
       "16314   unofficial roleplayer of گ±ü“__‘چ،“‌« ‘،©‘ّ_“¥م.         206   \n",
       "11671  Personification of a Paradox To Shawty Be The ...        2685   \n",
       "16283                           All the news 7/7 & 24/24           0   \n",
       "15754  #God1st#onlygurlfriendlysimplicityisallaboutme...          15   \n",
       "...                                                  ...         ...   \n",
       "5345   Georgetown MSB'17 - G150 Rower, ë£ëشë¥, @Chubb...        1351   \n",
       "18709                               Bank regulator. CPA.         516   \n",
       "8608   76 years young. A Houston Texan fan (Oilers go...        3499   \n",
       "882                                            San Diego         174   \n",
       "8772   ¯¤ôم¯¤ôؤôِô ¯» ¯¤ôم¯آ¯ّô_¯ّ ¯¬¯_¯ّ ôة¯¤ ¯¤ôمôâ...          79   \n",
       "\n",
       "                name  retweet_count  \\\n",
       "13637    Moonbootica              0   \n",
       "16314         gdmien              0   \n",
       "11671        Crislex              0   \n",
       "16283      ShannaIDK              0   \n",
       "15754        itzmide              0   \n",
       "...              ...            ...   \n",
       "5345   Tucker_Cowden              0   \n",
       "18709      jeff_lang              0   \n",
       "8608     nobulltexan              0   \n",
       "882     omgitscharms              0   \n",
       "8772       Bassmaazz              0   \n",
       "\n",
       "                                                    text  tweet_count  \\\n",
       "13637  Sylvie Guillem, Tamara Rojo and Anna Pavlova (...       461093   \n",
       "16314  One State‰غھs Struggle to Make Ends Meet: Why ...       447153   \n",
       "11671  @HRCage and ive never seen men describe a real...       434403   \n",
       "16283  Daily Mail Eat your greens! Why eating fruit a...       389295   \n",
       "15754  Build a Transforming Workbench, Desk, and Stor...       379494   \n",
       "...                                                  ...          ...   \n",
       "5345   \"You'll need this in your job, no matter what ...         1004   \n",
       "18709  @Wu_Tang_Finance Coincidental that MO, CO, WI,...         1004   \n",
       "8608   Would the Texans &amp; Colts swap coaches &amp...         1003   \n",
       "882           It's such a prefect day to go to the beach         1002   \n",
       "8772   Follow The queen Of stage \n",
       "_ظشن_ظشن @MabelleCh...         1000   \n",
       "\n",
       "       gender1  profile_yn1                                             tweets  \n",
       "13637        1            0  sylvie guillem tamara rojo anna pavlova aced b...  \n",
       "16314        1            0  one struggle make end meet illinois without bu...  \n",
       "11671        1            0        ive never seen men describe realistic woman  \n",
       "16283        1            0  daily mail eat green eating fruit vegetable yo...  \n",
       "15754        1            0  build transforming workbench desk storage unit...  \n",
       "...        ...          ...                                                ...  \n",
       "5345         2            0     need job matter banking accounting welcome msb  \n",
       "18709        2            0  coincidental mo co wi pa pretty low large brew...  \n",
       "8608         2            0             would texan amp colt swap coach amp gm  \n",
       "882          2            0                               prefect day go beach  \n",
       "8772         2            0                                 follow queen stage  \n",
       "\n",
       "[9806 rows x 15 columns]"
      ]
     },
     "execution_count": 301,
     "metadata": {},
     "output_type": "execute_result"
    }
   ],
   "source": [
    "df.to_csv('data2.csv')\n",
    "df"
   ]
  },
  {
   "cell_type": "code",
   "execution_count": 302,
   "id": "84b61e44",
   "metadata": {},
   "outputs": [
    {
     "data": {
      "text/plain": [
       "Index(['_unit_id', '_golden', 'gender', 'gender:confidence', 'profile_yn',\n",
       "       'profile_yn:confidence', 'description', 'fav_number', 'name',\n",
       "       'retweet_count', 'text', 'tweet_count', 'gender1', 'profile_yn1',\n",
       "       'tweets'],\n",
       "      dtype='object')"
      ]
     },
     "execution_count": 302,
     "metadata": {},
     "output_type": "execute_result"
    }
   ],
   "source": [
    "df.columns"
   ]
  },
  {
   "cell_type": "code",
   "execution_count": 303,
   "id": "82908a98",
   "metadata": {},
   "outputs": [
    {
     "name": "stdout",
     "output_type": "stream",
     "text": [
      "<class 'pandas.core.frame.DataFrame'>\n",
      "Int64Index: 9806 entries, 13637 to 8772\n",
      "Data columns (total 15 columns):\n",
      " #   Column                 Non-Null Count  Dtype  \n",
      "---  ------                 --------------  -----  \n",
      " 0   _unit_id               9806 non-null   int64  \n",
      " 1   _golden                9806 non-null   bool   \n",
      " 2   gender                 9806 non-null   object \n",
      " 3   gender:confidence      9806 non-null   float64\n",
      " 4   profile_yn             9806 non-null   object \n",
      " 5   profile_yn:confidence  9806 non-null   float64\n",
      " 6   description            9806 non-null   string \n",
      " 7   fav_number             9806 non-null   int64  \n",
      " 8   name                   9806 non-null   string \n",
      " 9   retweet_count          9806 non-null   int64  \n",
      " 10  text                   9806 non-null   string \n",
      " 11  tweet_count            9806 non-null   int64  \n",
      " 12  gender1                9806 non-null   int32  \n",
      " 13  profile_yn1            9806 non-null   int32  \n",
      " 14  tweets                 9806 non-null   string \n",
      "dtypes: bool(1), float64(2), int32(2), int64(4), object(2), string(4)\n",
      "memory usage: 1.3+ MB\n"
     ]
    }
   ],
   "source": [
    "df.info()"
   ]
  },
  {
   "cell_type": "markdown",
   "id": "c32fb0ba",
   "metadata": {},
   "source": [
    "# Step 4: Model"
   ]
  },
  {
   "cell_type": "markdown",
   "id": "287ea0dc",
   "metadata": {},
   "source": [
    "Building a Model which predicts the gender based on the numerical values given in the data\n",
    "Here we use the following algorithms:\n",
    "1. Logistic Regression\n",
    "2. Decision Tree Classifier\n",
    "3. Gaussian Naive-Bayes\n",
    "4. Random Forest Classifier\n",
    "5. K-Nearest Neighbours"
   ]
  },
  {
   "cell_type": "code",
   "execution_count": 304,
   "id": "e5caf978",
   "metadata": {},
   "outputs": [],
   "source": [
    "#تقسيم البيانات لمجموعتين لبداية المودلنق( الإختبار و التدريب ) "
   ]
  },
  {
   "cell_type": "code",
   "execution_count": 305,
   "id": "b7085009",
   "metadata": {},
   "outputs": [],
   "source": [
    "X = df[['gender:confidence','fav_number', 'retweet_count', 'tweet_count']].values\n",
    "Y = df[['gender1']].values"
   ]
  },
  {
   "cell_type": "code",
   "execution_count": 306,
   "id": "daf5b5a4",
   "metadata": {},
   "outputs": [],
   "source": [
    "from sklearn.model_selection import train_test_split"
   ]
  },
  {
   "cell_type": "code",
   "execution_count": 307,
   "id": "9a966364",
   "metadata": {},
   "outputs": [],
   "source": [
    "X_train, X_test, Y_train, Y_test = train_test_split(X, Y, test_size = 0.2, random_state = 0)"
   ]
  },
  {
   "cell_type": "code",
   "execution_count": 308,
   "id": "4e427faf",
   "metadata": {},
   "outputs": [
    {
     "data": {
      "text/plain": [
       "((7844, 4), (1962, 4), (7844, 1), (1962, 1))"
      ]
     },
     "execution_count": 308,
     "metadata": {},
     "output_type": "execute_result"
    }
   ],
   "source": [
    "X_train.shape, X_test.shape, Y_train.shape, Y_test.shape"
   ]
  },
  {
   "cell_type": "code",
   "execution_count": 384,
   "id": "c443a4e7",
   "metadata": {},
   "outputs": [],
   "source": [
    "from sklearn.metrics import accuracy_score, precision_score, recall_score"
   ]
  },
  {
   "cell_type": "markdown",
   "id": "beca47cc",
   "metadata": {},
   "source": [
    "1. Logistic Regression"
   ]
  },
  {
   "cell_type": "code",
   "execution_count": 309,
   "id": "9c3b9455",
   "metadata": {},
   "outputs": [],
   "source": [
    "# نقوم بتطبيق الإنحدار اللوجستي "
   ]
  },
  {
   "cell_type": "code",
   "execution_count": 310,
   "id": "a280e595",
   "metadata": {},
   "outputs": [],
   "source": [
    "from sklearn.linear_model import LogisticRegression"
   ]
  },
  {
   "cell_type": "code",
   "execution_count": 311,
   "id": "74d9de5d",
   "metadata": {},
   "outputs": [],
   "source": [
    "lr = LogisticRegression()"
   ]
  },
  {
   "cell_type": "code",
   "execution_count": 312,
   "id": "6c7b6205",
   "metadata": {},
   "outputs": [
    {
     "data": {
      "text/plain": [
       "LogisticRegression()"
      ]
     },
     "execution_count": 312,
     "metadata": {},
     "output_type": "execute_result"
    }
   ],
   "source": [
    "lr.fit(X_train, np.ravel(Y_train))"
   ]
  },
  {
   "cell_type": "code",
   "execution_count": 313,
   "id": "64b578ea",
   "metadata": {},
   "outputs": [
    {
     "data": {
      "text/plain": [
       "0.5290519877675841"
      ]
     },
     "execution_count": 313,
     "metadata": {},
     "output_type": "execute_result"
    }
   ],
   "source": [
    "lr.score(X_test, Y_test)"
   ]
  },
  {
   "cell_type": "code",
   "execution_count": 314,
   "id": "36e9b26b",
   "metadata": {},
   "outputs": [
    {
     "data": {
      "text/plain": [
       "0.5405405405405406"
      ]
     },
     "execution_count": 314,
     "metadata": {},
     "output_type": "execute_result"
    }
   ],
   "source": [
    "lr.score(X_train, Y_train)"
   ]
  },
  {
   "cell_type": "code",
   "execution_count": 389,
   "id": "369f6a70",
   "metadata": {},
   "outputs": [
    {
     "data": {
      "text/plain": [
       "0.5856269113149847"
      ]
     },
     "execution_count": 389,
     "metadata": {},
     "output_type": "execute_result"
    }
   ],
   "source": [
    "pred1 = lr.predict(X_test)\n",
    "\n",
    "accuracy_score(pred1,Y_test)"
   ]
  },
  {
   "cell_type": "markdown",
   "id": "92d825c3",
   "metadata": {},
   "source": [
    "2. Decision Tree Classifier"
   ]
  },
  {
   "cell_type": "code",
   "execution_count": 315,
   "id": "0fd3ee89",
   "metadata": {},
   "outputs": [],
   "source": [
    "# التصنيف باستخدام أشجار القرار "
   ]
  },
  {
   "cell_type": "code",
   "execution_count": 316,
   "id": "1865c144",
   "metadata": {},
   "outputs": [],
   "source": [
    "from sklearn.tree import DecisionTreeClassifier "
   ]
  },
  {
   "cell_type": "code",
   "execution_count": 317,
   "id": "142840fd",
   "metadata": {},
   "outputs": [],
   "source": [
    "dtc=DecisionTreeClassifier(random_state = 0)"
   ]
  },
  {
   "cell_type": "code",
   "execution_count": 318,
   "id": "7422274c",
   "metadata": {},
   "outputs": [
    {
     "data": {
      "text/plain": [
       "DecisionTreeClassifier(random_state=0)"
      ]
     },
     "execution_count": 318,
     "metadata": {},
     "output_type": "execute_result"
    }
   ],
   "source": [
    "dtc.fit(X_train,Y_train)"
   ]
  },
  {
   "cell_type": "code",
   "execution_count": 319,
   "id": "cecec0a9",
   "metadata": {},
   "outputs": [
    {
     "data": {
      "text/plain": [
       "0.5575942915392457"
      ]
     },
     "execution_count": 319,
     "metadata": {},
     "output_type": "execute_result"
    }
   ],
   "source": [
    "dtc.score(X_test,Y_test)"
   ]
  },
  {
   "cell_type": "code",
   "execution_count": 320,
   "id": "b7225fa5",
   "metadata": {},
   "outputs": [
    {
     "data": {
      "text/plain": [
       "0.9997450280469148"
      ]
     },
     "execution_count": 320,
     "metadata": {},
     "output_type": "execute_result"
    }
   ],
   "source": [
    "dtc.score(X_train, Y_train)"
   ]
  },
  {
   "cell_type": "code",
   "execution_count": 390,
   "id": "bde731eb",
   "metadata": {},
   "outputs": [
    {
     "data": {
      "text/plain": [
       "0.5524974515800204"
      ]
     },
     "execution_count": 390,
     "metadata": {},
     "output_type": "execute_result"
    }
   ],
   "source": [
    "pred2 = dtc.predict(X_test)\n",
    "\n",
    "accuracy_score(pred2,Y_test)"
   ]
  },
  {
   "cell_type": "markdown",
   "id": "c89bdc73",
   "metadata": {},
   "source": [
    "3. Gaussian Naive-Bayes"
   ]
  },
  {
   "cell_type": "code",
   "execution_count": 391,
   "id": "7fb5c8c9",
   "metadata": {},
   "outputs": [],
   "source": [
    "#خوارزمية بايزي "
   ]
  },
  {
   "cell_type": "code",
   "execution_count": 392,
   "id": "9377d011",
   "metadata": {},
   "outputs": [],
   "source": [
    "from sklearn.naive_bayes import GaussianNB"
   ]
  },
  {
   "cell_type": "code",
   "execution_count": 393,
   "id": "cb33e117",
   "metadata": {},
   "outputs": [
    {
     "data": {
      "text/plain": [
       "GaussianNB()"
      ]
     },
     "execution_count": 393,
     "metadata": {},
     "output_type": "execute_result"
    }
   ],
   "source": [
    "gnb = GaussianNB()\n",
    "gnb.fit(X_train,np.ravel(Y_train))"
   ]
  },
  {
   "cell_type": "code",
   "execution_count": 394,
   "id": "94f3f77f",
   "metadata": {},
   "outputs": [
    {
     "data": {
      "text/plain": [
       "0.5581039755351682"
      ]
     },
     "execution_count": 394,
     "metadata": {},
     "output_type": "execute_result"
    }
   ],
   "source": [
    "gnb.score(X_test,Y_test)"
   ]
  },
  {
   "cell_type": "code",
   "execution_count": 395,
   "id": "94ddfa0f",
   "metadata": {},
   "outputs": [
    {
     "data": {
      "text/plain": [
       "0.8103008669046405"
      ]
     },
     "execution_count": 395,
     "metadata": {},
     "output_type": "execute_result"
    }
   ],
   "source": [
    "gnb.score(X_train, Y_train)"
   ]
  },
  {
   "cell_type": "code",
   "execution_count": 396,
   "id": "29449c6c",
   "metadata": {},
   "outputs": [
    {
     "data": {
      "text/plain": [
       "0.5581039755351682"
      ]
     },
     "execution_count": 396,
     "metadata": {},
     "output_type": "execute_result"
    }
   ],
   "source": [
    "pred3 = gnb.predict(X_test)\n",
    "\n",
    "accuracy_score(pred3,Y_test)"
   ]
  },
  {
   "cell_type": "markdown",
   "id": "3e9b6896",
   "metadata": {},
   "source": [
    "4. Random Forest Classifier"
   ]
  },
  {
   "cell_type": "code",
   "execution_count": 397,
   "id": "93362bcb",
   "metadata": {},
   "outputs": [],
   "source": [
    "# خوارزمية تعلم ألة (غابة عشوائية)"
   ]
  },
  {
   "cell_type": "code",
   "execution_count": 398,
   "id": "327b99e8",
   "metadata": {},
   "outputs": [],
   "source": [
    "from sklearn.ensemble import RandomForestClassifier"
   ]
  },
  {
   "cell_type": "code",
   "execution_count": 399,
   "id": "43cea117",
   "metadata": {},
   "outputs": [
    {
     "data": {
      "text/plain": [
       "RandomForestClassifier(random_state=0)"
      ]
     },
     "execution_count": 399,
     "metadata": {},
     "output_type": "execute_result"
    }
   ],
   "source": [
    "rf = RandomForestClassifier(random_state = 0)\n",
    "rf.fit(X_train,np.ravel(Y_train))"
   ]
  },
  {
   "cell_type": "code",
   "execution_count": 400,
   "id": "2463df8e",
   "metadata": {},
   "outputs": [
    {
     "data": {
      "text/plain": [
       "0.5708460754332314"
      ]
     },
     "execution_count": 400,
     "metadata": {},
     "output_type": "execute_result"
    }
   ],
   "source": [
    "rf.score(X_test,Y_test)"
   ]
  },
  {
   "cell_type": "code",
   "execution_count": 401,
   "id": "d6b46c13",
   "metadata": {},
   "outputs": [
    {
     "data": {
      "text/plain": [
       "0.9831718510963794"
      ]
     },
     "execution_count": 401,
     "metadata": {},
     "output_type": "execute_result"
    }
   ],
   "source": [
    "rf.score(X_train, Y_train)"
   ]
  },
  {
   "cell_type": "code",
   "execution_count": 402,
   "id": "769f6471",
   "metadata": {},
   "outputs": [
    {
     "data": {
      "text/plain": [
       "0.5708460754332314"
      ]
     },
     "execution_count": 402,
     "metadata": {},
     "output_type": "execute_result"
    }
   ],
   "source": [
    "pred4 = rf.predict(X_test)\n",
    "\n",
    "accuracy_score(pred4,Y_test)"
   ]
  },
  {
   "cell_type": "markdown",
   "id": "2a8b3cd5",
   "metadata": {},
   "source": [
    "5. K-Nearest Neighbours"
   ]
  },
  {
   "cell_type": "code",
   "execution_count": 403,
   "id": "4d16e2a4",
   "metadata": {},
   "outputs": [],
   "source": [
    "#خوارزمية الجيران "
   ]
  },
  {
   "cell_type": "code",
   "execution_count": 404,
   "id": "5af80cf0",
   "metadata": {},
   "outputs": [],
   "source": [
    "from sklearn.neighbors import KNeighborsClassifier"
   ]
  },
  {
   "cell_type": "code",
   "execution_count": 405,
   "id": "415cb737",
   "metadata": {},
   "outputs": [],
   "source": [
    "knn = KNeighborsClassifier()"
   ]
  },
  {
   "cell_type": "code",
   "execution_count": 406,
   "id": "4de769aa",
   "metadata": {},
   "outputs": [
    {
     "data": {
      "text/plain": [
       "KNeighborsClassifier()"
      ]
     },
     "execution_count": 406,
     "metadata": {},
     "output_type": "execute_result"
    }
   ],
   "source": [
    "knn.fit(X_train,np.ravel(Y_train))"
   ]
  },
  {
   "cell_type": "code",
   "execution_count": 407,
   "id": "20d775f7",
   "metadata": {},
   "outputs": [
    {
     "data": {
      "text/plain": [
       "0.5265035677879715"
      ]
     },
     "execution_count": 407,
     "metadata": {},
     "output_type": "execute_result"
    }
   ],
   "source": [
    "knn.score(X_test,Y_test)"
   ]
  },
  {
   "cell_type": "code",
   "execution_count": 408,
   "id": "e5769e4f",
   "metadata": {},
   "outputs": [
    {
     "data": {
      "text/plain": [
       "0.6895716471188169"
      ]
     },
     "execution_count": 408,
     "metadata": {},
     "output_type": "execute_result"
    }
   ],
   "source": [
    "knn.score(X_train, Y_train)"
   ]
  },
  {
   "cell_type": "code",
   "execution_count": 409,
   "id": "23a92d98",
   "metadata": {},
   "outputs": [
    {
     "data": {
      "text/plain": [
       "0.5265035677879715"
      ]
     },
     "execution_count": 409,
     "metadata": {},
     "output_type": "execute_result"
    }
   ],
   "source": [
    "pred5 = knn.predict(X_test)\n",
    "\n",
    "accuracy_score(pred5,Y_test)"
   ]
  },
  {
   "cell_type": "markdown",
   "id": "8d3ecad4",
   "metadata": {},
   "source": [
    "Building a Model which predicts the gender based on the tweet text\n",
    "Here I used the following algorithms:\n",
    "1. Multinomial Naive-Bayes\n",
    "2. Decision Tree Classifier\n",
    "3. Random Forest Classifier\n",
    "4. Gaussian Naive-Bayes\n",
    "5. Logistic Regression\n"
   ]
  },
  {
   "cell_type": "code",
   "execution_count": 344,
   "id": "40bd72c3",
   "metadata": {},
   "outputs": [],
   "source": [
    "# العمل  على تشفير التغريدات ليسهل التعامل معها "
   ]
  },
  {
   "cell_type": "code",
   "execution_count": 345,
   "id": "f561eec0",
   "metadata": {},
   "outputs": [],
   "source": [
    "from sklearn.feature_extraction.text import CountVectorizer"
   ]
  },
  {
   "cell_type": "code",
   "execution_count": 346,
   "id": "15c2a9fd",
   "metadata": {},
   "outputs": [
    {
     "data": {
      "text/plain": [
       "array(['female', 'male'], dtype=object)"
      ]
     },
     "execution_count": 346,
     "metadata": {},
     "output_type": "execute_result"
    }
   ],
   "source": [
    "cv = CountVectorizer(ngram_range = (1,3),max_features = 10000)\n",
    "\n",
    "X = cv.fit_transform(df['tweets'])\n",
    "\n",
    "df['gender'].unique()"
   ]
  },
  {
   "cell_type": "code",
   "execution_count": 347,
   "id": "220e5cee",
   "metadata": {},
   "outputs": [],
   "source": [
    "y = df['gender1']"
   ]
  },
  {
   "cell_type": "code",
   "execution_count": 348,
   "id": "22708f04",
   "metadata": {},
   "outputs": [],
   "source": [
    "X_train,X_test,y_train,y_test = train_test_split(X,y,test_size = 0.2,random_state = 0)"
   ]
  },
  {
   "cell_type": "code",
   "execution_count": 381,
   "id": "abb6dfcb",
   "metadata": {},
   "outputs": [],
   "source": [
    "# أولاً حساب  التنبؤ ثم حساب الدقة بين التنبؤ و الاختبار "
   ]
  },
  {
   "cell_type": "markdown",
   "id": "c4999955",
   "metadata": {},
   "source": [
    " Multinomial Naive-Bayes"
   ]
  },
  {
   "cell_type": "code",
   "execution_count": 382,
   "id": "385d346a",
   "metadata": {},
   "outputs": [
    {
     "data": {
      "text/plain": [
       "0.5958205912334352"
      ]
     },
     "execution_count": 382,
     "metadata": {},
     "output_type": "execute_result"
    }
   ],
   "source": [
    "from sklearn.naive_bayes import MultinomialNB\n",
    "\n",
    "nb = MultinomialNB()\n",
    "nb.fit(X_train,y_train)\n",
    "pred1 = nb.predict(X_test)\n",
    "\n",
    "from sklearn.metrics import accuracy_score\n",
    "accuracy_score(pred1,y_test)"
   ]
  },
  {
   "cell_type": "markdown",
   "id": "0fef5d93",
   "metadata": {},
   "source": [
    "Decision Tree Classifier"
   ]
  },
  {
   "cell_type": "code",
   "execution_count": 383,
   "id": "dfa6dfcf",
   "metadata": {},
   "outputs": [
    {
     "data": {
      "text/plain": [
       "0.5524974515800204"
      ]
     },
     "execution_count": 383,
     "metadata": {},
     "output_type": "execute_result"
    }
   ],
   "source": [
    "dtc.fit(X_train,y_train)\n",
    "pred2 = dtc.predict(X_test)\n",
    "\n",
    "accuracy_score(pred2,y_test)"
   ]
  },
  {
   "cell_type": "markdown",
   "id": "2d59c0db",
   "metadata": {},
   "source": [
    " Random Forest Classifier"
   ]
  },
  {
   "cell_type": "code",
   "execution_count": 352,
   "id": "a2fb370e",
   "metadata": {},
   "outputs": [
    {
     "data": {
      "text/plain": [
       "0.5708460754332314"
      ]
     },
     "execution_count": 352,
     "metadata": {},
     "output_type": "execute_result"
    }
   ],
   "source": [
    "rf.fit(X_train,y_train)\n",
    "pred3 = rf.predict(X_test)\n",
    "\n",
    "accuracy_score(pred3,y_test)"
   ]
  },
  {
   "cell_type": "markdown",
   "id": "40746f73",
   "metadata": {},
   "source": [
    " Logistic Regression"
   ]
  },
  {
   "cell_type": "code",
   "execution_count": 353,
   "id": "4c9a3764",
   "metadata": {},
   "outputs": [
    {
     "data": {
      "text/plain": [
       "0.5856269113149847"
      ]
     },
     "execution_count": 353,
     "metadata": {},
     "output_type": "execute_result"
    }
   ],
   "source": [
    "X_test = X_test.toarray()\n",
    "X_train = X_train.toarray()\n",
    "lr.fit(X_train,y_train)\n",
    "pred5 = lr.predict(X_test)\n",
    "\n",
    "accuracy_score(pred5,y_test)"
   ]
  },
  {
   "cell_type": "code",
   "execution_count": 356,
   "id": "52222a56",
   "metadata": {},
   "outputs": [
    {
     "name": "stdout",
     "output_type": "stream",
     "text": [
      "Requirement already satisfied: yellowbrick in c:\\users\\bc\\anaconda3\\envs\\metis\\lib\\site-packages (1.3.post1)\n",
      "Requirement already satisfied: matplotlib!=3.0.0,>=2.0.2 in c:\\users\\bc\\anaconda3\\envs\\metis\\lib\\site-packages (from yellowbrick) (3.5.0)\n",
      "Requirement already satisfied: numpy<1.20,>=1.16.0 in c:\\users\\bc\\anaconda3\\envs\\metis\\lib\\site-packages (from yellowbrick) (1.19.5)\n",
      "Requirement already satisfied: cycler>=0.10.0 in c:\\users\\bc\\anaconda3\\envs\\metis\\lib\\site-packages (from yellowbrick) (0.11.0)\n",
      "Requirement already satisfied: scikit-learn>=0.20 in c:\\users\\bc\\anaconda3\\envs\\metis\\lib\\site-packages (from yellowbrick) (1.0.1)\n",
      "Requirement already satisfied: scipy>=1.0.0 in c:\\users\\bc\\anaconda3\\envs\\metis\\lib\\site-packages (from yellowbrick) (1.7.2)\n",
      "Requirement already satisfied: pyparsing>=2.2.1 in c:\\users\\bc\\anaconda3\\envs\\metis\\lib\\site-packages (from matplotlib!=3.0.0,>=2.0.2->yellowbrick) (3.0.6)\n",
      "Requirement already satisfied: kiwisolver>=1.0.1 in c:\\users\\bc\\anaconda3\\envs\\metis\\lib\\site-packages (from matplotlib!=3.0.0,>=2.0.2->yellowbrick) (1.3.2)\n",
      "Requirement already satisfied: fonttools>=4.22.0 in c:\\users\\bc\\anaconda3\\envs\\metis\\lib\\site-packages (from matplotlib!=3.0.0,>=2.0.2->yellowbrick) (4.28.2)\n",
      "Requirement already satisfied: pillow>=6.2.0 in c:\\users\\bc\\anaconda3\\envs\\metis\\lib\\site-packages (from matplotlib!=3.0.0,>=2.0.2->yellowbrick) (8.4.0)\n",
      "Requirement already satisfied: python-dateutil>=2.7 in c:\\users\\bc\\anaconda3\\envs\\metis\\lib\\site-packages (from matplotlib!=3.0.0,>=2.0.2->yellowbrick) (2.8.2)\n",
      "Requirement already satisfied: packaging>=20.0 in c:\\users\\bc\\anaconda3\\envs\\metis\\lib\\site-packages (from matplotlib!=3.0.0,>=2.0.2->yellowbrick) (21.3)\n",
      "Requirement already satisfied: joblib>=0.11 in c:\\users\\bc\\anaconda3\\envs\\metis\\lib\\site-packages (from scikit-learn>=0.20->yellowbrick) (1.1.0)\n",
      "Requirement already satisfied: threadpoolctl>=2.0.0 in c:\\users\\bc\\anaconda3\\envs\\metis\\lib\\site-packages (from scikit-learn>=0.20->yellowbrick) (3.0.0)\n",
      "Requirement already satisfied: six>=1.5 in c:\\users\\bc\\anaconda3\\envs\\metis\\lib\\site-packages (from python-dateutil>=2.7->matplotlib!=3.0.0,>=2.0.2->yellowbrick) (1.16.0)\n"
     ]
    }
   ],
   "source": [
    "!pip install -U yellowbrick"
   ]
  },
  {
   "cell_type": "code",
   "execution_count": 357,
   "id": "2d834fbf",
   "metadata": {},
   "outputs": [
    {
     "name": "stdout",
     "output_type": "stream",
     "text": [
      "Requirement already satisfied: yellowbrick in c:\\users\\bc\\anaconda3\\envs\\metis\\lib\\site-packages (1.3.post1)\n",
      "Requirement already satisfied: scikit-learn>=0.20 in c:\\users\\bc\\anaconda3\\envs\\metis\\lib\\site-packages (from yellowbrick) (1.0.1)\n",
      "Requirement already satisfied: cycler>=0.10.0 in c:\\users\\bc\\anaconda3\\envs\\metis\\lib\\site-packages (from yellowbrick) (0.11.0)\n",
      "Requirement already satisfied: numpy<1.20,>=1.16.0 in c:\\users\\bc\\anaconda3\\envs\\metis\\lib\\site-packages (from yellowbrick) (1.19.5)\n",
      "Requirement already satisfied: scipy>=1.0.0 in c:\\users\\bc\\anaconda3\\envs\\metis\\lib\\site-packages (from yellowbrick) (1.7.2)\n",
      "Requirement already satisfied: matplotlib!=3.0.0,>=2.0.2 in c:\\users\\bc\\anaconda3\\envs\\metis\\lib\\site-packages (from yellowbrick) (3.5.0)\n",
      "Requirement already satisfied: packaging>=20.0 in c:\\users\\bc\\anaconda3\\envs\\metis\\lib\\site-packages (from matplotlib!=3.0.0,>=2.0.2->yellowbrick) (21.3)\n",
      "Requirement already satisfied: pyparsing>=2.2.1 in c:\\users\\bc\\anaconda3\\envs\\metis\\lib\\site-packages (from matplotlib!=3.0.0,>=2.0.2->yellowbrick) (3.0.6)\n",
      "Requirement already satisfied: python-dateutil>=2.7 in c:\\users\\bc\\anaconda3\\envs\\metis\\lib\\site-packages (from matplotlib!=3.0.0,>=2.0.2->yellowbrick) (2.8.2)\n",
      "Requirement already satisfied: pillow>=6.2.0 in c:\\users\\bc\\anaconda3\\envs\\metis\\lib\\site-packages (from matplotlib!=3.0.0,>=2.0.2->yellowbrick) (8.4.0)\n",
      "Requirement already satisfied: kiwisolver>=1.0.1 in c:\\users\\bc\\anaconda3\\envs\\metis\\lib\\site-packages (from matplotlib!=3.0.0,>=2.0.2->yellowbrick) (1.3.2)\n",
      "Requirement already satisfied: fonttools>=4.22.0 in c:\\users\\bc\\anaconda3\\envs\\metis\\lib\\site-packages (from matplotlib!=3.0.0,>=2.0.2->yellowbrick) (4.28.2)\n",
      "Requirement already satisfied: threadpoolctl>=2.0.0 in c:\\users\\bc\\anaconda3\\envs\\metis\\lib\\site-packages (from scikit-learn>=0.20->yellowbrick) (3.0.0)\n",
      "Requirement already satisfied: joblib>=0.11 in c:\\users\\bc\\anaconda3\\envs\\metis\\lib\\site-packages (from scikit-learn>=0.20->yellowbrick) (1.1.0)\n",
      "Requirement already satisfied: six>=1.5 in c:\\users\\bc\\anaconda3\\envs\\metis\\lib\\site-packages (from python-dateutil>=2.7->matplotlib!=3.0.0,>=2.0.2->yellowbrick) (1.16.0)\n"
     ]
    }
   ],
   "source": [
    "! pip install yellowbrick"
   ]
  },
  {
   "cell_type": "markdown",
   "id": "cce11e9d",
   "metadata": {},
   "source": [
    "Q.1:What are the most common emotions/words used by Males and Females?"
   ]
  },
  {
   "cell_type": "code",
   "execution_count": 358,
   "id": "17623d8e",
   "metadata": {},
   "outputs": [],
   "source": [
    "# تشفير التغريدات كلن على حدة الميل لحال و الفيميل لحال "
   ]
  },
  {
   "cell_type": "code",
   "execution_count": 359,
   "id": "d87dbb7b",
   "metadata": {
    "scrolled": false
   },
   "outputs": [],
   "source": [
    "from sklearn.feature_extraction.text import CountVectorizer\n",
    "\n",
    "from yellowbrick.text import FreqDistVisualizer"
   ]
  },
  {
   "cell_type": "code",
   "execution_count": 360,
   "id": "af4387c9",
   "metadata": {},
   "outputs": [],
   "source": [
    "male_df = df[df['gender'] == 'male']\n",
    "female_df = df[df['gender'] == 'female']"
   ]
  },
  {
   "cell_type": "code",
   "execution_count": 361,
   "id": "8bc770ea",
   "metadata": {},
   "outputs": [],
   "source": [
    "cvm = CountVectorizer()\n",
    "cvf = CountVectorizer()\n",
    "\n",
    "Xm = cvm.fit_transform(male_df['tweets'])\n",
    "Xf = cvf.fit_transform(female_df['tweets'])"
   ]
  },
  {
   "cell_type": "code",
   "execution_count": 362,
   "id": "ca31de9a",
   "metadata": {},
   "outputs": [],
   "source": [
    "#للرجال  الان توزيع تردد الرمز المميز "
   ]
  },
  {
   "cell_type": "code",
   "execution_count": 375,
   "id": "f3f7f64a",
   "metadata": {},
   "outputs": [
    {
     "name": "stderr",
     "output_type": "stream",
     "text": [
      "C:\\Users\\bc\\anaconda3\\envs\\metis\\lib\\site-packages\\sklearn\\utils\\deprecation.py:87: FutureWarning: Function get_feature_names is deprecated; get_feature_names is deprecated in 1.0 and will be removed in 1.2. Please use get_feature_names_out instead.\n",
      "  warnings.warn(msg, category=FutureWarning)\n"
     ]
    },
    {
     "data": {
      "image/png": "[encoded data removed]",
      "text/plain": [
       "<Figure size 1080x720 with 1 Axes>"
      ]
     },
     "metadata": {
      "needs_background": "light"
     },
     "output_type": "display_data"
    },
    {
     "data": {
      "text/plain": [
       "<AxesSubplot:title={'center':'Frequency Distribution of Top 100 tokens'}>"
      ]
     },
     "execution_count": 375,
     "metadata": {},
     "output_type": "execute_result"
    }
   ],
   "source": [
    "featuresm   = cvm.get_feature_names()\n",
    "\n",
    "visualizerm = FreqDistVisualizer(features=featuresm, orient='v',size=(1080, 720),n = 100)\n",
    "visualizerm.fit(Xm)\n",
    "visualizerm.show()"
   ]
  },
  {
   "cell_type": "code",
   "execution_count": 376,
   "id": "dc34d18d",
   "metadata": {},
   "outputs": [],
   "source": [
    "# توزيع تردد الرمز المميز للنساء "
   ]
  },
  {
   "cell_type": "code",
   "execution_count": 365,
   "id": "25afc3db",
   "metadata": {},
   "outputs": [
    {
     "data": {
      "image/png": "[encoded data removed]",
      "text/plain": [
       "<Figure size 1080x720 with 1 Axes>"
      ]
     },
     "metadata": {
      "needs_background": "light"
     },
     "output_type": "display_data"
    },
    {
     "data": {
      "text/plain": [
       "<AxesSubplot:title={'center':'Frequency Distribution of Top 100 tokens'}>"
      ]
     },
     "execution_count": 365,
     "metadata": {},
     "output_type": "execute_result"
    }
   ],
   "source": [
    "featuresf   = cvf.get_feature_names()\n",
    "\n",
    "visualizerf = FreqDistVisualizer(features=featuresf, orient='v',size=(1080, 720),n = 100)\n",
    "visualizerf.fit(Xf)\n",
    "visualizerm.show()"
   ]
  },
  {
   "cell_type": "markdown",
   "id": "3776f955",
   "metadata": {},
   "source": [
    "# Step 5: conclusion"
   ]
  },
  {
   "cell_type": "markdown",
   "id": "634a1fac",
   "metadata": {},
   "source": [
    "The 5 most common words used by females are 'like', 'get', 'one', 'love', 'day'.\n",
    "The 5 most common words used by males are 'like', 'get', 'one', 'time', 'go'."
   ]
  }
 ],
 "metadata": {
  "kernelspec": {
   "display_name": "Python 3 (ipykernel)",
   "language": "python",
   "name": "python3"
  },
  "language_info": {
   "codemirror_mode": {
    "name": "ipython",
    "version": 3
   },
   "file_extension": ".py",
   "mimetype": "text/x-python",
   "name": "python",
   "nbconvert_exporter": "python",
   "pygments_lexer": "ipython3",
   "version": "3.9.7"
  }
 },
 "nbformat": 4,
 "nbformat_minor": 5
}
